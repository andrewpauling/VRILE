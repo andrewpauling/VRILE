{
 "cells": [
  {
   "cell_type": "code",
   "execution_count": 1,
   "metadata": {},
   "outputs": [],
   "source": [
    "#This Notebook is intended to reproduce figures 2 and 3 of McGraw and Barnes (2018) (can be found at:\n",
    "# https://journals.ametsoc.org/doi/full/10.1175/JCLI-D-17-0334.1)\n",
    "import numpy as np\n",
    "import matplotlib.pyplot as plt\n",
    "from sklearn import linear_model\n",
    "from sklearn.metrics import mean_squared_error, r2_score\n",
    "import pandas as pd\n",
    "\n",
    "def lagged_regress(lag,alpha,X,Y):\n",
    "    #lag: maximum lag\n",
    "    #alpha: significance level\n",
    "    #X, Y: time series (we're regressing Y on X)\n",
    "    len_x = len(X)\n",
    "    len_y = len(Y)\n",
    "    N = len_x\n",
    "    #create lagged X and Y \n",
    "    index_vec = np.arange(0,N)\n",
    "    x_lag = np.empty((N,lag))\n",
    "    x_lag[:] = np.nan\n",
    "    y_lag = np.empty((N,lag))\n",
    "    y_lag[:] = np.nan\n",
    "    for ilag in np.arange(0,lag):\n",
    "        for i_ind in np.arange(0,N):\n",
    "            index_i = index_vec[i_ind] - ilag\n",
    "            if (index_i < 1) or (index_i > N):\n",
    "                continue\n",
    "            else:\n",
    "                x_lag[i_ind,ilag] = X[index_i]\n",
    "                y_lag[i_ind,ilag] = Y[index_i]\n",
    "    #Now do the regression\n",
    "    lm = linear_model.LinearRegression()\n",
    "    model = lm.fit(x_lag,y_lag)\n",
    "    predictions = lm.predict(x_lag)\n",
    "    R2 = lm.score(x_lag,y_lag)\n",
    "    B = lm.coeff_\n",
    "    return R2, B\n",
    "    "
   ]
  },
  {
   "cell_type": "code",
   "execution_count": 22,
   "metadata": {},
   "outputs": [
    {
     "name": "stdout",
     "output_type": "stream",
     "text": [
      "(499,)\n",
      "[[1.         0.99497137]\n",
      " [0.99497137 1.        ]]\n"
     ]
    }
   ],
   "source": [
    "#1. Define Monte Carlo simulation parameters\n",
    "N = 550 #length of our synthetic data\n",
    "ntimes = 100 #number of Monte Carlo simulations\n",
    "sig_level = 0.05 #significance level\n",
    "a_y = np.arange(0,0.95,0.05) #range of autocorrelations for our dependent variable\n",
    "noise = [0.005,0.1,0.25,0.5,0.75,0.8,0.95,1,1.25,1.5,2,2.5,3,4,5,6,7,8,9,10,12,15] #amount of noise in our independent variable\n",
    "max_lag = 2\n",
    "\n",
    "#for i_alpha in a_y:\n",
    "i_alpha = 0.8\n",
    "i_noise = 0.25\n",
    "i_lag = 1\n",
    "i_times = 0\n",
    "#    for i_noise in noise:\n",
    "#        for i_lag in np.arange(1,max_lag+1):\n",
    "#            for i_times in np.arange(0,ntimes):\n",
    "imax_lag = 10\n",
    "#Create the independent variable, Y, a red-noise time series with autocorrelation i_alpha. \n",
    "y_red = np.zeros(N,)\n",
    "for ired in np.arange(1,N):\n",
    "    #Version of the red-noise time series with non-standardized variance\n",
    "    y_red[ired] = i_alpha*y_red[ired - 1] + np.random.randn(1,)\n",
    "    #Version of the red-noise time series with standardized variance\n",
    "    #y_red[ired] = i_alpha*y_red[ired - 1] + np.sqrt(1 - i_alpha**2)*np.random.randn(1,)\n",
    "                \n",
    "#Now create our dependent variable, X, from lagged Y with some noise\n",
    "x_red = np.zeros(N,)\n",
    "for mred in np.arange(i_lag+49,N):\n",
    "    x_red[mred] = y_red[mred - i_lag] + i_noise*np.random.randn(1,)\n",
    "    \n",
    "#Remove the first 50 elements of the time series\n",
    "y_i = y_red[50:-1,]\n",
    "x_i = x_red[50:-1,]\n",
    "#Standardize the time series\n",
    "y_st = (y_i - np.nanmean(y_i))/np.nanstd(y_i)\n",
    "x_st = (x_i - np.nanmean(x_i))/np.nanstd(x_i)\n",
    "N_adj = len(x_st) #adjusted length\n",
    "\n",
    "print(y_st.shape)\n",
    "#print(x_st[1:11])\n",
    "print(np.corrcoef(y_st[0:10],x_st[1:11]))"
   ]
  },
  {
   "cell_type": "code",
   "execution_count": 23,
   "metadata": {},
   "outputs": [],
   "source": [
    "##Now, we perform the regressions\n",
    "#1) standard lagged regression \n",
    "#Plot x_red and y_red\n",
    "#print(len(np.arange(i_lag+49,N)))\n",
    "#print(N)\n",
    "#fig1 = plt.figure()\n",
    "#ax1 = fig1.add_axes([0.1,0.1,0.8,0.8])\n",
    "#ax1.plot(y_red,'k')\n",
    "#ax1.plot(x_red,'r')\n",
    "x_st_df = pd.DataFrame(x_st)\n",
    "X_LAG = pd.DataFrame(x_st)\n",
    "Y_LAG = pd.DataFrame(y_st)\n",
    "y_st_df = pd.DataFrame(y_st)\n",
    "#Create our lagged time series\n",
    "for i in np.arange(1,max_lag+1):\n",
    "    X_LAG[i] = x_st_df.shift(i)\n",
    "    Y_LAG[i] = y_st_df.shift(i)\n",
    "#X_LAG = [pd.DataFrame(x_st).shift(i) for i in np.arange(1,max_lag)]\n",
    "#print(X_LAG.shape)"
   ]
  },
  {
   "cell_type": "code",
   "execution_count": 31,
   "metadata": {},
   "outputs": [
    {
     "name": "stdout",
     "output_type": "stream",
     "text": [
      "[[0.64416993]]\n",
      "[[0.81376172]\n",
      " [0.64416993]\n",
      " [0.51325193]]\n"
     ]
    }
   ],
   "source": [
    "lm = linear_model.LinearRegression()\n",
    "lm2 = linear_model.LinearRegression()\n",
    "X_single_test = X_LAG.iloc[5:-1,1]\n",
    "X_test = X_single_test.values.reshape(-1,1)\n",
    "Y_test = Y_LAG.iloc[5:-1,0].values.reshape(-1,1)\n",
    "lm.fit(Y_test,X_test)\n",
    "t2 = lm2.fit(Y_test,X_LAG.iloc[5:-1,:])\n",
    "#other_dir = lm2.fit(Y_LAG.iloc[5:-1,1],X_LAG.iloc[5:-1,1])\n",
    "#print(lm.coef_)\n",
    "coeffs = lm.coef_\n",
    "coeffs2 = lm2.coef_\n",
    "#R2 = r2_score(X_LAG.iloc[5:-1,:],Y_LAG.iloc[5:-1,:])\n",
    "#R2_other = r2_score(Y_LAG.iloc[5:-1,:],X_LAG.iloc[5:-1,:])\n",
    "#print(R2)\n",
    "#print(X_LAG.shape)\n",
    "print(coeffs)\n",
    "print(coeffs2)\n",
    "#print(R2_other)\n",
    "#print(coeffs_other)"
   ]
  },
  {
   "cell_type": "code",
   "execution_count": null,
   "metadata": {},
   "outputs": [],
   "source": []
  },
  {
   "cell_type": "code",
   "execution_count": null,
   "metadata": {},
   "outputs": [],
   "source": []
  }
 ],
 "metadata": {
  "kernelspec": {
   "display_name": "Python 3",
   "language": "python",
   "name": "python3"
  },
  "language_info": {
   "codemirror_mode": {
    "name": "ipython",
    "version": 3
   },
   "file_extension": ".py",
   "mimetype": "text/x-python",
   "name": "python",
   "nbconvert_exporter": "python",
   "pygments_lexer": "ipython3",
   "version": "3.7.3"
  }
 },
 "nbformat": 4,
 "nbformat_minor": 2
}
