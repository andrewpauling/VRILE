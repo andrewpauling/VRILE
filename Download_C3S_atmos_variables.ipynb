{
 "cells": [
  {
   "cell_type": "code",
   "execution_count": 1,
   "metadata": {},
   "outputs": [],
   "source": [
    "import cdsapi\n",
    "c = cdsapi.Client()\n"
   ]
  },
  {
   "cell_type": "code",
   "execution_count": 3,
   "metadata": {},
   "outputs": [
    {
     "name": "stderr",
     "output_type": "stream",
     "text": [
      "2019-08-20 16:02:33,836 INFO Sending request to https://cds.climate.copernicus.edu/api/v2/resources/seasonal-original-pressure-levels\n",
      "2019-08-20 16:02:33,843 WARNING Recovering from connection error [HTTPSConnectionPool(host='cds.climate.copernicus.edu', port=443): Max retries exceeded with url: /api/v2/resources/seasonal-original-pressure-levels (Caused by NewConnectionError('<urllib3.connection.VerifiedHTTPSConnection object at 0x7fa4272fb748>: Failed to establish a new connection: [Errno -2] Name or service not known'))], attemps 0 of 500\n",
      "2019-08-20 16:02:33,844 WARNING Retrying in 120 seconds\n",
      "2019-08-20 16:04:33,921 INFO Retrying now...\n",
      "2019-08-20 16:04:33,929 WARNING Recovering from connection error [HTTPSConnectionPool(host='cds.climate.copernicus.edu', port=443): Max retries exceeded with url: /api/v2/resources/seasonal-original-pressure-levels (Caused by NewConnectionError('<urllib3.connection.VerifiedHTTPSConnection object at 0x7fa4272fb5c0>: Failed to establish a new connection: [Errno -2] Name or service not known'))], attemps 1 of 500\n",
      "2019-08-20 16:04:33,930 WARNING Retrying in 120 seconds\n"
     ]
    },
    {
     "ename": "KeyboardInterrupt",
     "evalue": "",
     "output_type": "error",
     "traceback": [
      "\u001b[0;31m---------------------------------------------------------------------------\u001b[0m",
      "\u001b[0;31mKeyboardInterrupt\u001b[0m                         Traceback (most recent call last)",
      "\u001b[0;32m<ipython-input-3-29ea30f13975>\u001b[0m in \u001b[0;36m<module>\u001b[0;34m\u001b[0m\n\u001b[1;32m     57\u001b[0m         ]\n\u001b[1;32m     58\u001b[0m     },\n\u001b[0;32m---> 59\u001b[0;31m     'download.grib')\n\u001b[0m",
      "\u001b[0;32m~/anaconda3/lib/python3.7/site-packages/cdsapi/api.py\u001b[0m in \u001b[0;36mretrieve\u001b[0;34m(self, name, request, target)\u001b[0m\n\u001b[1;32m    308\u001b[0m \u001b[0;34m\u001b[0m\u001b[0m\n\u001b[1;32m    309\u001b[0m     \u001b[0;32mdef\u001b[0m \u001b[0mretrieve\u001b[0m\u001b[0;34m(\u001b[0m\u001b[0mself\u001b[0m\u001b[0;34m,\u001b[0m \u001b[0mname\u001b[0m\u001b[0;34m,\u001b[0m \u001b[0mrequest\u001b[0m\u001b[0;34m,\u001b[0m \u001b[0mtarget\u001b[0m\u001b[0;34m=\u001b[0m\u001b[0;32mNone\u001b[0m\u001b[0;34m)\u001b[0m\u001b[0;34m:\u001b[0m\u001b[0;34m\u001b[0m\u001b[0;34m\u001b[0m\u001b[0m\n\u001b[0;32m--> 310\u001b[0;31m         \u001b[0mresult\u001b[0m \u001b[0;34m=\u001b[0m \u001b[0mself\u001b[0m\u001b[0;34m.\u001b[0m\u001b[0m_api\u001b[0m\u001b[0;34m(\u001b[0m\u001b[0;34m'%s/resources/%s'\u001b[0m \u001b[0;34m%\u001b[0m \u001b[0;34m(\u001b[0m\u001b[0mself\u001b[0m\u001b[0;34m.\u001b[0m\u001b[0murl\u001b[0m\u001b[0;34m,\u001b[0m \u001b[0mname\u001b[0m\u001b[0;34m)\u001b[0m\u001b[0;34m,\u001b[0m \u001b[0mrequest\u001b[0m\u001b[0;34m,\u001b[0m \u001b[0;34m'POST'\u001b[0m\u001b[0;34m)\u001b[0m\u001b[0;34m\u001b[0m\u001b[0;34m\u001b[0m\u001b[0m\n\u001b[0m\u001b[1;32m    311\u001b[0m         \u001b[0;32mif\u001b[0m \u001b[0mtarget\u001b[0m \u001b[0;32mis\u001b[0m \u001b[0;32mnot\u001b[0m \u001b[0;32mNone\u001b[0m\u001b[0;34m:\u001b[0m\u001b[0;34m\u001b[0m\u001b[0;34m\u001b[0m\u001b[0m\n\u001b[1;32m    312\u001b[0m             \u001b[0mresult\u001b[0m\u001b[0;34m.\u001b[0m\u001b[0mdownload\u001b[0m\u001b[0;34m(\u001b[0m\u001b[0mtarget\u001b[0m\u001b[0;34m)\u001b[0m\u001b[0;34m\u001b[0m\u001b[0;34m\u001b[0m\u001b[0m\n",
      "\u001b[0;32m~/anaconda3/lib/python3.7/site-packages/cdsapi/api.py\u001b[0m in \u001b[0;36m_api\u001b[0;34m(self, url, request, method)\u001b[0m\n\u001b[1;32m    345\u001b[0m                                      \u001b[0mjson\u001b[0m\u001b[0;34m=\u001b[0m\u001b[0mrequest\u001b[0m\u001b[0;34m,\u001b[0m\u001b[0;34m\u001b[0m\u001b[0;34m\u001b[0m\u001b[0m\n\u001b[1;32m    346\u001b[0m                                      \u001b[0mverify\u001b[0m\u001b[0;34m=\u001b[0m\u001b[0mself\u001b[0m\u001b[0;34m.\u001b[0m\u001b[0mverify\u001b[0m\u001b[0;34m,\u001b[0m\u001b[0;34m\u001b[0m\u001b[0;34m\u001b[0m\u001b[0m\n\u001b[0;32m--> 347\u001b[0;31m                                      timeout=self.timeout)\n\u001b[0m\u001b[1;32m    348\u001b[0m         \u001b[0mreply\u001b[0m \u001b[0;34m=\u001b[0m \u001b[0;32mNone\u001b[0m\u001b[0;34m\u001b[0m\u001b[0;34m\u001b[0m\u001b[0m\n\u001b[1;32m    349\u001b[0m \u001b[0;34m\u001b[0m\u001b[0m\n",
      "\u001b[0;32m~/anaconda3/lib/python3.7/site-packages/cdsapi/api.py\u001b[0m in \u001b[0;36mwrapped\u001b[0;34m(*args, **kwargs)\u001b[0m\n\u001b[1;32m    525\u001b[0m \u001b[0;34m\u001b[0m\u001b[0m\n\u001b[1;32m    526\u001b[0m                 \u001b[0mself\u001b[0m\u001b[0;34m.\u001b[0m\u001b[0mwarning\u001b[0m\u001b[0;34m(\u001b[0m\u001b[0;34m\"Retrying in %s seconds\"\u001b[0m\u001b[0;34m,\u001b[0m \u001b[0mself\u001b[0m\u001b[0;34m.\u001b[0m\u001b[0msleep_max\u001b[0m\u001b[0;34m)\u001b[0m\u001b[0;34m\u001b[0m\u001b[0;34m\u001b[0m\u001b[0m\n\u001b[0;32m--> 527\u001b[0;31m                 \u001b[0mtime\u001b[0m\u001b[0;34m.\u001b[0m\u001b[0msleep\u001b[0m\u001b[0;34m(\u001b[0m\u001b[0mself\u001b[0m\u001b[0;34m.\u001b[0m\u001b[0msleep_max\u001b[0m\u001b[0;34m)\u001b[0m\u001b[0;34m\u001b[0m\u001b[0;34m\u001b[0m\u001b[0m\n\u001b[0m\u001b[1;32m    528\u001b[0m                 \u001b[0mself\u001b[0m\u001b[0;34m.\u001b[0m\u001b[0minfo\u001b[0m\u001b[0;34m(\u001b[0m\u001b[0;34m\"Retrying now...\"\u001b[0m\u001b[0;34m)\u001b[0m\u001b[0;34m\u001b[0m\u001b[0;34m\u001b[0m\u001b[0m\n\u001b[1;32m    529\u001b[0m \u001b[0;34m\u001b[0m\u001b[0m\n",
      "\u001b[0;31mKeyboardInterrupt\u001b[0m: "
     ]
    }
   ],
   "source": [
    "c.retrieve(\n",
    "    'seasonal-original-pressure-levels',\n",
    "    {\n",
    "        'format':'grib',\n",
    "        'originating_centre':'ecmwf',\n",
    "        'system':[\n",
    "            '4','5'\n",
    "        ],\n",
    "        'variable':'geopotential',\n",
    "        'pressure_level':'500',\n",
    "        'year':[\n",
    "            '1993','2017','2018',\n",
    "            '2019'\n",
    "        ],\n",
    "        'month':[\n",
    "            '01','02','03',\n",
    "            '04','05','06',\n",
    "            '07','08','09',\n",
    "            '10','11','12'\n",
    "        ],\n",
    "        'day':'01',\n",
    "        'leadtime_hour':[\n",
    "            '24','48','72',\n",
    "            '96','120','144'#,\n",
    "#            '168','192','216',\n",
    "#            '240','264','288',\n",
    "#            '312','336','360',\n",
    "#            '384','408','432',\n",
    "#            '456','480','504',\n",
    "#            '528','552','576',\n",
    "#            '600','624','648',\n",
    "#            '672','696','720',\n",
    "#            '744','768','792',\n",
    "#            '816','840','864',\n",
    "#            '888','912','936',\n",
    "#            '960','984','1008',\n",
    "#            '1032','1056','1080',\n",
    "#            '1104','1128','1152',\n",
    "#            '1176','1200','1224',\n",
    "#            '1248','1272','1296',\n",
    "#            '1320','1344','1368',\n",
    "#            '1392','1416','1440',\n",
    "#            '1464','1488','1512',\n",
    "#            '1536','1560','1584',\n",
    "#            '1608','1632','1656',\n",
    "#            '1680','1704','1728',\n",
    "#            '1752','1776','1800',\n",
    "#            '1824','1848','1872',\n",
    "#            '1896','1920','1944',\n",
    "#            '1968','1992','2016',\n",
    "#            '2040','2064','2088',\n",
    "#            '2112','2136','2160',\n",
    "#            '2184','2208','2232',\n",
    "#            '2256','2280','2304',\n",
    "#            '2328','2352','2376',\n",
    "#            '2400'\n",
    "        ]\n",
    "    },\n",
    "    'download.grib')\n"
   ]
  },
  {
   "cell_type": "code",
   "execution_count": null,
   "metadata": {},
   "outputs": [],
   "source": [
    "import cdsapi\n",
    "c = cdsapi.Client()\n",
    "c.retrieve(\"reanalysis-era5-pressure-levels\",\n",
    "    {\n",
    "        \"variable\": \"temperature\",\n",
    "        \"pressure_level\": \"1000\",\n",
    "        \"product_type\": \"reanalysis\",\n",
    "        \"year\": \"2008\",\n",
    "        \"month\": \"01\",\n",
    "        \"day\": \"01\",\n",
    "        \"time\": \"12:00\",\n",
    "        \"format\": \"grib\"\n",
    "    },\n",
    "    \"download.grib\")\n"
   ]
  }
 ],
 "metadata": {
  "kernelspec": {
   "display_name": "Python 3",
   "language": "python",
   "name": "python3"
  },
  "language_info": {
   "codemirror_mode": {
    "name": "ipython",
    "version": 3
   },
   "file_extension": ".py",
   "mimetype": "text/x-python",
   "name": "python",
   "nbconvert_exporter": "python",
   "pygments_lexer": "ipython3",
   "version": "3.7.3"
  }
 },
 "nbformat": 4,
 "nbformat_minor": 2
}
