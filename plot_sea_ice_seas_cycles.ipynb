{
 "cells": [
  {
   "cell_type": "code",
   "execution_count": 1,
   "metadata": {},
   "outputs": [
    {
     "name": "stderr",
     "output_type": "stream",
     "text": [
      "/home/disk/sipn/mcmcgraw/anaconda3/lib/python3.7/site-packages/dask/config.py:168: YAMLLoadWarning: calling yaml.load() without Loader=... is deprecated, as the default Loader is unsafe. Please read https://msg.pyyaml.org/load for full details.\n",
      "  data = yaml.load(f.read()) or {}\n",
      "/home/disk/sipn/mcmcgraw/anaconda3/lib/python3.7/site-packages/distributed/config.py:20: YAMLLoadWarning: calling yaml.load() without Loader=... is deprecated, as the default Loader is unsafe. Please read https://msg.pyyaml.org/load for full details.\n",
      "  defaults = yaml.load(f)\n"
     ]
    }
   ],
   "source": [
    "import numpy as np\n",
    "import pandas as pd\n",
    "import xarray as xr\n",
    "import matplotlib.pyplot as plt\n",
    "\n",
    "filepath = '/home/disk/sipn/mcmcgraw/data/VRILE/'\n",
    "model_name = 'ukmo'\n",
    "model_type = 'reforecast'\n",
    "day_change = 5\n",
    "\n",
    "filename = filepath+'{model_name}_{model_type}_SIE_d_SIE_{d_days}day_change_lead_time_ALL_REGIONS_ALL_ENS.csv'.format(model_name=model_name,\n",
    "                       model_type=model_type,d_days=day_change)"
   ]
  },
  {
   "cell_type": "markdown",
   "metadata": {},
   "source": [
    "Load the SIE dataframe"
   ]
  },
  {
   "cell_type": "code",
   "execution_count": 2,
   "metadata": {},
   "outputs": [
    {
     "data": {
      "text/html": [
       "<div>\n",
       "<style scoped>\n",
       "    .dataframe tbody tr th:only-of-type {\n",
       "        vertical-align: middle;\n",
       "    }\n",
       "\n",
       "    .dataframe tbody tr th {\n",
       "        vertical-align: top;\n",
       "    }\n",
       "\n",
       "    .dataframe thead th {\n",
       "        text-align: right;\n",
       "    }\n",
       "</style>\n",
       "<table border=\"1\" class=\"dataframe\">\n",
       "  <thead>\n",
       "    <tr style=\"text-align: right;\">\n",
       "      <th></th>\n",
       "      <th>Unnamed: 0</th>\n",
       "      <th>I (init date)</th>\n",
       "      <th>V (valid date)</th>\n",
       "      <th>V_mon (valid date month)</th>\n",
       "      <th>V_yr (valid date year)</th>\n",
       "      <th>SIE</th>\n",
       "      <th>lead time (days)</th>\n",
       "      <th>d_SIE (V - I)</th>\n",
       "      <th>ensemble</th>\n",
       "      <th>region</th>\n",
       "    </tr>\n",
       "  </thead>\n",
       "  <tbody>\n",
       "    <tr>\n",
       "      <th>0</th>\n",
       "      <td>0</td>\n",
       "      <td>1995-01-01</td>\n",
       "      <td>1995-01-03 00:00:00</td>\n",
       "      <td>1.0</td>\n",
       "      <td>1995.0</td>\n",
       "      <td>14.814003</td>\n",
       "      <td>2.0</td>\n",
       "      <td>0.184779</td>\n",
       "      <td>1.0</td>\n",
       "      <td>panArctic</td>\n",
       "    </tr>\n",
       "    <tr>\n",
       "      <th>1</th>\n",
       "      <td>0</td>\n",
       "      <td>1995-01-01</td>\n",
       "      <td>1995-01-04 00:00:00</td>\n",
       "      <td>1.0</td>\n",
       "      <td>1995.0</td>\n",
       "      <td>14.795428</td>\n",
       "      <td>3.0</td>\n",
       "      <td>0.182000</td>\n",
       "      <td>1.0</td>\n",
       "      <td>panArctic</td>\n",
       "    </tr>\n",
       "    <tr>\n",
       "      <th>2</th>\n",
       "      <td>0</td>\n",
       "      <td>1995-01-01</td>\n",
       "      <td>1995-01-05 00:00:00</td>\n",
       "      <td>1.0</td>\n",
       "      <td>1995.0</td>\n",
       "      <td>14.866591</td>\n",
       "      <td>4.0</td>\n",
       "      <td>0.137827</td>\n",
       "      <td>1.0</td>\n",
       "      <td>panArctic</td>\n",
       "    </tr>\n",
       "    <tr>\n",
       "      <th>3</th>\n",
       "      <td>0</td>\n",
       "      <td>1995-01-01</td>\n",
       "      <td>1995-01-06 00:00:00</td>\n",
       "      <td>1.0</td>\n",
       "      <td>1995.0</td>\n",
       "      <td>14.935446</td>\n",
       "      <td>5.0</td>\n",
       "      <td>0.145578</td>\n",
       "      <td>1.0</td>\n",
       "      <td>panArctic</td>\n",
       "    </tr>\n",
       "    <tr>\n",
       "      <th>4</th>\n",
       "      <td>0</td>\n",
       "      <td>1995-01-01</td>\n",
       "      <td>1995-01-07 00:00:00</td>\n",
       "      <td>1.0</td>\n",
       "      <td>1995.0</td>\n",
       "      <td>14.951830</td>\n",
       "      <td>6.0</td>\n",
       "      <td>0.165441</td>\n",
       "      <td>1.0</td>\n",
       "      <td>panArctic</td>\n",
       "    </tr>\n",
       "  </tbody>\n",
       "</table>\n",
       "</div>"
      ],
      "text/plain": [
       "   Unnamed: 0 I (init date)       V (valid date)  V_mon (valid date month)  \\\n",
       "0           0    1995-01-01  1995-01-03 00:00:00                       1.0   \n",
       "1           0    1995-01-01  1995-01-04 00:00:00                       1.0   \n",
       "2           0    1995-01-01  1995-01-05 00:00:00                       1.0   \n",
       "3           0    1995-01-01  1995-01-06 00:00:00                       1.0   \n",
       "4           0    1995-01-01  1995-01-07 00:00:00                       1.0   \n",
       "\n",
       "   V_yr (valid date year)        SIE  lead time (days)  d_SIE (V - I)  \\\n",
       "0                  1995.0  14.814003               2.0       0.184779   \n",
       "1                  1995.0  14.795428               3.0       0.182000   \n",
       "2                  1995.0  14.866591               4.0       0.137827   \n",
       "3                  1995.0  14.935446               5.0       0.145578   \n",
       "4                  1995.0  14.951830               6.0       0.165441   \n",
       "\n",
       "   ensemble     region  \n",
       "0       1.0  panArctic  \n",
       "1       1.0  panArctic  \n",
       "2       1.0  panArctic  \n",
       "3       1.0  panArctic  \n",
       "4       1.0  panArctic  "
      ]
     },
     "execution_count": 2,
     "metadata": {},
     "output_type": "execute_result"
    }
   ],
   "source": [
    "ds_SIC_all = pd.read_csv(filename)\n",
    "ds_SIC_all = ds_SIC_all.dropna()\n",
    "regions = ds_SIC_all['region'].unique().tolist() #list unique regions\n",
    "lead_days = ds_SIC_all['lead time (days)'].unique().tolist()\n",
    "#print(lead_days)\n",
    "ds_SIC_all.head()"
   ]
  },
  {
   "cell_type": "markdown",
   "metadata": {},
   "source": [
    "Initialize dataframe to keep track of bias.  Bias is defined as Model - Obs.  So a negative value means model SIE is less than observed; positive value means model SIE is greater than observed. "
   ]
  },
  {
   "cell_type": "code",
   "execution_count": 3,
   "metadata": {},
   "outputs": [],
   "source": [
    "mons_vec = np.arange(1,13)\n",
    "mon_tile = np.tile(mons_vec,len(regions))\n",
    "df_bias = pd.DataFrame(columns=['SIE bias','month','region'])\n",
    "df_bias['month'] = mon_tile"
   ]
  },
  {
   "cell_type": "markdown",
   "metadata": {},
   "source": [
    "Group by region, then lead time--we'll plot the seasonal cycle in SIE as a function of lead time.  Start w/ 2 days"
   ]
  },
  {
   "cell_type": "code",
   "execution_count": 22,
   "metadata": {},
   "outputs": [
    {
     "name": "stdout",
     "output_type": "stream",
     "text": [
      "running region panArctic\n"
     ]
    }
   ],
   "source": [
    "reg_ind_sel = 0\n",
    "region_sel = regions[reg_ind_sel]\n",
    "bias_save_ind = reg_ind_sel*12 + np.arange(0,12)\n",
    "df_bias.loc[bias_save_ind,'region'] = region_sel\n",
    "#print(df_bias)\n",
    "print('running region {region}'.format(region=region_sel))\n",
    "SIC_reg_group = ds_SIC_all.groupby(['region'])\n",
    "SIC_reg_sel = SIC_reg_group.get_group(region_sel)\n",
    "#Now group by lead time\n",
    "lead_ind_sel = 2\n",
    "SIC_lead_group = SIC_reg_sel.groupby(['lead time (days)'])\n",
    "SIC_lead_sel = SIC_lead_group.get_group(lead_ind_sel)"
   ]
  },
  {
   "cell_type": "markdown",
   "metadata": {},
   "source": [
    "Now group by valid date to create a seasonal cycle"
   ]
  },
  {
   "cell_type": "code",
   "execution_count": 23,
   "metadata": {},
   "outputs": [
    {
     "name": "stderr",
     "output_type": "stream",
     "text": [
      "/home/disk/sipn/mcmcgraw/anaconda3/lib/python3.7/site-packages/ipykernel_launcher.py:4: SettingWithCopyWarning: \n",
      "A value is trying to be set on a copy of a slice from a DataFrame.\n",
      "Try using .loc[row_indexer,col_indexer] = value instead\n",
      "\n",
      "See the caveats in the documentation: http://pandas.pydata.org/pandas-docs/stable/indexing.html#indexing-view-versus-copy\n",
      "  after removing the cwd from sys.path.\n"
     ]
    }
   ],
   "source": [
    "valid_dates = pd.to_datetime(SIC_lead_sel['V (valid date)'])\n",
    "valid_dates_month = pd.to_datetime(SIC_lead_sel['V (valid date)']).dt.month\n",
    "SIC_mon_sel = SIC_lead_sel\n",
    "SIC_mon_sel['valid date month'] = valid_dates_month"
   ]
  },
  {
   "cell_type": "markdown",
   "metadata": {},
   "source": [
    "Group by month of valid date and make a box plot"
   ]
  },
  {
   "cell_type": "code",
   "execution_count": 24,
   "metadata": {},
   "outputs": [
    {
     "data": {
      "text/plain": [
       "Text(0, 0.5, 'Sea Ice Extent (10^6 km^2)')"
      ]
     },
     "execution_count": 24,
     "metadata": {},
     "output_type": "execute_result"
    },
    {
     "data": {
      "image/png": "[encoded data removed]",
      "text/plain": [
       "<Figure size 432x288 with 1 Axes>"
      ]
     },
     "metadata": {
      "needs_background": "light"
     },
     "output_type": "display_data"
    }
   ],
   "source": [
    "import seaborn as sns\n",
    "\n",
    "SIC_mon_group = SIC_mon_sel.groupby(['valid date month'])\n",
    "ax1=sns.boxplot(x='valid date month',y='SIE',data=SIC_mon_sel)\n",
    "ax1.set_xlabel('Month',fontsize=13)\n",
    "ax1.set_ylabel('Sea Ice Extent (10^6 km^2)',fontsize=13)\n"
   ]
  },
  {
   "cell_type": "markdown",
   "metadata": {},
   "source": [
    "Add observations to plot"
   ]
  },
  {
   "cell_type": "code",
   "execution_count": 25,
   "metadata": {},
   "outputs": [
    {
     "data": {
      "text/html": [
       "<div>\n",
       "<style scoped>\n",
       "    .dataframe tbody tr th:only-of-type {\n",
       "        vertical-align: middle;\n",
       "    }\n",
       "\n",
       "    .dataframe tbody tr th {\n",
       "        vertical-align: top;\n",
       "    }\n",
       "\n",
       "    .dataframe thead th {\n",
       "        text-align: right;\n",
       "    }\n",
       "</style>\n",
       "<table border=\"1\" class=\"dataframe\">\n",
       "  <thead>\n",
       "    <tr style=\"text-align: right;\">\n",
       "      <th></th>\n",
       "      <th>Unnamed: 0</th>\n",
       "      <th>V (valid date)</th>\n",
       "      <th>V_mon (valid date month)</th>\n",
       "      <th>SIE</th>\n",
       "      <th>d_SIC (V - I)</th>\n",
       "      <th>ensemble</th>\n",
       "      <th>region</th>\n",
       "    </tr>\n",
       "  </thead>\n",
       "  <tbody>\n",
       "    <tr>\n",
       "      <th>0</th>\n",
       "      <td>0</td>\n",
       "      <td>1989-01-03</td>\n",
       "      <td>1.0</td>\n",
       "      <td>14.585865</td>\n",
       "      <td>0.130135</td>\n",
       "      <td>obs</td>\n",
       "      <td>panArctic</td>\n",
       "    </tr>\n",
       "    <tr>\n",
       "      <th>1</th>\n",
       "      <td>1</td>\n",
       "      <td>1989-01-04</td>\n",
       "      <td>1.0</td>\n",
       "      <td>14.595622</td>\n",
       "      <td>0.118162</td>\n",
       "      <td>obs</td>\n",
       "      <td>panArctic</td>\n",
       "    </tr>\n",
       "    <tr>\n",
       "      <th>2</th>\n",
       "      <td>2</td>\n",
       "      <td>1989-01-05</td>\n",
       "      <td>1.0</td>\n",
       "      <td>14.586416</td>\n",
       "      <td>0.073263</td>\n",
       "      <td>obs</td>\n",
       "      <td>panArctic</td>\n",
       "    </tr>\n",
       "    <tr>\n",
       "      <th>3</th>\n",
       "      <td>3</td>\n",
       "      <td>1989-01-06</td>\n",
       "      <td>1.0</td>\n",
       "      <td>14.622716</td>\n",
       "      <td>0.114523</td>\n",
       "      <td>obs</td>\n",
       "      <td>panArctic</td>\n",
       "    </tr>\n",
       "    <tr>\n",
       "      <th>4</th>\n",
       "      <td>4</td>\n",
       "      <td>1989-01-07</td>\n",
       "      <td>1.0</td>\n",
       "      <td>14.659128</td>\n",
       "      <td>0.239570</td>\n",
       "      <td>obs</td>\n",
       "      <td>panArctic</td>\n",
       "    </tr>\n",
       "  </tbody>\n",
       "</table>\n",
       "</div>"
      ],
      "text/plain": [
       "   Unnamed: 0 V (valid date)  V_mon (valid date month)        SIE  \\\n",
       "0           0     1989-01-03                       1.0  14.585865   \n",
       "1           1     1989-01-04                       1.0  14.595622   \n",
       "2           2     1989-01-05                       1.0  14.586416   \n",
       "3           3     1989-01-06                       1.0  14.622716   \n",
       "4           4     1989-01-07                       1.0  14.659128   \n",
       "\n",
       "   d_SIC (V - I) ensemble     region  \n",
       "0       0.130135      obs  panArctic  \n",
       "1       0.118162      obs  panArctic  \n",
       "2       0.073263      obs  panArctic  \n",
       "3       0.114523      obs  panArctic  \n",
       "4       0.239570      obs  panArctic  "
      ]
     },
     "execution_count": 25,
     "metadata": {},
     "output_type": "execute_result"
    }
   ],
   "source": [
    "obs_name = 'NSIDC_0079'\n",
    "obs_type = 'sipn_nc_yearly_agg'\n",
    "obs_filename = filepath+'{model_name}_{model_type}_SIE_d_SIE_{d_days}day_change_lead_time_ALL_REGIONS_ALL_ENS.csv'.format(model_name=obs_name,\n",
    "                       model_type=obs_type,d_days=day_change)\n",
    "SIE_obs = pd.read_csv(obs_filename)\n",
    "SIE_obs = SIE_obs.dropna()\n",
    "SIE_obs.head()"
   ]
  },
  {
   "cell_type": "markdown",
   "metadata": {},
   "source": [
    "Group by region and then month"
   ]
  },
  {
   "cell_type": "code",
   "execution_count": 26,
   "metadata": {},
   "outputs": [
    {
     "name": "stdout",
     "output_type": "stream",
     "text": [
      "running region panArctic\n",
      "                           Unnamed: 0        SIE  d_SIC (V - I)\n",
      "V_mon (valid date month)                                       \n",
      "1.0                       5320.211207  14.234426       0.146447\n",
      "2.0                       5339.892562  15.028712       0.064519\n",
      "3.0                       5368.000000  15.169120      -0.029349\n",
      "4.0                       5398.500000  14.420568      -0.162401\n",
      "5.0                       5429.000000  13.116838      -0.173383\n",
      "6.0                       5459.500000  11.585615      -0.248125\n",
      "7.0                       5490.000000   9.264643      -0.334457\n",
      "8.0                       5521.000000   6.995978      -0.227467\n",
      "9.0                       5551.500000   6.170806       0.054204\n",
      "10.0                      5582.000000   8.053708       0.366915\n",
      "11.0                      5612.500000  10.561004       0.304933\n",
      "12.0                      5631.554957  12.772179       0.236132\n"
     ]
    }
   ],
   "source": [
    "SIE_obs_reg = SIE_obs.groupby(['region'])\n",
    "SIE_obs_reg_sel = SIE_obs_reg.get_group(region_sel)\n",
    "print('running region {region}'.format(region=region_sel))\n",
    "SIE_obs_mon = SIE_obs_reg_sel.groupby(['V_mon (valid date month)'])\n",
    "SIE_obs_mon_mean = SIE_obs_mon.mean()\n",
    "print(SIE_obs_mon_mean)\n",
    "SIE_seas = SIE_obs_mon_mean['SIE']"
   ]
  },
  {
   "cell_type": "markdown",
   "metadata": {},
   "source": [
    "Make plot with model and obs"
   ]
  },
  {
   "cell_type": "code",
   "execution_count": 27,
   "metadata": {},
   "outputs": [
    {
     "data": {
      "text/plain": [
       "[<matplotlib.lines.Line2D at 0x7f2ee929e438>]"
      ]
     },
     "execution_count": 27,
     "metadata": {},
     "output_type": "execute_result"
    },
    {
     "data": {
      "image/png": "[encoded data removed]",
      "text/plain": [
       "<Figure size 432x288 with 1 Axes>"
      ]
     },
     "metadata": {
      "needs_background": "light"
     },
     "output_type": "display_data"
    }
   ],
   "source": [
    "ax2=sns.boxplot(x='valid date month',y='SIE',data=SIC_mon_sel)\n",
    "ax2.set_xlabel('Month',fontsize=13)\n",
    "ax2.set_ylabel('Sea Ice Extent (10^6 km^2)',fontsize=13)\n",
    "ax2.plot(np.arange(0,12),SIE_seas,'rx',markersize=10,markeredgewidth=3)"
   ]
  },
  {
   "cell_type": "markdown",
   "metadata": {},
   "source": [
    "Try a different kind of plot--box plots side-by-side.  Easiest way is to create a new dataframe so we can use seaborn side by side"
   ]
  },
  {
   "cell_type": "code",
   "execution_count": 28,
   "metadata": {},
   "outputs": [
    {
     "data": {
      "text/plain": [
       "Text(0.5, 1.0, 'Sea ice extent, panArctic')"
      ]
     },
     "execution_count": 28,
     "metadata": {},
     "output_type": "execute_result"
    },
    {
     "data": {
      "image/png": "[encoded data removed]",
      "text/plain": [
       "<Figure size 432x288 with 1 Axes>"
      ]
     },
     "metadata": {
      "needs_background": "light"
     },
     "output_type": "display_data"
    }
   ],
   "source": [
    "model_double_plot = pd.DataFrame(columns=['SIE','month','model?'])\n",
    "model_double_plot['SIE'] = SIC_mon_sel['SIE']\n",
    "model_double_plot['month'] = SIC_mon_sel['valid date month']\n",
    "model_double_plot['model?'] = 'model'\n",
    "\n",
    "obs_double_plot = pd.DataFrame(columns=['SIE','month','model?'])\n",
    "obs_double_plot['SIE'] = SIE_obs_reg_sel['SIE']\n",
    "obs_double_plot['month'] = SIE_obs_reg_sel['V_mon (valid date month)'].astype(np.int64)\n",
    "obs_double_plot['model?'] = 'obs'\n",
    "\n",
    "df_double_plot = pd.concat([model_double_plot,obs_double_plot],axis=0)\n",
    "ax5 = sns.boxplot(x='month',y='SIE',hue='model?',data=df_double_plot)\n",
    "ax5.set_xlabel('Month',fontsize=13)\n",
    "ax5.set_xticklabels(['J','F','M','A','M','J','J','A','S','O','N','D'],fontsize=12)\n",
    "ax5.set_ylabel('Sea ice extent (10^6 km^2)',fontsize=13)\n",
    "ax5.set_title('Sea ice extent, {region}'.format(region=region_sel),fontsize=14)"
   ]
  },
  {
   "cell_type": "markdown",
   "metadata": {},
   "source": [
    "Plot differences between obs mean and model mean"
   ]
  },
  {
   "cell_type": "code",
   "execution_count": 29,
   "metadata": {},
   "outputs": [
    {
     "data": {
      "text/plain": [
       "Text(0.5, 1.0, 'Bias (model - obs) in mean sea ice extent, panArctic')"
      ]
     },
     "execution_count": 29,
     "metadata": {},
     "output_type": "execute_result"
    },
    {
     "data": {
      "image/png": "[encoded data removed]",
      "text/plain": [
       "<Figure size 432x288 with 1 Axes>"
      ]
     },
     "metadata": {
      "needs_background": "light"
     },
     "output_type": "display_data"
    }
   ],
   "source": [
    "fig3 = plt.figure(3)\n",
    "ax3 = fig3.add_axes([0.1,0.1,0.8,0.8])\n",
    "ax3.plot(np.arange(0,12),(SIC_mon_group['SIE'].mean()-SIE_seas),'ko--',markersize=8)\n",
    "ax3.set_xlabel('Month',fontsize=13)\n",
    "ax3.set_xticks(ticks=np.arange(0,13))\n",
    "ax3.set_xticklabels(['J','F','M','A','M','J','J','A','S','O','N','D'])\n",
    "ax3.set_ylabel('Sea ice extent (10^6 km^2)',fontsize=13)\n",
    "ax3.set_title('Bias (model - obs) in mean sea ice extent, {region}'.format(region=region_sel),fontsize=14)\n"
   ]
  },
  {
   "cell_type": "code",
   "execution_count": 12,
   "metadata": {},
   "outputs": [
    {
     "data": {
      "text/html": [
       "<div>\n",
       "<style scoped>\n",
       "    .dataframe tbody tr th:only-of-type {\n",
       "        vertical-align: middle;\n",
       "    }\n",
       "\n",
       "    .dataframe tbody tr th {\n",
       "        vertical-align: top;\n",
       "    }\n",
       "\n",
       "    .dataframe thead th {\n",
       "        text-align: right;\n",
       "    }\n",
       "</style>\n",
       "<table border=\"1\" class=\"dataframe\">\n",
       "  <thead>\n",
       "    <tr style=\"text-align: right;\">\n",
       "      <th></th>\n",
       "      <th>SIE bias</th>\n",
       "      <th>month</th>\n",
       "      <th>region</th>\n",
       "    </tr>\n",
       "  </thead>\n",
       "  <tbody>\n",
       "    <tr>\n",
       "      <th>0</th>\n",
       "      <td>0.0559463</td>\n",
       "      <td>1</td>\n",
       "      <td>panArctic</td>\n",
       "    </tr>\n",
       "    <tr>\n",
       "      <th>1</th>\n",
       "      <td>0.132067</td>\n",
       "      <td>2</td>\n",
       "      <td>panArctic</td>\n",
       "    </tr>\n",
       "    <tr>\n",
       "      <th>2</th>\n",
       "      <td>0.0964763</td>\n",
       "      <td>3</td>\n",
       "      <td>panArctic</td>\n",
       "    </tr>\n",
       "    <tr>\n",
       "      <th>3</th>\n",
       "      <td>0.165847</td>\n",
       "      <td>4</td>\n",
       "      <td>panArctic</td>\n",
       "    </tr>\n",
       "    <tr>\n",
       "      <th>4</th>\n",
       "      <td>0.077434</td>\n",
       "      <td>5</td>\n",
       "      <td>panArctic</td>\n",
       "    </tr>\n",
       "    <tr>\n",
       "      <th>5</th>\n",
       "      <td>-0.247651</td>\n",
       "      <td>6</td>\n",
       "      <td>panArctic</td>\n",
       "    </tr>\n",
       "    <tr>\n",
       "      <th>6</th>\n",
       "      <td>-0.408735</td>\n",
       "      <td>7</td>\n",
       "      <td>panArctic</td>\n",
       "    </tr>\n",
       "    <tr>\n",
       "      <th>7</th>\n",
       "      <td>-0.23276</td>\n",
       "      <td>8</td>\n",
       "      <td>panArctic</td>\n",
       "    </tr>\n",
       "    <tr>\n",
       "      <th>8</th>\n",
       "      <td>-0.19331</td>\n",
       "      <td>9</td>\n",
       "      <td>panArctic</td>\n",
       "    </tr>\n",
       "    <tr>\n",
       "      <th>9</th>\n",
       "      <td>-0.358275</td>\n",
       "      <td>10</td>\n",
       "      <td>panArctic</td>\n",
       "    </tr>\n",
       "    <tr>\n",
       "      <th>10</th>\n",
       "      <td>-0.0773569</td>\n",
       "      <td>11</td>\n",
       "      <td>panArctic</td>\n",
       "    </tr>\n",
       "    <tr>\n",
       "      <th>11</th>\n",
       "      <td>-0.0264573</td>\n",
       "      <td>12</td>\n",
       "      <td>panArctic</td>\n",
       "    </tr>\n",
       "  </tbody>\n",
       "</table>\n",
       "</div>"
      ],
      "text/plain": [
       "     SIE bias  month     region\n",
       "0   0.0559463      1  panArctic\n",
       "1    0.132067      2  panArctic\n",
       "2   0.0964763      3  panArctic\n",
       "3    0.165847      4  panArctic\n",
       "4    0.077434      5  panArctic\n",
       "5   -0.247651      6  panArctic\n",
       "6   -0.408735      7  panArctic\n",
       "7    -0.23276      8  panArctic\n",
       "8    -0.19331      9  panArctic\n",
       "9   -0.358275     10  panArctic\n",
       "10 -0.0773569     11  panArctic\n",
       "11 -0.0264573     12  panArctic"
      ]
     },
     "execution_count": 12,
     "metadata": {},
     "output_type": "execute_result"
    }
   ],
   "source": [
    "bias = SIC_mon_group['SIE'].mean()-SIE_seas\n",
    "\n",
    "#df_bias\n",
    "bias\n",
    "bias_mask = np.where(bias==0)\n",
    "bias_adj = bias\n",
    "bias_adj[bias_mask[0]] = np.nan\n",
    "bias_adj\n",
    "df_bias.loc[bias_save_ind,'SIE bias'] = bias_adj.values\n",
    "df_bias.loc[bias_save_ind,:]"
   ]
  },
  {
   "cell_type": "code",
   "execution_count": null,
   "metadata": {},
   "outputs": [],
   "source": []
  }
 ],
 "metadata": {
  "kernelspec": {
   "display_name": "Python 3",
   "language": "python",
   "name": "python3"
  },
  "language_info": {
   "codemirror_mode": {
    "name": "ipython",
    "version": 3
   },
   "file_extension": ".py",
   "mimetype": "text/x-python",
   "name": "python",
   "nbconvert_exporter": "python",
   "pygments_lexer": "ipython3",
   "version": "3.7.3"
  }
 },
 "nbformat": 4,
 "nbformat_minor": 2
}
