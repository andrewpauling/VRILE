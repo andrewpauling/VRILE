{
 "cells": [
  {
   "cell_type": "code",
   "execution_count": 29,
   "metadata": {},
   "outputs": [],
   "source": [
    "import pickle\n",
    "import numpy as np \n",
    "import matplotlib.pyplot as plt\n",
    "\n",
    "nodays = 5\n",
    "seas_str = 'JJAS'\n",
    "region = \"'panArctic'\"\n",
    "fname_save = '/home/disk/sipn/mcmcgraw/python/data_VRILEs/{region}_SIE_delta_{nodays}days_NSIDC_{seas}.txt'.format(region=region,nodays=nodays,seas=seas_str)\n",
    "\n",
    "fo = open(fname_save,\"r\")\n",
    "#fart = region.replace(\"\")"
   ]
  },
  {
   "cell_type": "code",
   "execution_count": 30,
   "metadata": {},
   "outputs": [
    {
     "name": "stdout",
     "output_type": "stream",
     "text": [
      "r\n"
     ]
    }
   ],
   "source": [
    "print(fo.mode)"
   ]
  },
  {
   "cell_type": "code",
   "execution_count": 31,
   "metadata": {},
   "outputs": [],
   "source": [
    "cont = fo.read()\n",
    "cont2 = np.genfromtxt(fname_save,unpack=True)"
   ]
  },
  {
   "cell_type": "code",
   "execution_count": 32,
   "metadata": {},
   "outputs": [
    {
     "name": "stdout",
     "output_type": "stream",
     "text": [
      "[ 0.01898638  0.0465757   0.08223525 ... -0.15350894 -0.36903784\n",
      " -0.33149938]\n"
     ]
    }
   ],
   "source": [
    "print(cont2)"
   ]
  },
  {
   "cell_type": "code",
   "execution_count": 33,
   "metadata": {},
   "outputs": [],
   "source": [
    "SIC_delta_sel = cont2"
   ]
  },
  {
   "cell_type": "code",
   "execution_count": 34,
   "metadata": {},
   "outputs": [
    {
     "data": {
      "text/plain": [
       "Text(0.5, 0, 'change in SIC (10^6 km^2)')"
      ]
     },
     "execution_count": 34,
     "metadata": {},
     "output_type": "execute_result"
    },
    {
     "data": {
      "image/png": "[encoded data removed]",
      "text/plain": [
       "<Figure size 432x288 with 1 Axes>"
      ]
     },
     "metadata": {
      "needs_background": "light"
     },
     "output_type": "display_data"
    }
   ],
   "source": [
    "plt.hist(SIC_delta_sel,bins=np.arange(-0.4,0.4,0.01),histtype=u'step',density=False,linewidth=2)\n",
    "#plt.title('JJAS change in 5-day SIC anomalies, {region_names}'.format(region_names=test_region_name))\n",
    "plt.xlabel('change in SIC (10^6 km^2)')"
   ]
  },
  {
   "cell_type": "code",
   "execution_count": null,
   "metadata": {},
   "outputs": [],
   "source": []
  }
 ],
 "metadata": {
  "kernelspec": {
   "display_name": "Python 3",
   "language": "python",
   "name": "python3"
  },
  "language_info": {
   "codemirror_mode": {
    "name": "ipython",
    "version": 3
   },
   "file_extension": ".py",
   "mimetype": "text/x-python",
   "name": "python",
   "nbconvert_exporter": "python",
   "pygments_lexer": "ipython3",
   "version": "3.7.3"
  }
 },
 "nbformat": 4,
 "nbformat_minor": 2
}
