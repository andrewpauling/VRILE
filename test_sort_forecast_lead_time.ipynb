{
 "cells": [
  {
   "cell_type": "code",
   "execution_count": 27,
   "metadata": {},
   "outputs": [
    {
     "name": "stdout",
     "output_type": "stream",
     "text": [
      "/home/disk/sipn/nicway/data/model/ecmwfsipn/reforecast/sipn_nc_agg\n",
      "<xarray.Dataset>\n",
      "Dimensions:       (ensemble: 25, fore_time: 215, init_time: 288, nregions: 15)\n",
      "Coordinates:\n",
      "  * ensemble      (ensemble) int32 0 1 2 3 4 5 6 7 8 ... 17 18 19 20 21 22 23 24\n",
      "  * fore_time     (fore_time) timedelta64[ns] 1 days 2 days ... 215 days\n",
      "  * nregions      (nregions) int64 99 2 3 4 5 6 7 8 9 10 11 12 13 14 15\n",
      "    region_names  (nregions) object 'panArctic' ... 'Central Arctic'\n",
      "  * init_time     (init_time) datetime64[ns] 1993-01-01 ... 2016-12-01\n",
      "Data variables:\n",
      "    Extent        (init_time, ensemble, fore_time, nregions) float64 dask.array<shape=(288, 25, 215, 15), chunksize=(1, 25, 215, 15)>\n"
     ]
    }
   ],
   "source": [
    "import xarray as xr\n",
    "import numpy as np\n",
    "import os\n",
    "import matplotlib.pyplot as plt\n",
    "import pandas as pd\n",
    "import datetime\n",
    "from datetime import datetime, timedelta\n",
    "\n",
    "model_name = 'ecmwfsipn'\n",
    "model_type = 'reforecast'\n",
    "filepath = '/home/disk/sipn/nicway/data/model/{model_name}/{model_type}/sipn_nc_agg'.format(model_name = model_name,\n",
    "                                                                                            model_type = model_type)\n",
    "print(filepath)\n",
    "filenames = xr.open_mfdataset(filepath+'/*.nc',concat_dim='init_time')\n",
    "print(filenames)"
   ]
  },
  {
   "cell_type": "code",
   "execution_count": 90,
   "metadata": {},
   "outputs": [],
   "source": [
    "init_select_full = np.arange(10,15)\n",
    "region_names = filenames.region_names\n",
    "init_times = filenames.init_time\n",
    "forecast_times = filenames.fore_time\n",
    "extent = filenames.Extent\n",
    "region_select = 0\n",
    "no_ens = 25\n",
    "no_forecast_periods = 6\n",
    "no_day_change = 5\n",
    "delta_lead_days = np.arange(5,(no_day_change*no_forecast_periods)+1,no_day_change)\n",
    "delta_last_days = np.arange(1,no_day_change*no_forecast_periods,no_day_change)\n",
    "#Create dataframe outside loop\n",
    "tha_big_D = pd.DataFrame(columns=[\"I (init date)\",\"V (valid date)\",\"d_SIC (V - I)\"])\n",
    "for itime in init_select_full:\n",
    "    init_select = itime\n",
    "    d_SIC_lead_time = pd.DataFrame({\"I (init date)\":np.tile(init_times[init_select],no_forecast_periods*no_ens),\n",
    "                                \"V (valid date)\":\"\",\"d_SIC (V - I)\":\"\"})\n",
    "#convert to days\n",
    "    for iens in np.arange(0,no_ens):\n",
    "        ens_select = iens\n",
    "        save_ind = iens*no_forecast_periods+ np.arange(0,no_forecast_periods)\n",
    "        I_test = extent[init_select,ens_select,:,region_select]\n",
    "        delta_extent = I_test[delta_lead_days].values - I_test[delta_last_days].values\n",
    "        d_SIC_lead_time['d_SIC (V - I)'].iloc[save_ind] = delta_extent\n",
    "        for i in np.arange(0,len(delta_lead_days)):\n",
    "            ival = init_times[init_select] + pd.Timedelta(delta_lead_days[i],unit='D')\n",
    "            write_ind = save_ind[i]\n",
    "            d_SIC_lead_time['V (valid date)'].iloc[write_ind] = pd.to_datetime(ival.values).date()\n",
    "    #print(ival)\n",
    " #   valid_date = np.append(valid_date,ival)\n",
    "    #print(d_SIC_lead_time)\n",
    "    tha_big_D = tha_big_D.append(d_SIC_lead_time)\n",
    "#array_output = \n",
    "#fart = tha_big_D.append(d_SIC_lead_time)\n",
    "#valid_df = pd.DataFrame(np.tile(init_times[init_select],6)) + valid_date\n",
    "#testfart = pd.date_range(start=init_df.iloc[0],end=end_date,freq='D')"
   ]
  },
  {
   "cell_type": "code",
   "execution_count": 94,
   "metadata": {},
   "outputs": [
    {
     "name": "stdout",
     "output_type": "stream",
     "text": [
      "    I (init date) V (valid date) d_SIC (V - I)\n",
      "50     1994-02-01     1994-02-16  -0.000456905\n",
      "51     1994-02-01     1994-02-21    -0.0241885\n",
      "52     1994-02-01     1994-02-26   -0.00913343\n",
      "53     1994-02-01     1994-03-03    -0.0718228\n",
      "54     1994-02-01     1994-02-06    -0.0529958\n",
      "55     1994-02-01     1994-02-11      0.155451\n",
      "56     1994-02-01     1994-02-16     -0.112358\n",
      "57     1994-02-01     1994-02-21     0.0745233\n",
      "58     1994-02-01     1994-02-26      0.104823\n",
      "59     1994-02-01     1994-03-03     -0.145172\n",
      "60     1994-02-01     1994-02-06     0.0221194\n",
      "61     1994-02-01     1994-02-11     0.0219906\n",
      "62     1994-02-01     1994-02-16      0.153995\n",
      "63     1994-02-01     1994-02-21     0.0414959\n",
      "64     1994-02-01     1994-02-26     0.0178615\n",
      "65     1994-02-01     1994-03-03     0.0521153\n",
      "66     1994-02-01     1994-02-06    -0.0203258\n",
      "67     1994-02-01     1994-02-11      0.265522\n",
      "68     1994-02-01     1994-02-16     -0.106992\n",
      "69     1994-02-01     1994-02-21        0.1308\n",
      "70     1994-02-01     1994-02-26      0.169148\n",
      "71     1994-02-01     1994-03-03    -0.0142806\n",
      "72     1994-02-01     1994-02-06    -0.0093084\n",
      "73     1994-02-01     1994-02-11     0.0360175\n",
      "74     1994-02-01     1994-02-16     -0.246336\n",
      "75     1994-02-01     1994-02-21     -0.167922\n",
      "76     1994-02-01     1994-02-26    -0.0283403\n",
      "77     1994-02-01     1994-03-03      0.249347\n",
      "78     1994-02-01     1994-02-06   -0.00490605\n",
      "79     1994-02-01     1994-02-11      0.315732\n",
      "..            ...            ...           ...\n",
      "95     1994-03-01     1994-03-31    -0.0942334\n",
      "96     1994-03-01     1994-03-06     -0.104471\n",
      "97     1994-03-01     1994-03-11      0.204566\n",
      "98     1994-03-01     1994-03-16     0.0352258\n",
      "99     1994-03-01     1994-03-21    -0.0741565\n",
      "100    1994-03-01     1994-03-26    -0.0579639\n",
      "101    1994-03-01     1994-03-31    -0.0137206\n",
      "102    1994-03-01     1994-03-06     -0.100144\n",
      "103    1994-03-01     1994-03-11     0.0424539\n",
      "104    1994-03-01     1994-03-16     -0.135928\n",
      "105    1994-03-01     1994-03-21     -0.149825\n",
      "106    1994-03-01     1994-03-26     0.0826509\n",
      "107    1994-03-01     1994-03-31     -0.120545\n",
      "108    1994-03-01     1994-03-06     -0.140153\n",
      "109    1994-03-01     1994-03-11    -0.0198083\n",
      "110    1994-03-01     1994-03-16    -0.0484044\n",
      "111    1994-03-01     1994-03-21     -0.147583\n",
      "112    1994-03-01     1994-03-26     -0.092822\n",
      "113    1994-03-01     1994-03-31     -0.131463\n",
      "114    1994-03-01     1994-03-06     -0.116242\n",
      "115    1994-03-01     1994-03-11    -0.0642326\n",
      "116    1994-03-01     1994-03-16    -0.0506351\n",
      "117    1994-03-01     1994-03-21    -0.0952083\n",
      "118    1994-03-01     1994-03-26     0.0915427\n",
      "119    1994-03-01     1994-03-31    -0.0623749\n",
      "120    1994-03-01     1994-03-06    -0.0498879\n",
      "121    1994-03-01     1994-03-11      0.143053\n",
      "122    1994-03-01     1994-03-16     0.0359376\n",
      "123    1994-03-01     1994-03-21     0.0480461\n",
      "124    1994-03-01     1994-03-26    -0.0378991\n",
      "\n",
      "[225 rows x 3 columns]\n",
      "750\n"
     ]
    }
   ],
   "source": [
    "print(tha_big_D.iloc[500:725,:])\n",
    "print(6*5*25)"
   ]
  },
  {
   "cell_type": "code",
   "execution_count": 62,
   "metadata": {},
   "outputs": [
    {
     "name": "stdout",
     "output_type": "stream",
     "text": [
      "24\n"
     ]
    }
   ],
   "source": [
    "#valid_test = init_times[init_select] + pd.Timedelta(1,unit='D')\n",
    "#print(init_times[init_select],valid_test)\n",
    "print(iens)"
   ]
  },
  {
   "cell_type": "code",
   "execution_count": 70,
   "metadata": {},
   "outputs": [
    {
     "name": "stdout",
     "output_type": "stream",
     "text": [
      "[0 1 2 3 4 5]\n",
      "4\n"
     ]
    }
   ],
   "source": [
    "print(iens*no_forecast_periods+ np.arange(0,no_forecast_periods))\n",
    "print(write_ind)"
   ]
  },
  {
   "cell_type": "code",
   "execution_count": 95,
   "metadata": {},
   "outputs": [
    {
     "name": "stdout",
     "output_type": "stream",
     "text": [
      "(288, 25, 215, 15)\n"
     ]
    }
   ],
   "source": [
    "print(extent.shape)"
   ]
  },
  {
   "cell_type": "code",
   "execution_count": 180,
   "metadata": {},
   "outputs": [
    {
     "name": "stdout",
     "output_type": "stream",
     "text": [
      "<xarray.DataArray 'Extent' (desired: 8640)>\n",
      "dask.array<shape=(8640,), dtype=float64, chunksize=(30,)>\n",
      "Coordinates:\n",
      "    ensemble      int32 0\n",
      "    nregions      int64 99\n",
      "    region_names  object 'panArctic'\n",
      "  * desired       (desired) MultiIndex\n",
      "  - init_time     (desired) datetime64[ns] 1993-01-01 1993-01-01 ... 1993-01-01\n",
      "  - fore_time     (desired) timedelta64[ns] 1 days 2 days ... 29 days 30 days\n",
      "[13.18428379 13.22850416 13.26103552 ... 12.41651797 12.45395472\n",
      " 12.49685983]\n"
     ]
    }
   ],
   "source": [
    "flat_test = extent[:,0,0:30,0].stack(desired=['init_time','fore_time'])\n",
    "\n",
    "print(flat_test)\n",
    "print(flat_test.values)"
   ]
  },
  {
   "cell_type": "code",
   "execution_count": 182,
   "metadata": {},
   "outputs": [
    {
     "name": "stdout",
     "output_type": "stream",
     "text": [
      "['1993-01-01T00:00:00.000000000' '1993-01-01T00:00:00.000000000'\n",
      " '1993-01-01T00:00:00.000000000' ... '2016-12-01T00:00:00.000000000'\n",
      " '2016-12-01T00:00:00.000000000' '2016-12-01T00:00:00.000000000']\n",
      "<xarray.DataArray 'fore_time' (desired: 8640)>\n",
      "array([  86400000000000,  172800000000000,  259200000000000, ...,\n",
      "       2419200000000000, 2505600000000000, 2592000000000000],\n",
      "      dtype='timedelta64[ns]')\n",
      "Coordinates:\n",
      "    ensemble      int32 0\n",
      "    nregions      int64 99\n",
      "    region_names  object 'panArctic'\n",
      "  * desired       (desired) MultiIndex\n",
      "  - init_time     (desired) datetime64[ns] 1993-01-01 1993-01-01 ... 1993-01-01\n",
      "  - fore_time     (desired) timedelta64[ns] 1 days 2 days ... 29 days 30 days\n"
     ]
    }
   ],
   "source": [
    "fff = flat_test.init_time\n",
    "print(fff.values)\n",
    "foreout = flat_test.fore_time\n",
    "print(foreout)"
   ]
  },
  {
   "cell_type": "code",
   "execution_count": 196,
   "metadata": {},
   "outputs": [
    {
     "name": "stdout",
     "output_type": "stream",
     "text": [
      "<xarray.DataArray 'init_time' (desired: 8640)>\n",
      "array(['1993-01-06T00:00:00.000000000', '1993-01-06T00:00:00.000000000',\n",
      "       '1993-01-06T00:00:00.000000000', ..., '2016-12-06T00:00:00.000000000',\n",
      "       '2016-12-06T00:00:00.000000000', '2016-12-06T00:00:00.000000000'],\n",
      "      dtype='datetime64[ns]')\n",
      "Coordinates:\n",
      "    ensemble      int32 0\n",
      "    nregions      int64 99\n",
      "    region_names  object 'panArctic'\n",
      "  * desired       (desired) MultiIndex\n",
      "  - init_time     (desired) datetime64[ns] 1993-01-01 1993-01-01 ... 1993-01-01\n",
      "  - fore_time     (desired) timedelta64[ns] 1 days 2 days ... 29 days 30 days\n",
      "['1993-01-06T00:00:00.000000000' '1993-01-06T00:00:00.000000000'\n",
      " '1993-01-06T00:00:00.000000000' ... '2016-12-06T00:00:00.000000000'\n",
      " '2016-12-06T00:00:00.000000000' '2016-12-06T00:00:00.000000000']\n"
     ]
    }
   ],
   "source": [
    "in_days = np.arange(1,30,5)*60*60*24*10**9 #in [ns]\n",
    "out_days = np.arange(5,31,5)*60*60*24*10**9 #in [ns]\n",
    "#print(in_days,out_days)\n",
    "tds = fff + pd.Timedelta(delta_lead_days[0],unit='D')\n",
    "print(tds)\n",
    "fart = tds.values\n",
    "print(fart)"
   ]
  },
  {
   "cell_type": "code",
   "execution_count": 179,
   "metadata": {},
   "outputs": [
    {
     "name": "stdout",
     "output_type": "stream",
     "text": [
      "86400000000000 nanoseconds\n",
      "1 days 00:00:00\n",
      "86400000000000\n",
      "<xarray.DataArray 'fore_time' (desired: 750)>\n",
      "array([False, False, False, ..., False, False, False])\n",
      "Coordinates:\n",
      "    nregions      int64 99\n",
      "    region_names  object 'panArctic'\n",
      "    init_time     datetime64[ns] 1993-01-01\n",
      "  * desired       (desired) MultiIndex\n",
      "  - ensemble      (desired) int64 0 0 0 0 0 0 0 0 0 0 0 ... 0 0 0 0 0 0 0 0 0 0\n",
      "  - fore_time     (desired) timedelta64[ns] 1 days 2 days ... 29 days 30 days\n"
     ]
    }
   ],
   "source": [
    "print(fff[0].values)\n",
    "fucking_god_dammit = pd.Timedelta(in_days[0])\n",
    "print(fucking_god_dammit)\n",
    "ugh = fff.isin(fucking_god_dammit.nanoseconds)\n",
    "#print(pd.datetime(in_days[0]).astype('datetime64[ns]'))\n",
    "print(in_days[0])\n",
    "print(ugh)"
   ]
  },
  {
   "cell_type": "code",
   "execution_count": null,
   "metadata": {},
   "outputs": [],
   "source": []
  }
 ],
 "metadata": {
  "kernelspec": {
   "display_name": "Python 3",
   "language": "python",
   "name": "python3"
  },
  "language_info": {
   "codemirror_mode": {
    "name": "ipython",
    "version": 3
   },
   "file_extension": ".py",
   "mimetype": "text/x-python",
   "name": "python",
   "nbconvert_exporter": "python",
   "pygments_lexer": "ipython3",
   "version": "3.7.3"
  }
 },
 "nbformat": 4,
 "nbformat_minor": 2
}
