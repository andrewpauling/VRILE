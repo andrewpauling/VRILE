{
 "cells": [
  {
   "cell_type": "markdown",
   "metadata": {},
   "source": [
    "<code>calculate_error_propagation_S2S_models_VRILE_days.ipynb</code>.  We calculate the error propagation that occurs during/after VRILE days"
   ]
  },
  {
   "cell_type": "markdown",
   "metadata": {},
   "source": [
    "<b>inputs:</b><br>\n",
    "<li>  model name (ecmwf,ukmo,ncep,metreofr) </li>\n",
    "<li>  seas_str [string for season; ALL if we want to do full year]</li>\n",
    "<li>  seas_sel [months of season; empty if we want to do full year] </li>\n",
    "<li>  vrile_thresh [threshhold at which VRILE is estimated </li>\n",
    "<li>  thresh_str [string for VRILE threshhold] </li>\n"
   ]
  },
  {
   "cell_type": "code",
   "execution_count": 1,
   "metadata": {},
   "outputs": [],
   "source": [
    "import xarray as xr\n",
    "import numpy as np\n",
    "import pandas as pd\n",
    "import os\n",
    "import matplotlib.pyplot as plt"
   ]
  },
  {
   "cell_type": "markdown",
   "metadata": {},
   "source": [
    "## Functions"
   ]
  },
  {
   "cell_type": "markdown",
   "metadata": {},
   "source": [
    "<li>1) Load model netCDF files, combine with CTRL, and use common reforecast period. <br>\n",
    "if NCEP, use entire period </li>\n",
    "<li> 2) Add aggregate regions </li>\n",
    "<li> 3) Create climatology--model: calculate date of year for valid date, lead time in weeks.<br>\n",
    "    Group by region, lead time, and valid date of year <br>\n",
    "    Average climatology based on day of year and lead time in weeks--use <code>transform</code> to create <code>SIE_clim</code>.<br> \n",
    "    Subtract <code>SIE_clim</code> from <code>SIE</code><br> </li>\n",
    "<li> 4) Create observed climatology </li>\n",
    "<li> 5) Identify VRILE days </li>\n",
    "<li> 6) Shift VRILE days, if we want to start prediction before the VRILE (shift by 0 if we want to start on the VRILE day) </li>\n",
    "<li> 7) Identify model forecasts that start on day/week 0 of event (i.e., if VRILE starts on July 10, and we want to start predicting 7 days before the VRILE started, look for model forecasts that initialize within 1 day/week of July 3) </li>\n",
    "<li> 8) Calculate errors: as a function of region, valid date, and lead time. Want to output: <br>\n",
    "    Raw error (for bias) <br>\n",
    "    Mean absolute error <br>\n",
    "    RMSE <br>\n",
    "    For both SIE and anomalous SIE </li>"
   ]
  },
  {
   "cell_type": "markdown",
   "metadata": {},
   "source": [
    "Load the netCDF files for our specific model from <code>/home/disk/sipn/nicway</code>.  We want the control runs too.  Then, select only the common reforecast period (1999-01-01 to 2014-12-31), and add the control run to the rest of the output. <br>\n",
    "NOTE: for NCEP, since the reforecast period is short (ends in 2011), we will just use the entire period. "
   ]
  },
  {
   "cell_type": "code",
   "execution_count": 2,
   "metadata": {},
   "outputs": [],
   "source": [
    "def load_model(model_name):\n",
    "    # Paths for perturb and control runs\n",
    "    filepath = '/home/disk/sipn/nicway/data/model/{model_name}/reforecast/sipn_nc_agg/'.format(model_name=model_name)\n",
    "    filepath_ctrl = '/home/disk/sipn/nicway/data/model/{model_name}/reforecast.control/sipn_nc_agg/'.format(model_name=model_name)\n",
    "    # Open both with xarray\n",
    "    filenames = xr.open_mfdataset(filepath+'/*.nc',combine='by_coords')\n",
    "    filenames_ctrl = xr.open_mfdataset(filepath_ctrl+'/*.nc',combine='by_coords')\n",
    "    print(filenames)\n",
    "    # load SIE\n",
    "    SIE = filenames.Extent\n",
    "    SIE_ctrl = filenames_ctrl.Extent\n",
    "    # Add coordinate to ensemble dimension for SIE_ctrl so we can combine with SIE\n",
    "    SIE_ctrl.coords['ensemble'] = xr.DataArray([len(SIE.ensemble)],\n",
    "                                               dims='ensemble', coords={'ensemble':[len(SIE.ensemble)]})\n",
    "    # Use common reforecast period for all models EXCEPT NCEP\n",
    "    if model_name == 'ncep':\n",
    "        # Don't need to use a common reforecast but remove repeated indices\n",
    "        _,init_ind = np.unique(SIE['init_time'],return_index=True)\n",
    "        _,init_ind_c = np.unique(SIE_ctrl['init_time'],return_index=True)\n",
    "        SIE = SIE.isel(init_time=init_ind)\n",
    "        SIE_ctrl = SIE_ctrl.isel(init_time=init_ind_c)\n",
    "    elif model_name != 'ncep':\n",
    "        common_start = '1999-01-01'\n",
    "        common_end = '2014-12-31'\n",
    "        # Select only common reforecast period (full period for NCEP)\n",
    "        SIE = SIE.sel(init_time=slice(common_start,common_end))\n",
    "        SIE_ctrl = SIE_ctrl.sel(init_time=slice(common_start,common_end))\n",
    "        # Remove repeated indices in CTRL\n",
    "        _,init_ind_c = np.unique(SIE_ctrl['init_time'],return_index=True)\n",
    "        SIE_ctrl = SIE_ctrl.isel(init_time=init_ind_c)\n",
    "    # Concatenate the two\n",
    "    SIE = xr.concat([SIE,SIE_ctrl],dim='ensemble')\n",
    "    \n",
    "    return SIE"
   ]
  },
  {
   "cell_type": "markdown",
   "metadata": {},
   "source": [
    "We want to create a few aggregate regions from the NSIDC MASIE regions (more at: https://nsidc.org/data/masie/browse_regions) since some regions are so small. We're going to combine the following: <br>\n",
    "<li> Kara and Laptev Seas (<code>region_KL</code>)</li>\n",
    "<li> Barents, Kara and Laptev Seas (<code>region_BKL</code>)</li>\n",
    "<li> East Siberian, Beaufort, and Chukchi Seas (<code>region_EBC</code>)</li>\n",
    "<li> Atlantic (Baffin Bay and East Greenland Sea) (<code>region_ATL</code>)</li>\n",
    "<li> East Siberian, Beaufort, Chukchi, Laptev Seas (<code>region_EBCL</code>)</li>\n"
   ]
  },
  {
   "cell_type": "code",
   "execution_count": 3,
   "metadata": {},
   "outputs": [],
   "source": [
    "def create_aggregate_regions(SIE_data):\n",
    "    nregions = SIE_data['nregions']\n",
    "    region_names = SIE_data['region_names']\n",
    "    # Get corresponding indices for each of our aggregate regions\n",
    "    region_KL = nregions[region_names.isin(['Kara Sea','Laptev Sea'])]\n",
    "    region_BKL = nregions[region_names.isin(['Barents Sea','Kara Sea','Laptev Sea'])]\n",
    "    region_EBC = nregions[region_names.isin(['East Siberian Sea','Beaufort Sea','Chukchi Sea'])]\n",
    "    region_ATL = nregions[region_names.isin(['Baffin Bay','East Greenland Sea'])]\n",
    "    region_EBCL = nregions[region_names.isin(['East Siberian Sea','Beaufort Sea','Chukchi Sea','Laptev Sea'])]\n",
    "    # Select each aggregate region, add them together, and add the 'nregions' dimension back; concatenate all aggregates \n",
    "    SIE_agg = xr.concat([SIE_data.sel(nregions=region_KL).sum(dim='nregions').expand_dims(dim='nregions'),\n",
    "                  SIE_data.sel(nregions=region_BKL).sum(dim='nregions').expand_dims(dim='nregions'),\n",
    "                  SIE_data.sel(nregions=region_EBC).sum(dim='nregions').expand_dims(dim='nregions'),\n",
    "                  SIE_data.sel(nregions=region_ATL).sum(dim='nregions').expand_dims(dim='nregions'),\n",
    "                  SIE_data.sel(nregions=region_EBCL).sum(dim='nregions').expand_dims(dim='nregions')],dim='nregions')\n",
    "    # Add coordinates to nregions.  Start at 20 to make a clear separation from original NSIDC regions\n",
    "    SIE_agg = SIE_agg.assign_coords(nregions=[20,21,22,23,24])\n",
    "    # Add region names\n",
    "    region_names_extra = ['Kara-Laptev Sea','Barents-Kara-Laptev Sea','East Siberian-Beaufort-Chukchi Sea',\n",
    "                      'Atlantic','East Siberian-Beaufort-Chukchi-Laptev Sea']\n",
    "    SIE_agg[\"region_names\"] = (\"nregions\",region_names_extra)\n",
    "    #SIE\n",
    "    SIE_data = xr.concat([SIE_data,SIE_agg],dim='nregions')\n",
    "    return(SIE_data)"
   ]
  },
  {
   "cell_type": "markdown",
   "metadata": {},
   "source": [
    "Create climatology for model output based on region, day of year, and lead time.  Get month-day for valid dates (don't use dayofyear because of leap days).  Since our forecasts are not initialized every day, we will do two versions--one where we keep each lead time separate, and one where we group our lead time climatology based on week instead of day (which is more supported in the literature). "
   ]
  },
  {
   "cell_type": "code",
   "execution_count": 4,
   "metadata": {},
   "outputs": [],
   "source": [
    "def create_model_climatology(SIE,week_length):\n",
    "    # Add valid date in %m-%d format\n",
    "    SIE['valid date of yr'] = pd.to_datetime(SIE['valid date']).dt.strftime('%m-%d')\n",
    "    # Determine lead time as a function of weeks instead of days\n",
    "    SIE_df_weekly = SIE.copy()\n",
    "    SIE_df_weekly['lead time (weeks)'] = SIE_df['lead time (days)'].values.astype('timedelta64[D]')/pd.Timedelta(week_length,'D')\n",
    "    SIE_df_weekly['lead time (weeks)'] = SIE_df_weekly['lead time (weeks)'].apply(np.floor)\n",
    "    # Group by region, lead time, and valid day of year. Use .transform('mean') so that our climatology has the \n",
    "    # same shape as the original input dataframe (so we can just subtract SIE_clim from SIE easily at the end)\n",
    "    SIE['SIE clim'] = SIE.groupby(['region','lead time (days)','valid date of yr'])['SIE'].transform('mean')\n",
    "    SIE_df_weekly['SIE clim'] = SIE_df_weekly.groupby(['region','lead time (weeks)','valid date of yr'])['SIE'].transform('mean')\n",
    "\n",
    "    SIE['SIE anom'] = SIE['SIE'] - SIE['SIE clim']\n",
    "    SIE_df_weekly['SIE anom'] = SIE_df_weekly['SIE'] - SIE_df_weekly['SIE clim']\n",
    "    return(SIE,SIE_df_weekly)"
   ]
  },
  {
   "cell_type": "markdown",
   "metadata": {},
   "source": [
    "Create climatology for the observations.  This is easier, we just need to get the day of year (month-day) for each observation, take the mean, and then subtract the annual cycle from our full dataset. "
   ]
  },
  {
   "cell_type": "code",
   "execution_count": 5,
   "metadata": {},
   "outputs": [],
   "source": [
    "def create_obs_climatology(SIE):\n",
    "    # Add valid date in %m-%d format\n",
    "    SIE['valid day of year'] = pd.to_datetime(SIE['valid date']).dt.strftime('%m-%d')\n",
    "    # Group by region and day of year and take the mean. Use transform to make the output match the dataframe instead\n",
    "    # of creating a multi-index\n",
    "    SIE['SIE clim'] = SIE.groupby(['region','valid day of year'])['SIE'].transform('mean')\n",
    "    # And simply subtract SIE_clim from actual SIE\n",
    "    SIE['SIE anom'] = SIE['SIE'] - SIE['SIE clim']\n",
    "    return SIE"
   ]
  },
  {
   "cell_type": "markdown",
   "metadata": {},
   "source": [
    "Calculate VRILE days from obs.  Determine $n$-day changes in SIE and anomalous SIE, and estimate the lower tail of the distribution based on <code>VRILE_thresh</code>.  For now, we'll assume we need a 5-day change in SIE.  "
   ]
  },
  {
   "cell_type": "code",
   "execution_count": 6,
   "metadata": {},
   "outputs": [],
   "source": [
    "def get_VRILE_days(obs_SIE,vrile_thresh,nday_change,seas_sel):\n",
    "    # Use shift to move SIE/SIE anom foreward and backward by nday_change days\n",
    "    nday_shift = np.floor(nday_change/2)\n",
    "    obs_SIE['SIE anom -n'] = obs_SIE.groupby(['region'])['SIE anom'].shift(-nday_shift)\n",
    "    obs_SIE['SIE anom +n'] = obs_SIE.groupby(['region'])['SIE anom'].shift(+nday_shift)\n",
    "    obs_SIE['SIE -n'] = obs_SIE.groupby(['region'])['SIE'].shift(-nday_shift)\n",
    "    obs_SIE['SIE +n'] = obs_SIE.groupby(['region'])['SIE'].shift(+nday_shift)\n",
    "    obs_SIE['d_SIE'] = obs_SIE['SIE -n'] - obs_SIE['SIE +n']\n",
    "    obs_SIE['d_SIE anom'] = obs_SIE['SIE anom -n'] - obs_SIE['SIE anom +n']\n",
    "    # Trim to correct season based on seas_sel\n",
    "    if not seas_sel:\n",
    "        obs_SIE = obs_SIE\n",
    "    else:\n",
    "        obs_SIE = obs_SIE[pd.to_datetime(obs_SIE['valid date']).dt.month.isin(seas_sel)]\n",
    "    # Identify VRILE days based on vrile_thresh\n",
    "    obs_SIE['SIE p05'] = obs_SIE.groupby(['region'])['d_SIE'].transform(lambda x: x.quantile(vrile_thresh))\n",
    "    obs_SIE['SIE anom p05'] = obs_SIE.groupby(['region'])['d_SIE anom'].transform(lambda x: x.quantile(vrile_thresh))\n",
    "    obs_SIE_VRILE_only = obs_SIE.groupby(['region']).apply(lambda x: x[x['d_SIE'] <= x['SIE p05']])\n",
    "    obs_SIE_anom_VRILE_only = obs_SIE.groupby(['region']).apply(lambda x: x[x['d_SIE anom'] <= x['SIE anom p05']])\n",
    "    # Also return non-VRILE days only\n",
    "    obs_SIE_NO_VRILE = obs_SIE.groupby(['region']).apply(lambda x: x[x['d_SIE'] > x['SIE p05']])\n",
    "    obs_SIE_anom_NO_VRILE = obs_SIE.groupby(['region']).apply(lambda x: x[x['d_SIE anom'] > x['SIE anom p05']])\n",
    "    # Keep only VRILE days\n",
    "    obs_SIE_VRILE_only = obs_SIE_VRILE_only.reset_index(level=0, drop=True).reset_index()\n",
    "    obs_SIE_anom_VRILE_only = obs_SIE_anom_VRILE_only.reset_index(level=0, drop=True).reset_index()\n",
    "    obs_SIE_NO_VRILE = obs_SIE_NO_VRILE.reset_index(level=0,drop=True).reset_index()\n",
    "    obs_SIE_anom_NO_VRILE = obs_SIE_anom_NO_VRILE.reset_index(level=0,drop=True).reset_index()\n",
    "    return obs_SIE_VRILE_only, obs_SIE_anom_VRILE_only, obs_SIE_NO_VRILE, obs_SIE_anom_NO_VRILE"
   ]
  },
  {
   "cell_type": "markdown",
   "metadata": {},
   "source": [
    "Calculate raw error, mean absolute error, and RMSE.  These calculations will be a function of region and lead time.  See nice notebook for equations for RMSE and MAE"
   ]
  },
  {
   "cell_type": "code",
   "execution_count": 117,
   "metadata": {},
   "outputs": [],
   "source": [
    "def calculate_errors(model_SIE,obs_SIE):\n",
    "    # Group by region, valid date, and lead time (for model)\n",
    "    SIE_obsx = obs_SIE.groupby(['region','valid date'])['SIE','SIE clim','SIE anom'].mean()\n",
    "    # First calculate raw model error (we'll also group by init time so we can save that for calculating other stuff)\n",
    "    SIE_model_raw = model_SIE.groupby(['region','valid date','lead days','init date'])['SIE','SIE clim','SIE anom'].mean()\n",
    "    SIE_raw_error = SIE_model_raw[['SIE','SIE anom']] - SIE_obsx[['SIE','SIE anom']]\n",
    "    SIE_raw_error = SIE_raw_error.dropna(how='all')\n",
    "    # Now, we'll do MAE and RMSE (we don't care about the date of initialization)\n",
    "    SIE_modelx = model_SIE.groupby(['region','valid date','lead days'])['SIE','SIE clim','SIE anom'].mean()\n",
    "    SIE_diff = SIE_modelx[['SIE','SIE anom']] - SIE_obsx[['SIE','SIE anom']]\n",
    "    # Square errors to get RMSE. get absolute value of errors for MAE\n",
    "    SIE_diff = SIE_diff#.dropna(how='all')\n",
    "    SIE_diff = SIE_diff.rename(columns={'SIE':'SIE raw error','SIE anom':'SIE anom raw error'})\n",
    "    SIE_diff[['SIE sq error','SIE anom sq error']] = SIE_diff**2\n",
    "    # Now, average over all valid dates and take the square root. \n",
    "    SIE_errors = np.sqrt(SIE_diff[['SIE sq error','SIE anom sq error']].mean(level=(0,2)))\n",
    "    # Absolute value, then average over all valid dates to get the MAE\n",
    "    SIE_errors[['SIE MAE','SIE anom MAE']] = SIE_diff[['SIE raw error','SIE anom raw error']].abs().mean(level=(0,2))\n",
    "    SIE_errors = SIE_errors.rename(columns={'SIE sq error':'SIE RMSE','SIE anom sq error':'SIE anom RMSE'})\n",
    "    return(SIE_raw_error,SIE_errors)\n",
    "    "
   ]
  },
  {
   "cell_type": "code",
   "execution_count": 298,
   "metadata": {},
   "outputs": [],
   "source": [
    "model_name = 'ukmo'\n",
    "seas_str = 'ALL'\n",
    "seas_sel = [1,2,3,4,5,6,7,8,9,10,11,12]\n",
    "obs_name = 'NSIDC_0079'\n",
    "WEEKLY = True\n",
    "lead_weeks = True\n",
    "vrile_thresh = 0.1\n",
    "thresh_str = '10'\n",
    "nday_change = 5 #number of days for VRILE calculation\n",
    "normalize = False\n",
    "VRILE_shift = 14 # days; number of days BEFORE VRILE to analyze\n",
    "COMMON_RF = True\n",
    "max_date_offset = 7 # days; number of days +/- the start of the VRILE"
   ]
  },
  {
   "cell_type": "markdown",
   "metadata": {},
   "source": [
    "Load model output for our desired model"
   ]
  },
  {
   "cell_type": "code",
   "execution_count": 299,
   "metadata": {
    "scrolled": true
   },
   "outputs": [
    {
     "name": "stdout",
     "output_type": "stream",
     "text": [
      "<xarray.Dataset>\n",
      "Dimensions:       (ensemble: 6, fore_time: 60, init_time: 1008, nregions: 15)\n",
      "Coordinates:\n",
      "    region_names  (nregions) object dask.array<chunksize=(15,), meta=np.ndarray>\n",
      "  * ensemble      (ensemble) int32 0 1 2 3 4 5\n",
      "  * nregions      (nregions) int64 99 2 3 4 5 6 7 8 9 10 11 12 13 14 15\n",
      "  * fore_time     (fore_time) timedelta64[ns] 0 days 1 days ... 58 days 59 days\n",
      "  * init_time     (init_time) datetime64[ns] 1995-01-01 ... 2015-12-25\n",
      "Data variables:\n",
      "    Extent        (ensemble, init_time, fore_time, nregions) float64 dask.array<chunksize=(6, 1, 60, 15), meta=np.ndarray>\n",
      "<xarray.Dataset>\n",
      "Dimensions:       (ensemble: 6, fore_time: 60, init_time: 1008, nregions: 15)\n",
      "Coordinates:\n",
      "    region_names  (nregions) object dask.array<chunksize=(15,), meta=np.ndarray>\n",
      "  * ensemble      (ensemble) int32 0 1 2 3 4 5\n",
      "  * nregions      (nregions) int64 99 2 3 4 5 6 7 8 9 10 11 12 13 14 15\n",
      "  * fore_time     (fore_time) timedelta64[ns] 0 days 1 days ... 58 days 59 days\n",
      "  * init_time     (init_time) datetime64[ns] 1995-01-01 ... 2015-12-25\n",
      "Data variables:\n",
      "    Extent        (ensemble, init_time, fore_time, nregions) float64 dask.array<chunksize=(6, 1, 60, 15), meta=np.ndarray>\n",
      "loaded  ukmo\n",
      "loaded  ukmo\n"
     ]
    }
   ],
   "source": [
    "SIE = load_model(model_name)\n",
    "print('loaded ',model_name)"
   ]
  },
  {
   "cell_type": "markdown",
   "metadata": {},
   "source": [
    "Create aggregate regions that combine some of the NSIDC-MASIE regions"
   ]
  },
  {
   "cell_type": "code",
   "execution_count": 300,
   "metadata": {
    "scrolled": true
   },
   "outputs": [
    {
     "name": "stdout",
     "output_type": "stream",
     "text": [
      "combined regions\n",
      "combined regions\n"
     ]
    }
   ],
   "source": [
    "SIE = create_aggregate_regions(SIE)\n",
    "print('combined regions')"
   ]
  },
  {
   "cell_type": "markdown",
   "metadata": {},
   "source": [
    "Now, take the ensemble mean and get lead time in days"
   ]
  },
  {
   "cell_type": "code",
   "execution_count": 301,
   "metadata": {},
   "outputs": [],
   "source": [
    "SIE_ens_mean = SIE.mean(dim='ensemble')\n",
    "regions = SIE.region_names\n",
    "lead_days = SIE.fore_time.dt.days"
   ]
  },
  {
   "cell_type": "markdown",
   "metadata": {},
   "source": [
    "Convert to dataframe because I like Pandas"
   ]
  },
  {
   "cell_type": "code",
   "execution_count": 302,
   "metadata": {},
   "outputs": [],
   "source": [
    "SIE_df = SIE_ens_mean.to_dataframe().reset_index()"
   ]
  },
  {
   "cell_type": "markdown",
   "metadata": {},
   "source": [
    "Calculate the date for forecasts by adding the <code>fore_time</code> to <code>init_time</code>. Rename some columns to make life easier"
   ]
  },
  {
   "cell_type": "code",
   "execution_count": 303,
   "metadata": {},
   "outputs": [],
   "source": [
    "SIE_df['valid date'] = SIE_df['init_time'] + SIE_df['fore_time']\n",
    "SIE_df = SIE_df.rename(columns={'region_names':'region',\n",
    "                           'fore_time':'lead time (days)',\n",
    "                           'init_time':'init date',\n",
    "                           'Extent':'SIE'})"
   ]
  },
  {
   "cell_type": "markdown",
   "metadata": {},
   "source": [
    "Create climatology for model output.  Decide how long we want weeks to be for weekly climatology (default is 7 days)"
   ]
  },
  {
   "cell_type": "code",
   "execution_count": 304,
   "metadata": {},
   "outputs": [
    {
     "name": "stdout",
     "output_type": "stream",
     "text": [
      "model climatology created\n",
      "model climatology created\n"
     ]
    }
   ],
   "source": [
    "week_length = 7\n",
    "SIE_df,SIE_df_weekly = create_model_climatology(SIE_df,7)\n",
    "print('model climatology created')"
   ]
  },
  {
   "cell_type": "markdown",
   "metadata": {},
   "source": [
    "Load observations.  NSIDC_0079 is NASA Bootstrap, NSIDC_0081 is NASA team"
   ]
  },
  {
   "cell_type": "code",
   "execution_count": 305,
   "metadata": {},
   "outputs": [
    {
     "name": "stdout",
     "output_type": "stream",
     "text": [
      "opening  <xarray.Dataset>\n",
      "Dimensions:       (nregions: 15, time: 11322)\n",
      "Coordinates:\n",
      "    region_names  (nregions) object dask.array<chunksize=(15,), meta=np.ndarray>\n",
      "  * nregions      (nregions) int64 99 2 3 4 5 6 7 8 9 10 11 12 13 14 15\n",
      "  * time          (time) datetime64[ns] 1989-01-01 1989-01-02 ... 2019-12-31\n",
      "Data variables:\n",
      "    Extent        (time, nregions) float64 dask.array<chunksize=(365, 15), meta=np.ndarray>\n",
      "obs loaded\n",
      "opening  <xarray.Dataset>\n",
      "Dimensions:       (nregions: 15, time: 11322)\n",
      "Coordinates:\n",
      "    region_names  (nregions) object dask.array<chunksize=(15,), meta=np.ndarray>\n",
      "  * nregions      (nregions) int64 99 2 3 4 5 6 7 8 9 10 11 12 13 14 15\n",
      "  * time          (time) datetime64[ns] 1989-01-01 1989-01-02 ... 2019-12-31\n",
      "Data variables:\n",
      "    Extent        (time, nregions) float64 dask.array<chunksize=(365, 15), meta=np.ndarray>\n",
      "obs loaded\n"
     ]
    }
   ],
   "source": [
    "obs_type = 'sipn_nc_yearly_agg'\n",
    "filepath = '/home/disk/sipn/nicway/data/obs/{model_name}/{model_type}/'.format(model_name=obs_name,\n",
    "                                                                              model_type=obs_type)\n",
    "obs_filenames = xr.open_mfdataset(filepath+'/*.nc',combine='by_coords')\n",
    "print('opening ',obs_filenames)\n",
    "obs_SIE = obs_filenames.Extent\n",
    "obs_regions = obs_filenames.nregions\n",
    "obs_region_names = obs_filenames['region_names'].values\n",
    "# Drop region names and re-add as a non-dask.array object.  This is stupid but oh well\n",
    "obs_SIE = obs_SIE.drop('region_names')\n",
    "obs_SIE[\"region_names\"] = (\"nregions\",obs_region_names)\n",
    "print('obs loaded')"
   ]
  },
  {
   "cell_type": "markdown",
   "metadata": {},
   "source": [
    "Add aggregate regions to obs and convert obs to Pandas dataframe"
   ]
  },
  {
   "cell_type": "code",
   "execution_count": 306,
   "metadata": {},
   "outputs": [],
   "source": [
    "obs_SIE = create_aggregate_regions(obs_SIE)\n",
    "obs_SIE = obs_SIE.to_dataframe().reset_index()\n",
    "obs_SIE = obs_SIE.rename(columns={'Extent':'SIE','region_names':'region','time':'valid date'})"
   ]
  },
  {
   "cell_type": "markdown",
   "metadata": {},
   "source": [
    "Calculate our observed climatology "
   ]
  },
  {
   "cell_type": "code",
   "execution_count": 307,
   "metadata": {
    "scrolled": false
   },
   "outputs": [
    {
     "name": "stdout",
     "output_type": "stream",
     "text": [
      "common reforecast\n",
      "observed climatology created\n",
      "common reforecast\n",
      "observed climatology created\n"
     ]
    }
   ],
   "source": [
    "if COMMON_RF == True:\n",
    "    obs_SIE = obs_SIE[pd.to_datetime(obs_SIE['valid date']).dt.year.isin(np.arange(1999,2015))]\n",
    "    obs_SIE = create_obs_climatology(obs_SIE)\n",
    "    time_str = 'COMMON_RF'\n",
    "    print('common reforecast')\n",
    "else:\n",
    "    time_str = 'FULL_PERIOD'\n",
    "    obs_SIE = create_obs_climatology(obs_SIE)\n",
    "    print('full period')\n",
    "print('observed climatology created')"
   ]
  },
  {
   "cell_type": "markdown",
   "metadata": {},
   "source": [
    "Estimate observed VRILE days"
   ]
  },
  {
   "cell_type": "code",
   "execution_count": 308,
   "metadata": {
    "scrolled": false
   },
   "outputs": [
    {
     "name": "stdout",
     "output_type": "stream",
     "text": [
      "VRILE days calculated\n",
      "VRILE days calculated\n"
     ]
    }
   ],
   "source": [
    "obs_SIE_VRILE_onlyx, obs_SIE_anom_VRILE_onlyx, obs_SIE_NO_VRILEx, obs_SIE_anom_NO_VRILEx = get_VRILE_days(obs_SIE,vrile_thresh,nday_change,seas_sel)\n",
    "print('VRILE days calculated')"
   ]
  },
  {
   "cell_type": "markdown",
   "metadata": {},
   "source": [
    "Index with region"
   ]
  },
  {
   "cell_type": "code",
   "execution_count": 309,
   "metadata": {},
   "outputs": [],
   "source": [
    "obs_SIE_VRILE_only = obs_SIE_VRILE_onlyx.set_index(['region'])\n",
    "obs_SIE_anom_VRILE_only = obs_SIE_anom_VRILE_onlyx.set_index(['region'])\n",
    "#\n",
    "obs_SIE_NO_VRILE = obs_SIE_NO_VRILEx.set_index(['region'])\n",
    "obs_SIE_anom_NO_VRILE = obs_SIE_anom_NO_VRILEx.set_index(['region'])\n"
   ]
  },
  {
   "cell_type": "markdown",
   "metadata": {},
   "source": [
    "Day we START our predictions is determined by <code>VRILE_shift</code>"
   ]
  },
  {
   "cell_type": "code",
   "execution_count": 310,
   "metadata": {},
   "outputs": [],
   "source": [
    "obs_SIE_VRILE_only['valid date START'] = obs_SIE_VRILE_only['valid date'] - pd.Timedelta(VRILE_shift,'D')\n",
    "obs_SIE_anom_VRILE_only['valid date START'] = obs_SIE_anom_VRILE_only['valid date'] - pd.Timedelta(VRILE_shift,'D')"
   ]
  },
  {
   "cell_type": "markdown",
   "metadata": {},
   "source": [
    "Now, we find model forecasts that start within 3 days of <code>valid date START</code>"
   ]
  },
  {
   "cell_type": "code",
   "execution_count": 329,
   "metadata": {
    "scrolled": false
   },
   "outputs": [],
   "source": [
    "SIE_df['lead time (weeks)'] = np.floor(SIE_df['lead time (days)'].dt.days/week_length)\n",
    "SIE_df_reg = SIE_df.set_index(['region'])\n",
    "#x_reg = 'panArctic'\n",
    "region_list = obs_SIE['region'].unique().tolist()\n",
    "SIE_VRILES = pd.DataFrame()\n",
    "obs_VRILES = pd.DataFrame()\n",
    "SIE_no_VRILES = pd.DataFrame()\n",
    "obs_no_VRILES = pd.DataFrame()\n",
    "# Same, but for VRILES based on anomalous SIE\n",
    "SIE_anom_VRILES = pd.DataFrame()\n",
    "obs_anom_VRILES = pd.DataFrame()\n",
    "SIE_anom_no_VRILES = pd.DataFrame()\n",
    "obs_anom_no_VRILES = pd.DataFrame()\n",
    "for x_reg in region_list:\n",
    "    #SIE_df_x = SIE_df.set_index(['region']).xs((x_reg))\n",
    "    dates_shifted = pd.DataFrame()\n",
    "    dates_shifted['region'] = x_reg\n",
    "    dates_shifted = pd.DataFrame(obs_SIE_VRILE_only.xs(x_reg)['valid date START'])\n",
    "    dates_shifted_list = pd.DataFrame(obs_SIE_VRILE_only.xs(x_reg)['valid date START'])\n",
    "    # Anom dates shifted\n",
    "    anom_dates_shifted = pd.DataFrame()\n",
    "    anom_dates_shifted['region'] = x_reg\n",
    "    anom_dates_shifted = pd.DataFrame(obs_SIE_anom_VRILE_only.xs(x_reg)['valid date START'])\n",
    "    anom_dates_shifted_list = pd.DataFrame(obs_SIE_anom_VRILE_only.xs(x_reg)['valid date START'])\n",
    "    #\n",
    "    for i in np.arange(1,max_date_offset+1):\n",
    "        i_forward = dates_shifted + pd.Timedelta(i,'D')\n",
    "        i_backward = dates_shifted - pd.Timedelta(i,'D')\n",
    "        dates_shifted_list = dates_shifted_list.append((i_forward,i_backward))\n",
    "        # same but for anom\n",
    "        i_anom_forward = anom_dates_shifted + pd.Timedelta(i,'D')\n",
    "        i_anom_backward = anom_dates_shifted - pd.Timedelta(i,'D')\n",
    "        anom_dates_shifted_list = anom_dates_shifted_list.append((i_anom_forward,i_anom_backward)) \n",
    "    #dates_shifted_list_ALL = dates_shifted_list_ALL.append(dates_shifted_list)\n",
    "    x_SIE = SIE_df_reg.loc[x_reg]\n",
    "    x_SIE_VRILES = x_SIE[x_SIE['init date'].isin(dates_shifted_list['valid date START'])]\n",
    "    x_obs = obs_SIE.set_index('region').loc[x_reg]\n",
    "    x_SIE_obs = x_obs[x_obs['valid date'].isin(x_SIE_VRILES['valid date'])]\n",
    "    SIE_VRILES = SIE_VRILES.append(x_SIE_VRILES)\n",
    "    obs_VRILES = obs_VRILES.append(x_SIE_obs)\n",
    "    #\n",
    "    x_SIE_no = x_SIE[~x_SIE['init date'].isin(dates_shifted_list['valid date START'])]\n",
    "    SIE_no_VRILES = SIE_no_VRILES.append(x_SIE_no)\n",
    "    x_no_obs = x_obs[x_obs['valid date'].isin(x_SIE_no['valid date'])]\n",
    "    obs_no_VRILES = obs_no_VRILES.append(x_no_obs)\n",
    "    ### Same, but for anom\n",
    "    x_anom_SIE_VRILES = x_SIE[x_SIE['init date'].isin(anom_dates_shifted_list['valid date START'])]\n",
    "    #x_anom_obs = obs_SIE.set_index('region').loc[x_reg]\n",
    "    x_anom_SIE_obs = x_obs[x_obs['valid date'].isin(x_anom_SIE_VRILES['valid date'])]\n",
    "    SIE_anom_VRILES = SIE_anom_VRILES.append(x_anom_SIE_VRILES)\n",
    "    obs_anom_VRILES = obs_anom_VRILES.append(x_anom_SIE_obs)\n",
    "    #\n",
    "    x_anom_SIE_no = x_SIE[~x_SIE['init date'].isin(anom_dates_shifted_list['valid date START'])]\n",
    "    SIE_anom_no_VRILES = SIE_anom_no_VRILES.append(x_anom_SIE_no)\n",
    "    x_anom_no_obs = x_obs[x_obs['valid date'].isin(x_anom_SIE_no['valid date'])]\n",
    "    obs_anom_no_VRILES = obs_anom_no_VRILES.append(x_anom_no_obs)"
   ]
  },
  {
   "cell_type": "markdown",
   "metadata": {},
   "source": [
    "Calculate RMSE and MAE"
   ]
  },
  {
   "cell_type": "code",
   "execution_count": 330,
   "metadata": {
    "scrolled": true
   },
   "outputs": [
    {
     "name": "stderr",
     "output_type": "stream",
     "text": [
      "/home/disk/sipn/mcmcgraw/anaconda3/envs/sea_ice_variability_S2S/lib/python3.7/site-packages/ipykernel_launcher.py:3: FutureWarning: Indexing with multiple keys (implicitly converted to a tuple of keys) will be deprecated, use a list instead.\n",
      "  This is separate from the ipykernel package so we can avoid doing imports until\n",
      "/home/disk/sipn/mcmcgraw/anaconda3/envs/sea_ice_variability_S2S/lib/python3.7/site-packages/ipykernel_launcher.py:5: FutureWarning: Indexing with multiple keys (implicitly converted to a tuple of keys) will be deprecated, use a list instead.\n",
      "  \"\"\"\n",
      "/home/disk/sipn/mcmcgraw/anaconda3/envs/sea_ice_variability_S2S/lib/python3.7/site-packages/ipykernel_launcher.py:3: FutureWarning: Indexing with multiple keys (implicitly converted to a tuple of keys) will be deprecated, use a list instead.\n",
      "  This is separate from the ipykernel package so we can avoid doing imports until\n",
      "/home/disk/sipn/mcmcgraw/anaconda3/envs/sea_ice_variability_S2S/lib/python3.7/site-packages/ipykernel_launcher.py:5: FutureWarning: Indexing with multiple keys (implicitly converted to a tuple of keys) will be deprecated, use a list instead.\n",
      "  \"\"\"\n",
      "/home/disk/sipn/mcmcgraw/anaconda3/envs/sea_ice_variability_S2S/lib/python3.7/site-packages/ipykernel_launcher.py:9: FutureWarning: Indexing with multiple keys (implicitly converted to a tuple of keys) will be deprecated, use a list instead.\n",
      "  if __name__ == '__main__':\n",
      "/home/disk/sipn/mcmcgraw/anaconda3/envs/sea_ice_variability_S2S/lib/python3.7/site-packages/ipykernel_launcher.py:9: FutureWarning: Indexing with multiple keys (implicitly converted to a tuple of keys) will be deprecated, use a list instead.\n",
      "  if __name__ == '__main__':\n"
     ]
    },
    {
     "name": "stdout",
     "output_type": "stream",
     "text": [
      "errors calculated\n",
      "errors calculated\n"
     ]
    }
   ],
   "source": [
    "if lead_weeks == True:\n",
    "    clim_freq_str = 'WEEKLY'\n",
    "    SIE_VRILES['lead days'] = SIE_VRILES['lead time (weeks)']\n",
    "    SIE_anom_VRILES['lead days'] = SIE_anom_VRILES['lead time (weeks)']\n",
    "    SIE_raw_err,SIE_errors = calculate_errors(SIE_VRILES.reset_index(),obs_VRILES.reset_index())\n",
    "    SIE_anom_raw_err,SIE_anom_errors = calculate_errors(SIE_anom_VRILES.reset_index(),obs_anom_VRILES.reset_index())\n",
    "    ## NO VRILES\n",
    "    SIE_no_VRILES['lead days'] = SIE_no_VRILES['lead time (weeks)']\n",
    "    SIE_anom_no_VRILES['lead days'] = SIE_anom_no_VRILES['lead time (weeks)']\n",
    "    SIE_raw_err_NO,SIE_errors_NO = calculate_errors(SIE_no_VRILES.reset_index(),obs_no_VRILES.reset_index())\n",
    "    SIE_anom_raw_err_NO,SIE_anom_errors_NO = calculate_errors(SIE_anom_no_VRILES.reset_index(),\n",
    "                                                              obs_anom_no_VRILES.reset_index())\n",
    "else:\n",
    "    clim_freq_str = 'DAILY'\n",
    "    SIE_VRILES['lead days'] = SIE_VRILES['lead time (days)'].dt.days\n",
    "    SIE_anom_VRILES['lead days'] = SIE_anom_VRILES['lead time (days)'].dt.days\n",
    "    SIE_raw_err,SIE_errors = calculate_errors(SIE_VRILES,obs_shifted_dates)\n",
    "    SIE_anom_raw_err,SIE_anom_errors = calculate_errors(SIE_anom_VRILES,obs_anom_shifted_dates)\n",
    "    ## NO VRILES\n",
    "    SIE_no_VRILES['lead days'] = SIE_no_VRILES['lead time (days)'].dt.days\n",
    "    SIE_anom_no_VRILES['lead days'] = SIE_anom_no_VRILES['lead time (days)'].dt.days\n",
    "    SIE_raw_err_NO,SIE_errors_NO = calculate_errors(SIE_no_VRILES,obs_no_shifted_dates)\n",
    "    SIE_anom_raw_err_NO,SIE_anom_errors_NO = calculate_errors(SIE_anom_no_VRILES,obs_anom_no_shifted_dates)\n",
    "print('errors calculated')"
   ]
  },
  {
   "cell_type": "code",
   "execution_count": 331,
   "metadata": {},
   "outputs": [
    {
     "name": "stderr",
     "output_type": "stream",
     "text": [
      "/home/disk/sipn/mcmcgraw/anaconda3/envs/sea_ice_variability_S2S/lib/python3.7/site-packages/ipykernel_launcher.py:1: FutureWarning: Indexing with multiple keys (implicitly converted to a tuple of keys) will be deprecated, use a list instead.\n",
      "  \"\"\"Entry point for launching an IPython kernel.\n",
      "/home/disk/sipn/mcmcgraw/anaconda3/envs/sea_ice_variability_S2S/lib/python3.7/site-packages/ipykernel_launcher.py:1: FutureWarning: Indexing with multiple keys (implicitly converted to a tuple of keys) will be deprecated, use a list instead.\n",
      "  \"\"\"Entry point for launching an IPython kernel.\n"
     ]
    }
   ],
   "source": [
    "SIE_obs_mean = obs_SIE.groupby(['region'])['SIE','SIE clim','SIE anom'].mean()\n",
    "#if normalize == True:\n",
    "#    SIE_errors['SIE RMSE norm'] = SIE_errors['SIE RMSE'].div(SIE_obs_mean['SIE'],axis='index',level='region')\n",
    "#    SIE_anom_errors['SIE anom RMSE norm'] = SIE_anom_errors['SIE anom RMSE'].div(SIE_obs_mean['SIE anom'],axis='index',level='region')\n",
    "    #\n",
    "#    SIE_errors_NO['SIE RMSE norm'] = SIE_errors_NO['SIE RMSE'].div(SIE_obs_mean['SIE'],axis='index',level='region')\n",
    "#    SIE_anom_errors_NO['SIE anom RMSE norm'] = SIE_anom_errors_NO['SIE anom RMSE'].div(SIE_obs_mean['SIE anom'],axis='index',level='region')\n",
    "    "
   ]
  },
  {
   "cell_type": "code",
   "execution_count": 332,
   "metadata": {},
   "outputs": [
    {
     "data": {
      "text/html": [
       "<div>\n",
       "<style scoped>\n",
       "    .dataframe tbody tr th:only-of-type {\n",
       "        vertical-align: middle;\n",
       "    }\n",
       "\n",
       "    .dataframe tbody tr th {\n",
       "        vertical-align: top;\n",
       "    }\n",
       "\n",
       "    .dataframe thead th {\n",
       "        text-align: right;\n",
       "    }\n",
       "</style>\n",
       "<table border=\"1\" class=\"dataframe\">\n",
       "  <thead>\n",
       "    <tr style=\"text-align: right;\">\n",
       "      <th></th>\n",
       "      <th></th>\n",
       "      <th>SIE RMSE</th>\n",
       "      <th>SIE anom RMSE</th>\n",
       "      <th>SIE MAE</th>\n",
       "      <th>SIE anom MAE</th>\n",
       "    </tr>\n",
       "    <tr>\n",
       "      <th>region</th>\n",
       "      <th>lead days</th>\n",
       "      <th></th>\n",
       "      <th></th>\n",
       "      <th></th>\n",
       "      <th></th>\n",
       "    </tr>\n",
       "  </thead>\n",
       "  <tbody>\n",
       "    <tr>\n",
       "      <th rowspan=\"5\" valign=\"top\">Atlantic</th>\n",
       "      <th>0.0</th>\n",
       "      <td>0.123066</td>\n",
       "      <td>0.082412</td>\n",
       "      <td>0.098961</td>\n",
       "      <td>0.067418</td>\n",
       "    </tr>\n",
       "    <tr>\n",
       "      <th>1.0</th>\n",
       "      <td>0.174785</td>\n",
       "      <td>0.091728</td>\n",
       "      <td>0.140526</td>\n",
       "      <td>0.072970</td>\n",
       "    </tr>\n",
       "    <tr>\n",
       "      <th>2.0</th>\n",
       "      <td>0.195852</td>\n",
       "      <td>0.100507</td>\n",
       "      <td>0.160814</td>\n",
       "      <td>0.078864</td>\n",
       "    </tr>\n",
       "    <tr>\n",
       "      <th>3.0</th>\n",
       "      <td>0.205940</td>\n",
       "      <td>0.106132</td>\n",
       "      <td>0.170741</td>\n",
       "      <td>0.082410</td>\n",
       "    </tr>\n",
       "    <tr>\n",
       "      <th>4.0</th>\n",
       "      <td>0.215783</td>\n",
       "      <td>0.110041</td>\n",
       "      <td>0.178893</td>\n",
       "      <td>0.086525</td>\n",
       "    </tr>\n",
       "    <tr>\n",
       "      <th>...</th>\n",
       "      <th>...</th>\n",
       "      <td>...</td>\n",
       "      <td>...</td>\n",
       "      <td>...</td>\n",
       "      <td>...</td>\n",
       "    </tr>\n",
       "    <tr>\n",
       "      <th rowspan=\"5\" valign=\"top\">panArctic</th>\n",
       "      <th>4.0</th>\n",
       "      <td>0.533845</td>\n",
       "      <td>0.293818</td>\n",
       "      <td>0.400613</td>\n",
       "      <td>0.230480</td>\n",
       "    </tr>\n",
       "    <tr>\n",
       "      <th>5.0</th>\n",
       "      <td>0.557171</td>\n",
       "      <td>0.303713</td>\n",
       "      <td>0.407908</td>\n",
       "      <td>0.239069</td>\n",
       "    </tr>\n",
       "    <tr>\n",
       "      <th>6.0</th>\n",
       "      <td>0.565789</td>\n",
       "      <td>0.304793</td>\n",
       "      <td>0.407391</td>\n",
       "      <td>0.242276</td>\n",
       "    </tr>\n",
       "    <tr>\n",
       "      <th>7.0</th>\n",
       "      <td>0.557105</td>\n",
       "      <td>0.301994</td>\n",
       "      <td>0.400824</td>\n",
       "      <td>0.239826</td>\n",
       "    </tr>\n",
       "    <tr>\n",
       "      <th>8.0</th>\n",
       "      <td>0.543520</td>\n",
       "      <td>0.300645</td>\n",
       "      <td>0.387611</td>\n",
       "      <td>0.238442</td>\n",
       "    </tr>\n",
       "  </tbody>\n",
       "</table>\n",
       "<p>180 rows × 4 columns</p>\n",
       "</div>"
      ],
      "text/plain": [
       "                     SIE RMSE  SIE anom RMSE   SIE MAE  SIE anom MAE\n",
       "region    lead days                                                 \n",
       "Atlantic  0.0        0.123066       0.082412  0.098961      0.067418\n",
       "          1.0        0.174785       0.091728  0.140526      0.072970\n",
       "          2.0        0.195852       0.100507  0.160814      0.078864\n",
       "          3.0        0.205940       0.106132  0.170741      0.082410\n",
       "          4.0        0.215783       0.110041  0.178893      0.086525\n",
       "...                       ...            ...       ...           ...\n",
       "panArctic 4.0        0.533845       0.293818  0.400613      0.230480\n",
       "          5.0        0.557171       0.303713  0.407908      0.239069\n",
       "          6.0        0.565789       0.304793  0.407391      0.242276\n",
       "          7.0        0.557105       0.301994  0.400824      0.239826\n",
       "          8.0        0.543520       0.300645  0.387611      0.238442\n",
       "\n",
       "[180 rows x 4 columns]"
      ]
     },
     "execution_count": 332,
     "metadata": {},
     "output_type": "execute_result"
    },
    {
     "data": {
      "text/html": [
       "<div>\n",
       "<style scoped>\n",
       "    .dataframe tbody tr th:only-of-type {\n",
       "        vertical-align: middle;\n",
       "    }\n",
       "\n",
       "    .dataframe tbody tr th {\n",
       "        vertical-align: top;\n",
       "    }\n",
       "\n",
       "    .dataframe thead th {\n",
       "        text-align: right;\n",
       "    }\n",
       "</style>\n",
       "<table border=\"1\" class=\"dataframe\">\n",
       "  <thead>\n",
       "    <tr style=\"text-align: right;\">\n",
       "      <th></th>\n",
       "      <th></th>\n",
       "      <th>SIE RMSE</th>\n",
       "      <th>SIE anom RMSE</th>\n",
       "      <th>SIE MAE</th>\n",
       "      <th>SIE anom MAE</th>\n",
       "    </tr>\n",
       "    <tr>\n",
       "      <th>region</th>\n",
       "      <th>lead days</th>\n",
       "      <th></th>\n",
       "      <th></th>\n",
       "      <th></th>\n",
       "      <th></th>\n",
       "    </tr>\n",
       "  </thead>\n",
       "  <tbody>\n",
       "    <tr>\n",
       "      <th rowspan=\"5\" valign=\"top\">Atlantic</th>\n",
       "      <th>0.0</th>\n",
       "      <td>0.123066</td>\n",
       "      <td>0.082412</td>\n",
       "      <td>0.098961</td>\n",
       "      <td>0.067418</td>\n",
       "    </tr>\n",
       "    <tr>\n",
       "      <th>1.0</th>\n",
       "      <td>0.174785</td>\n",
       "      <td>0.091728</td>\n",
       "      <td>0.140526</td>\n",
       "      <td>0.072970</td>\n",
       "    </tr>\n",
       "    <tr>\n",
       "      <th>2.0</th>\n",
       "      <td>0.195852</td>\n",
       "      <td>0.100507</td>\n",
       "      <td>0.160814</td>\n",
       "      <td>0.078864</td>\n",
       "    </tr>\n",
       "    <tr>\n",
       "      <th>3.0</th>\n",
       "      <td>0.205940</td>\n",
       "      <td>0.106132</td>\n",
       "      <td>0.170741</td>\n",
       "      <td>0.082410</td>\n",
       "    </tr>\n",
       "    <tr>\n",
       "      <th>4.0</th>\n",
       "      <td>0.215783</td>\n",
       "      <td>0.110041</td>\n",
       "      <td>0.178893</td>\n",
       "      <td>0.086525</td>\n",
       "    </tr>\n",
       "    <tr>\n",
       "      <th>...</th>\n",
       "      <th>...</th>\n",
       "      <td>...</td>\n",
       "      <td>...</td>\n",
       "      <td>...</td>\n",
       "      <td>...</td>\n",
       "    </tr>\n",
       "    <tr>\n",
       "      <th rowspan=\"5\" valign=\"top\">panArctic</th>\n",
       "      <th>4.0</th>\n",
       "      <td>0.533845</td>\n",
       "      <td>0.293818</td>\n",
       "      <td>0.400613</td>\n",
       "      <td>0.230480</td>\n",
       "    </tr>\n",
       "    <tr>\n",
       "      <th>5.0</th>\n",
       "      <td>0.557171</td>\n",
       "      <td>0.303713</td>\n",
       "      <td>0.407908</td>\n",
       "      <td>0.239069</td>\n",
       "    </tr>\n",
       "    <tr>\n",
       "      <th>6.0</th>\n",
       "      <td>0.565789</td>\n",
       "      <td>0.304793</td>\n",
       "      <td>0.407391</td>\n",
       "      <td>0.242276</td>\n",
       "    </tr>\n",
       "    <tr>\n",
       "      <th>7.0</th>\n",
       "      <td>0.557105</td>\n",
       "      <td>0.301994</td>\n",
       "      <td>0.400824</td>\n",
       "      <td>0.239826</td>\n",
       "    </tr>\n",
       "    <tr>\n",
       "      <th>8.0</th>\n",
       "      <td>0.543520</td>\n",
       "      <td>0.300645</td>\n",
       "      <td>0.387611</td>\n",
       "      <td>0.238442</td>\n",
       "    </tr>\n",
       "  </tbody>\n",
       "</table>\n",
       "<p>180 rows × 4 columns</p>\n",
       "</div>"
      ],
      "text/plain": [
       "                     SIE RMSE  SIE anom RMSE   SIE MAE  SIE anom MAE\n",
       "region    lead days                                                 \n",
       "Atlantic  0.0        0.123066       0.082412  0.098961      0.067418\n",
       "          1.0        0.174785       0.091728  0.140526      0.072970\n",
       "          2.0        0.195852       0.100507  0.160814      0.078864\n",
       "          3.0        0.205940       0.106132  0.170741      0.082410\n",
       "          4.0        0.215783       0.110041  0.178893      0.086525\n",
       "...                       ...            ...       ...           ...\n",
       "panArctic 4.0        0.533845       0.293818  0.400613      0.230480\n",
       "          5.0        0.557171       0.303713  0.407908      0.239069\n",
       "          6.0        0.565789       0.304793  0.407391      0.242276\n",
       "          7.0        0.557105       0.301994  0.400824      0.239826\n",
       "          8.0        0.543520       0.300645  0.387611      0.238442\n",
       "\n",
       "[180 rows x 4 columns]"
      ]
     },
     "execution_count": 332,
     "metadata": {},
     "output_type": "execute_result"
    }
   ],
   "source": [
    "SIE_errors_NO"
   ]
  },
  {
   "cell_type": "code",
   "execution_count": 333,
   "metadata": {
    "scrolled": false
   },
   "outputs": [
    {
     "data": {
      "text/plain": [
       "0    1.075804\n",
       "1    1.516265\n",
       "2    2.608470\n",
       "3    3.310240\n",
       "4    3.522500\n",
       "5    3.303805\n",
       "6    2.897785\n",
       "7    2.550652\n",
       "8    2.332789\n",
       "Name: SIE RMSE, dtype: float64"
      ]
     },
     "execution_count": 333,
     "metadata": {},
     "output_type": "execute_result"
    },
    {
     "data": {
      "text/plain": [
       "0    1.075804\n",
       "1    1.516265\n",
       "2    2.608470\n",
       "3    3.310240\n",
       "4    3.522500\n",
       "5    3.303805\n",
       "6    2.897785\n",
       "7    2.550652\n",
       "8    2.332789\n",
       "Name: SIE RMSE, dtype: float64"
      ]
     },
     "execution_count": 333,
     "metadata": {},
     "output_type": "execute_result"
    },
    {
     "data": {
      "image/png": "[encoded data removed]",
      "text/plain": [
       "<Figure size 432x288 with 1 Axes>"
      ]
     },
     "metadata": {
      "needs_background": "light"
     },
     "output_type": "display_data"
    },
    {
     "data": {
      "image/png": "[encoded data removed]",
      "text/plain": [
       "<Figure size 432x288 with 1 Axes>"
      ]
     },
     "metadata": {
      "needs_background": "light"
     },
     "output_type": "display_data"
    }
   ],
   "source": [
    "import matplotlib.pyplot as plt\n",
    "fig1 = plt.figure(1)\n",
    "ax1 = fig1.add_axes([0,0,1,1])\n",
    "ax1.axvline(x=VRILE_shift/7,color='m',linewidth=1.4)\n",
    "foo = SIE_errors.xs('Central Arctic').reset_index()\n",
    "foo.plot.scatter(x='lead days',y=['SIE RMSE'],linewidth=2,linestyle='--',ax=ax1,color='r',label=['VRILES'],\n",
    "                s=30)\n",
    "foo2 = SIE_errors_NO.xs('Central Arctic').reset_index()\n",
    "foo2.plot.scatter(x='lead days',y=['SIE RMSE'],linewidth=2,linestyle=':',ax=ax1,label=['NO VRILES'],s=30)\n",
    "foo['SIE RMSE']/foo2['SIE RMSE']"
   ]
  },
  {
   "cell_type": "code",
   "execution_count": 334,
   "metadata": {},
   "outputs": [
    {
     "data": {
      "text/html": [
       "<div>\n",
       "<style scoped>\n",
       "    .dataframe tbody tr th:only-of-type {\n",
       "        vertical-align: middle;\n",
       "    }\n",
       "\n",
       "    .dataframe tbody tr th {\n",
       "        vertical-align: top;\n",
       "    }\n",
       "\n",
       "    .dataframe thead th {\n",
       "        text-align: right;\n",
       "    }\n",
       "</style>\n",
       "<table border=\"1\" class=\"dataframe\">\n",
       "  <thead>\n",
       "    <tr style=\"text-align: right;\">\n",
       "      <th></th>\n",
       "      <th>SIE RMSE</th>\n",
       "      <th>SIE anom RMSE</th>\n",
       "      <th>SIE MAE</th>\n",
       "      <th>SIE anom MAE</th>\n",
       "    </tr>\n",
       "    <tr>\n",
       "      <th>lead days</th>\n",
       "      <th></th>\n",
       "      <th></th>\n",
       "      <th></th>\n",
       "      <th></th>\n",
       "    </tr>\n",
       "  </thead>\n",
       "  <tbody>\n",
       "    <tr>\n",
       "      <th>0.0</th>\n",
       "      <td>0.565478</td>\n",
       "      <td>0.390695</td>\n",
       "      <td>0.414688</td>\n",
       "      <td>0.326268</td>\n",
       "    </tr>\n",
       "    <tr>\n",
       "      <th>1.0</th>\n",
       "      <td>0.825958</td>\n",
       "      <td>0.299141</td>\n",
       "      <td>0.679601</td>\n",
       "      <td>0.244979</td>\n",
       "    </tr>\n",
       "    <tr>\n",
       "      <th>2.0</th>\n",
       "      <td>0.935970</td>\n",
       "      <td>0.305223</td>\n",
       "      <td>0.777291</td>\n",
       "      <td>0.241563</td>\n",
       "    </tr>\n",
       "    <tr>\n",
       "      <th>3.0</th>\n",
       "      <td>0.979099</td>\n",
       "      <td>0.313899</td>\n",
       "      <td>0.803126</td>\n",
       "      <td>0.237168</td>\n",
       "    </tr>\n",
       "    <tr>\n",
       "      <th>4.0</th>\n",
       "      <td>1.016677</td>\n",
       "      <td>0.322938</td>\n",
       "      <td>0.816348</td>\n",
       "      <td>0.240021</td>\n",
       "    </tr>\n",
       "    <tr>\n",
       "      <th>5.0</th>\n",
       "      <td>1.048051</td>\n",
       "      <td>0.335014</td>\n",
       "      <td>0.820298</td>\n",
       "      <td>0.254653</td>\n",
       "    </tr>\n",
       "    <tr>\n",
       "      <th>6.0</th>\n",
       "      <td>1.087475</td>\n",
       "      <td>0.355501</td>\n",
       "      <td>0.833285</td>\n",
       "      <td>0.269615</td>\n",
       "    </tr>\n",
       "    <tr>\n",
       "      <th>7.0</th>\n",
       "      <td>1.122714</td>\n",
       "      <td>0.373426</td>\n",
       "      <td>0.854199</td>\n",
       "      <td>0.281510</td>\n",
       "    </tr>\n",
       "    <tr>\n",
       "      <th>8.0</th>\n",
       "      <td>1.145935</td>\n",
       "      <td>0.389515</td>\n",
       "      <td>0.876184</td>\n",
       "      <td>0.296913</td>\n",
       "    </tr>\n",
       "  </tbody>\n",
       "</table>\n",
       "</div>"
      ],
      "text/plain": [
       "           SIE RMSE  SIE anom RMSE   SIE MAE  SIE anom MAE\n",
       "lead days                                                 \n",
       "0.0        0.565478       0.390695  0.414688      0.326268\n",
       "1.0        0.825958       0.299141  0.679601      0.244979\n",
       "2.0        0.935970       0.305223  0.777291      0.241563\n",
       "3.0        0.979099       0.313899  0.803126      0.237168\n",
       "4.0        1.016677       0.322938  0.816348      0.240021\n",
       "5.0        1.048051       0.335014  0.820298      0.254653\n",
       "6.0        1.087475       0.355501  0.833285      0.269615\n",
       "7.0        1.122714       0.373426  0.854199      0.281510\n",
       "8.0        1.145935       0.389515  0.876184      0.296913"
      ]
     },
     "execution_count": 334,
     "metadata": {},
     "output_type": "execute_result"
    },
    {
     "data": {
      "text/html": [
       "<div>\n",
       "<style scoped>\n",
       "    .dataframe tbody tr th:only-of-type {\n",
       "        vertical-align: middle;\n",
       "    }\n",
       "\n",
       "    .dataframe tbody tr th {\n",
       "        vertical-align: top;\n",
       "    }\n",
       "\n",
       "    .dataframe thead th {\n",
       "        text-align: right;\n",
       "    }\n",
       "</style>\n",
       "<table border=\"1\" class=\"dataframe\">\n",
       "  <thead>\n",
       "    <tr style=\"text-align: right;\">\n",
       "      <th></th>\n",
       "      <th>SIE RMSE</th>\n",
       "      <th>SIE anom RMSE</th>\n",
       "      <th>SIE MAE</th>\n",
       "      <th>SIE anom MAE</th>\n",
       "    </tr>\n",
       "    <tr>\n",
       "      <th>lead days</th>\n",
       "      <th></th>\n",
       "      <th></th>\n",
       "      <th></th>\n",
       "      <th></th>\n",
       "    </tr>\n",
       "  </thead>\n",
       "  <tbody>\n",
       "    <tr>\n",
       "      <th>0.0</th>\n",
       "      <td>0.565478</td>\n",
       "      <td>0.390695</td>\n",
       "      <td>0.414688</td>\n",
       "      <td>0.326268</td>\n",
       "    </tr>\n",
       "    <tr>\n",
       "      <th>1.0</th>\n",
       "      <td>0.825958</td>\n",
       "      <td>0.299141</td>\n",
       "      <td>0.679601</td>\n",
       "      <td>0.244979</td>\n",
       "    </tr>\n",
       "    <tr>\n",
       "      <th>2.0</th>\n",
       "      <td>0.935970</td>\n",
       "      <td>0.305223</td>\n",
       "      <td>0.777291</td>\n",
       "      <td>0.241563</td>\n",
       "    </tr>\n",
       "    <tr>\n",
       "      <th>3.0</th>\n",
       "      <td>0.979099</td>\n",
       "      <td>0.313899</td>\n",
       "      <td>0.803126</td>\n",
       "      <td>0.237168</td>\n",
       "    </tr>\n",
       "    <tr>\n",
       "      <th>4.0</th>\n",
       "      <td>1.016677</td>\n",
       "      <td>0.322938</td>\n",
       "      <td>0.816348</td>\n",
       "      <td>0.240021</td>\n",
       "    </tr>\n",
       "    <tr>\n",
       "      <th>5.0</th>\n",
       "      <td>1.048051</td>\n",
       "      <td>0.335014</td>\n",
       "      <td>0.820298</td>\n",
       "      <td>0.254653</td>\n",
       "    </tr>\n",
       "    <tr>\n",
       "      <th>6.0</th>\n",
       "      <td>1.087475</td>\n",
       "      <td>0.355501</td>\n",
       "      <td>0.833285</td>\n",
       "      <td>0.269615</td>\n",
       "    </tr>\n",
       "    <tr>\n",
       "      <th>7.0</th>\n",
       "      <td>1.122714</td>\n",
       "      <td>0.373426</td>\n",
       "      <td>0.854199</td>\n",
       "      <td>0.281510</td>\n",
       "    </tr>\n",
       "    <tr>\n",
       "      <th>8.0</th>\n",
       "      <td>1.145935</td>\n",
       "      <td>0.389515</td>\n",
       "      <td>0.876184</td>\n",
       "      <td>0.296913</td>\n",
       "    </tr>\n",
       "  </tbody>\n",
       "</table>\n",
       "</div>"
      ],
      "text/plain": [
       "           SIE RMSE  SIE anom RMSE   SIE MAE  SIE anom MAE\n",
       "lead days                                                 \n",
       "0.0        0.565478       0.390695  0.414688      0.326268\n",
       "1.0        0.825958       0.299141  0.679601      0.244979\n",
       "2.0        0.935970       0.305223  0.777291      0.241563\n",
       "3.0        0.979099       0.313899  0.803126      0.237168\n",
       "4.0        1.016677       0.322938  0.816348      0.240021\n",
       "5.0        1.048051       0.335014  0.820298      0.254653\n",
       "6.0        1.087475       0.355501  0.833285      0.269615\n",
       "7.0        1.122714       0.373426  0.854199      0.281510\n",
       "8.0        1.145935       0.389515  0.876184      0.296913"
      ]
     },
     "execution_count": 334,
     "metadata": {},
     "output_type": "execute_result"
    }
   ],
   "source": [
    "SIE_errors.xs('panArctic')"
   ]
  },
  {
   "cell_type": "markdown",
   "metadata": {},
   "source": [
    "Replace <code>SIE anom RMSE</code> and <code>SIE anom MAE</code> in <code>SIE_errors</code> with corresponding entries from  <code>SIE_anom_errors</code> (and same for raw)"
   ]
  },
  {
   "cell_type": "code",
   "execution_count": 335,
   "metadata": {},
   "outputs": [],
   "source": [
    "SIE_errors[['SIE anom RMSE','SIE anom MAE']] = SIE_anom_errors[['SIE anom RMSE','SIE anom MAE']]\n",
    "SIE_raw_err['SIE anom'] = SIE_anom_raw_err['SIE anom']\n",
    "SIE_errors_NO[['SIE anom RMSE','SIE anom MAE']] = SIE_anom_errors_NO[['SIE anom RMSE','SIE anom MAE']]\n",
    "#SIE_raw_err_NO[['SIE anom']] = SIE_anom_raw_err_NO['SIE anom']"
   ]
  },
  {
   "cell_type": "code",
   "execution_count": 336,
   "metadata": {},
   "outputs": [],
   "source": [
    "SIE_errors['type'] = 'VRILE days'\n",
    "SIE_errors_NO['type'] = 'no VRILE days'\n",
    "SIE_errors_all = SIE_errors.append(SIE_errors_NO)"
   ]
  },
  {
   "cell_type": "markdown",
   "metadata": {},
   "source": [
    "Save files!"
   ]
  },
  {
   "cell_type": "code",
   "execution_count": 337,
   "metadata": {
    "scrolled": false
   },
   "outputs": [
    {
     "name": "stdout",
     "output_type": "stream",
     "text": [
      "files saved\n",
      "files saved\n"
     ]
    }
   ],
   "source": [
    "fdir = '/home/disk/sipn/mcmcgraw/McGraw_etal_2020/code/make_it_nice/data/{model_name}/'.format(model_name=model_name)\n",
    "fdir = fdir+'OBS_{obs_name}/'.format(obs_name=obs_name)\n",
    "if lead_weeks == True:\n",
    "    fdir = fdir+'lead_time_WEEKS/'\n",
    "if not os.path.exists(fdir):\n",
    "    os.makedirs(fdir)\n",
    "fname_save_raw = fdir+\"ERROR_PROP_RAW_err_{model_name}_months{seas_str}_VRILE{thresh_str}_offset_\"\\\n",
    "\"{max_date_offset}days_SHIFT_{VRILE_shift}days_model_clim_freq_{clim_freq_str}.csv\".format(model_name=model_name,\n",
    "                                             seas_str=seas_str,thresh_str=thresh_str,max_date_offset=max_date_offset,\n",
    "                                             VRILE_shift=VRILE_shift,clim_freq_str=clim_freq_str)\n",
    "fname_save_RMSE = fdir+\"ERROR_PROP_VRILE_vs_NOVRILE_RMSE_MAE_{model_name}_months{seas_str}_offset_\"\\\n",
    "\"{max_date_offset}days_VRILE{thresh_str}_SHIFT_{VRILE_shift}days_model_clim_freq_{clim_freq_str}.csv\".format(model_name=model_name,\n",
    "                            seas_str=seas_str,thresh_str=thresh_str,max_date_offset=max_date_offset,\n",
    "                            VRILE_shift=VRILE_shift,clim_freq_str=clim_freq_str)\n",
    "\n",
    "SIE_raw_err.to_csv(fname_save_raw)\n",
    "SIE_errors_all.to_csv(fname_save_RMSE)\n",
    "print('files saved')"
   ]
  },
  {
   "cell_type": "code",
   "execution_count": null,
   "metadata": {},
   "outputs": [],
   "source": []
  }
 ],
 "metadata": {
  "kernelspec": {
   "display_name": "sea_ice_variability_S2S",
   "language": "python",
   "name": "sea_ice_variability_s2s"
  },
  "language_info": {
   "codemirror_mode": {
    "name": "ipython",
    "version": 3
   },
   "file_extension": ".py",
   "mimetype": "text/x-python",
   "name": "python",
   "nbconvert_exporter": "python",
   "pygments_lexer": "ipython3",
   "version": "3.7.3"
  }
 },
 "nbformat": 4,
 "nbformat_minor": 2
}
