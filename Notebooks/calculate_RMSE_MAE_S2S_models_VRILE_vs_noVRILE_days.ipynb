{
 "cells": [
  {
   "cell_type": "markdown",
   "metadata": {},
   "source": [
    "<code>calculate_RMSE_MAE_S2S_models_all_days.ipynb</code>.  This notebook calculates the RMSE, MAE, and raw error for each S2S model's actual SIE forecasts and anomalous SIE forecasts.  See <code>Calculate_RMSE_MAE_S2S_model_all_seas_COMMON_PERIOD.ipynb</code> for a nicer example. "
   ]
  },
  {
   "cell_type": "markdown",
   "metadata": {},
   "source": [
    "<b>inputs:</b><br>\n",
    "<li>  model name (ecmwf,ukmo,ncep,metreofr) </li>\n",
    "<li>  seas_str [string for season; ALL if we want to do full year]</li>\n",
    "<li>  seas_sel [months of season; empty if we want to do full year] </li>\n",
    "<li>  vrile_thresh [threshhold at which VRILE is estimated </li>\n",
    "<li>  thresh_str [string for VRILE threshhold] </li>\n"
   ]
  },
  {
   "cell_type": "code",
   "execution_count": 1,
   "metadata": {},
   "outputs": [],
   "source": [
    "import xarray as xr\n",
    "import numpy as np\n",
    "import pandas as pd\n",
    "import os\n",
    "import matplotlib.pyplot as plt\n",
    "from S2S_sea_ice_preprocess import load_model, create_aggregate_regions, create_model_climatology\n",
    "from S2S_sea_ice_preprocess import create_obs_climatology \n",
    "from S2S_sea_ice_VRILEs import get_VRILE_days\n",
    "from S2S_sea_ice_errors import calculate_errors"
   ]
  },
  {
   "cell_type": "markdown",
   "metadata": {},
   "source": [
    "## Overview"
   ]
  },
  {
   "cell_type": "markdown",
   "metadata": {},
   "source": [
    "<li>1) Load model netCDF files, combine with CTRL, and use common reforecast period. <br>\n",
    "if NCEP, use entire period </li>\n",
    "<li> 2) Add aggregate regions </li>\n",
    "<li> 3) Create climatology--model: calculate date of year for valid date, lead time in weeks.<br>\n",
    "<li> 4) Create observed climatology (static, using only common reforecast period) </li>\n",
    "<li> 5) Calculate VRILEs in observations.  We define VRILEs based on the lowest <i>p</i>-th percentile of raw sea ice extent, and the lowest <i>p</i>-th percentile of anomalous sea ice extent </li>\n",
    "    <li> 6) Calculate errors in predicting sea ice following VRILEs: as a function of region, valid date, and lead time. We output raw error (to calculate model bias), mean absolute error (MAE), and root mean squared error (RMSE).  We use both VRILE definitions (based on actual and anomalous SIE) and come up with 2 different sets of errors."
   ]
  },
  {
   "cell_type": "markdown",
   "metadata": {},
   "source": [
    "### 1 Load S2S model data"
   ]
  },
  {
   "cell_type": "markdown",
   "metadata": {},
   "source": [
    "Use <code>load_model</code> to load sea ice extent (SIE) output from the S2S model archive available on SIPN.  The SIE has been calculated from SIC data that was regridded to the SIPN grid following Wayand et al. (2019).  We load all ensemble members for each model, truncate the model reforecasts to the common reforecast period* (1/1/1999-12/31/2014), and take an ensemble-mean of each hindcast.\n",
    "\n",
    "*For the <code>ncep</code> model, the model reforecasts end in 2011, so we use the entire period for <code>ncep</code> (1/1/1999-12/31/2011)."
   ]
  },
  {
   "cell_type": "markdown",
   "metadata": {},
   "source": [
    "### 2 Create aggregate regions"
   ]
  },
  {
   "cell_type": "markdown",
   "metadata": {},
   "source": [
    "The S2S model output available on SIPN is organized into the NSIDC MASIE regions (see them at: https://nsidc.org/data/masie/browse_regions).  To simplify our analysis, we combine a few adjacent MASIE regions that exhibit similar behavior.  We're going to combine the following with <code>create_aggregate_regions</code>:\n",
    "  * Kara and Laptev Seas (region_KL)\n",
    "  * Barents, Kara and Laptev Seas (region_BKL)\n",
    "  * East Siberian, Beaufort, and Chukchi Seas (region_EBC)\n",
    "  * Atlantic (Baffin Bay and East Greenland Sea) (region_ATL)\n",
    "  * East Siberian, Beaufort, Chukchi, Laptev Seas (region_EBCL)"
   ]
  },
  {
   "cell_type": "markdown",
   "metadata": {},
   "source": [
    "### 3 Create climatology for S2S output\n",
    "For each S2S model output, we create a lead-dependent climatology of sea ice extent (the climatology, of course, will also depend on region).  For each region of each S2S model, we create a lead-dependent climatology by simply averaging sea ice extent for each combination of lead time ($L$) and day of year ($doy$), \n",
    "\n",
    "$$ SIE_{clim}(L,doy) = \\frac{\\sum_{y=1999}^{2014}(SIE (L,doy,y))}{N_{yrs}}$$\n",
    "\n",
    "This approach is commonly used in S2S forecasting and is based on the description in Sun et al. (2018): https://journals.ametsoc.org/mwr/article/146/5/1601/104172/Subseasonal-Forecasting-with-an-Icosahedral\n",
    "(see Section 2, paragraphs 2-3 in particular).  Note that we could also bin our forecasts different over lead time--for example, we could bin the forecast by lead week (so SIEs for a given $doy$ at lead days between 0 and 6 days would all be averaged together).  \n",
    "\n",
    "So, each lead time will have its own climatological cycle of sea ice extent.  Here, we also calculate our forecasts of anomalous SIE ($SIE_{anom}$) based "
   ]
  },
  {
   "cell_type": "code",
   "execution_count": null,
   "metadata": {},
   "outputs": [],
   "source": []
  },
  {
   "cell_type": "markdown",
   "metadata": {},
   "source": [
    "### 6 Calculate the RMSE and the MAE.  \n",
    "In English--for each region ($R$) and lead time ($L$), we calculate both the root mean squared error (RMSE) and the mean absolute error (MAE), <br>\n",
    "\n",
    "$$RMSE_{R,L} = \\sqrt{ \\sum_{V} \\frac{\\left(SIE^{pred}_{R,L} - SIE^{obs}_{R,L}\\right)^2}{N_V}}$$ \n",
    "\n",
    "$$MAE_{R,L} =  \\sum_{V} \\frac{abs\\left(SIE^{pred}_{R,L} - SIE^{obs}_{R,L}\\right)}{N_V}$$ \n",
    "\n",
    "We also calculate the raw error ($SIE^{pred}_{R,L} - SIE^{obs}_{R,L}$) so that we can look at the biases in the S2S models"
   ]
  },
  {
   "cell_type": "markdown",
   "metadata": {},
   "source": [
    "Calculate raw error, mean absolute error, and RMSE.  These calculations will be a function of region and lead time.  See nice notebook for equations for RMSE and MAE"
   ]
  },
  {
   "cell_type": "code",
   "execution_count": 2,
   "metadata": {},
   "outputs": [],
   "source": [
    "model_name = 'ncep'\n",
    "seas_str = 'JJA'\n",
    "seas_sel = [6,7,8]\n",
    "obs_name = 'NSIDC_0051'\n",
    "WEEKLY = True\n",
    "lead_weeks = True\n",
    "vrile_thresh = 0.05\n",
    "thresh_str = '05'\n",
    "nday_change = 5 #number of days for VRILE calculation"
   ]
  },
  {
   "cell_type": "markdown",
   "metadata": {},
   "source": [
    "Load model output for our desired model"
   ]
  },
  {
   "cell_type": "code",
   "execution_count": 3,
   "metadata": {
    "scrolled": false
   },
   "outputs": [
    {
     "name": "stdout",
     "output_type": "stream",
     "text": [
      "<xarray.Dataset>\n",
      "Dimensions:       (ensemble: 3, fore_time: 43, init_time: 4523, nregions: 15)\n",
      "Coordinates:\n",
      "    region_names  (nregions) object dask.array<chunksize=(15,), meta=np.ndarray>\n",
      "  * nregions      (nregions) int64 99 2 3 4 5 6 7 8 9 10 11 12 13 14 15\n",
      "  * fore_time     (fore_time) timedelta64[ns] 1 days 2 days ... 42 days 43 days\n",
      "  * ensemble      (ensemble) int32 0 1 2\n",
      "  * init_time     (init_time) datetime64[ns] 1999-01-01 ... 2010-12-31\n",
      "Data variables:\n",
      "    Extent        (ensemble, init_time, fore_time, nregions) float64 dask.array<chunksize=(3, 16, 43, 15), meta=np.ndarray>\n",
      "loaded  ncep\n"
     ]
    }
   ],
   "source": [
    "SIE = load_model(model_name)\n",
    "print('loaded ',model_name)"
   ]
  },
  {
   "cell_type": "markdown",
   "metadata": {},
   "source": [
    "Create aggregate regions that combine some of the NSIDC-MASIE regions"
   ]
  },
  {
   "cell_type": "code",
   "execution_count": 4,
   "metadata": {},
   "outputs": [
    {
     "name": "stdout",
     "output_type": "stream",
     "text": [
      "combined regions\n"
     ]
    }
   ],
   "source": [
    "SIE = create_aggregate_regions(SIE)\n",
    "print('combined regions')"
   ]
  },
  {
   "cell_type": "markdown",
   "metadata": {},
   "source": [
    "Now, take the ensemble mean and get lead time in days.  We'll use the first <code>train_frac</code> ensemble members to train the data, and the last (1 - <code>train_frac</code>) members for our test set."
   ]
  },
  {
   "cell_type": "code",
   "execution_count": 5,
   "metadata": {},
   "outputs": [
    {
     "name": "stdout",
     "output_type": "stream",
     "text": [
      "we have  4  ensemble members; we will use  3.0  in our training data set\n"
     ]
    },
    {
     "data": {
      "text/html": [
       "<pre>&lt;xarray.DataArray &#x27;Extent&#x27; (ensemble: 3, init_time: 4380, fore_time: 43, nregions: 20)&gt;\n",
       "dask.array&lt;getitem, shape=(3, 4380, 43, 20), dtype=float64, chunksize=(3, 16, 43, 15), chunktype=numpy.ndarray&gt;\n",
       "Coordinates:\n",
       "  * init_time     (init_time) datetime64[ns] 1999-01-01 ... 2010-12-31\n",
       "  * fore_time     (fore_time) timedelta64[ns] 1 days 2 days ... 42 days 43 days\n",
       "  * ensemble      (ensemble) int64 0 1 2\n",
       "    region_names  (nregions) object &#x27;panArctic&#x27; ... &#x27;East Siberian-Beaufort-Chukchi-Laptev Sea&#x27;\n",
       "  * nregions      (nregions) int64 99 2 3 4 5 6 7 8 ... 13 14 15 20 21 22 23 24</pre>"
      ],
      "text/plain": [
       "<xarray.DataArray 'Extent' (ensemble: 3, init_time: 4380, fore_time: 43, nregions: 20)>\n",
       "dask.array<getitem, shape=(3, 4380, 43, 20), dtype=float64, chunksize=(3, 16, 43, 15), chunktype=numpy.ndarray>\n",
       "Coordinates:\n",
       "  * init_time     (init_time) datetime64[ns] 1999-01-01 ... 2010-12-31\n",
       "  * fore_time     (fore_time) timedelta64[ns] 1 days 2 days ... 42 days 43 days\n",
       "  * ensemble      (ensemble) int64 0 1 2\n",
       "    region_names  (nregions) object 'panArctic' ... 'East Siberian-Beaufort-Chukchi-Laptev Sea'\n",
       "  * nregions      (nregions) int64 99 2 3 4 5 6 7 8 ... 13 14 15 20 21 22 23 24"
      ]
     },
     "execution_count": 5,
     "metadata": {},
     "output_type": "execute_result"
    }
   ],
   "source": [
    "train_frac = 0.75\n",
    "no_ens = len(SIE.ensemble)\n",
    "print('we have ',no_ens,' ensemble members; we will use ',np.floor(train_frac*no_ens),' in our training data set')\n",
    "SIE_test = SIE.sel(ensemble=np.arange(np.floor(train_frac*no_ens),no_ens))\n",
    "SIE = SIE.sel(ensemble=np.arange(0,np.floor(train_frac*no_ens)))\n",
    "SIE"
   ]
  },
  {
   "cell_type": "code",
   "execution_count": 6,
   "metadata": {},
   "outputs": [],
   "source": [
    "SIE_ens_mean = SIE.mean(dim='ensemble')\n",
    "regions = SIE.region_names\n",
    "lead_days = SIE.fore_time.dt.days"
   ]
  },
  {
   "cell_type": "markdown",
   "metadata": {},
   "source": [
    "Convert to dataframe because I like Pandas"
   ]
  },
  {
   "cell_type": "code",
   "execution_count": 7,
   "metadata": {},
   "outputs": [],
   "source": [
    "SIE_df = SIE_ens_mean.to_dataframe().reset_index()"
   ]
  },
  {
   "cell_type": "markdown",
   "metadata": {},
   "source": [
    "Calculate the date for forecasts by adding the <code>fore_time</code> to <code>init_time</code>. Rename some columns to make life easier"
   ]
  },
  {
   "cell_type": "code",
   "execution_count": 8,
   "metadata": {},
   "outputs": [],
   "source": [
    "SIE_df['valid date'] = SIE_df['init_time'] + SIE_df['fore_time']\n",
    "SIE_df = SIE_df.rename(columns={'region_names':'region',\n",
    "                           'fore_time':'lead time (days)',\n",
    "                           'init_time':'init date',\n",
    "                           'Extent':'SIE'})"
   ]
  },
  {
   "cell_type": "markdown",
   "metadata": {},
   "source": [
    "Create climatology for model output.  Decide how long we want weeks to be for weekly climatology (default is 7 days)"
   ]
  },
  {
   "cell_type": "code",
   "execution_count": 9,
   "metadata": {
    "scrolled": false
   },
   "outputs": [
    {
     "name": "stdout",
     "output_type": "stream",
     "text": [
      "model climatology created\n"
     ]
    }
   ],
   "source": [
    "week_length = 7\n",
    "nyears = 10\n",
    "SIE_df = create_model_climatology(SIE_df,7)\n",
    "print('model climatology created')"
   ]
  },
  {
   "cell_type": "markdown",
   "metadata": {},
   "source": [
    "Load observations.  NSIDC_0079 is NASA Bootstrap, NSIDC_0051 is NASA team"
   ]
  },
  {
   "cell_type": "code",
   "execution_count": 10,
   "metadata": {},
   "outputs": [
    {
     "name": "stdout",
     "output_type": "stream",
     "text": [
      "opening  <xarray.Dataset>\n",
      "Dimensions:       (nregions: 15, time: 11261)\n",
      "Coordinates:\n",
      "    region_names  (nregions) object dask.array<chunksize=(15,), meta=np.ndarray>\n",
      "  * nregions      (nregions) int64 99 2 3 4 5 6 7 8 9 10 11 12 13 14 15\n",
      "  * time          (time) datetime64[ns] 1989-01-01 1989-01-02 ... 2019-10-31\n",
      "Data variables:\n",
      "    Extent        (time, nregions) float64 dask.array<chunksize=(365, 15), meta=np.ndarray>\n",
      "obs loaded\n"
     ]
    }
   ],
   "source": [
    "obs_type = 'sipn_nc_yearly_agg'\n",
    "filepath = '/home/disk/sipn/nicway/data/obs/{model_name}/{model_type}/'.format(model_name=obs_name,\n",
    "                                                                              model_type=obs_type)\n",
    "obs_filenames = xr.open_mfdataset(filepath+'/*.nc',combine='by_coords')\n",
    "print('opening ',obs_filenames)\n",
    "obs_SIE = obs_filenames.Extent\n",
    "obs_regions = obs_filenames.nregions\n",
    "obs_region_names = obs_filenames['region_names'].values\n",
    "# Drop region names and re-add as a non-dask.array object.  This is stupid but oh well\n",
    "obs_SIE = obs_SIE.drop('region_names')\n",
    "obs_SIE[\"region_names\"] = (\"nregions\",obs_region_names)\n",
    "print('obs loaded')"
   ]
  },
  {
   "cell_type": "markdown",
   "metadata": {},
   "source": [
    "Add aggregate regions to obs, convert obs to Pandas dataframe, and trim obs to common reforecast period"
   ]
  },
  {
   "cell_type": "code",
   "execution_count": 11,
   "metadata": {},
   "outputs": [],
   "source": [
    "obs_SIE = create_aggregate_regions(obs_SIE)\n",
    "obs_SIE = obs_SIE.to_dataframe().reset_index()\n",
    "obs_SIE = obs_SIE.rename(columns={'Extent':'SIE','region_names':'region','time':'valid date'})\n",
    "common_yrs = np.arange(1999,2015)\n",
    "obs_SIE = obs_SIE[pd.to_datetime(obs_SIE['valid date']).dt.year.isin(common_yrs)]"
   ]
  },
  {
   "cell_type": "markdown",
   "metadata": {},
   "source": [
    "Calculate our observed climatology "
   ]
  },
  {
   "cell_type": "code",
   "execution_count": 12,
   "metadata": {
    "scrolled": true
   },
   "outputs": [
    {
     "name": "stdout",
     "output_type": "stream",
     "text": [
      "observed climatology created\n"
     ]
    }
   ],
   "source": [
    "obs_SIE = create_obs_climatology(obs_SIE)\n",
    "print('observed climatology created')"
   ]
  },
  {
   "cell_type": "code",
   "execution_count": 13,
   "metadata": {
    "scrolled": false
   },
   "outputs": [
    {
     "data": {
      "text/plain": [
       "[6, 7, 8]"
      ]
     },
     "execution_count": 13,
     "metadata": {},
     "output_type": "execute_result"
    }
   ],
   "source": [
    "seas_sel\n",
    "#obs_SIE_x = obs_SIE[pd.to_datetime(obs_SIE['valid date']).dt.month.isin(seas_sel)]\n",
    "#obs_SIE_x['poo'] = obs_SIE_x.groupby(['region'])['d_SIE anom'].transform(lambda x: x.quantile(0.05))\n",
    "#obs_SIE_x"
   ]
  },
  {
   "cell_type": "markdown",
   "metadata": {},
   "source": [
    "Estimate observed VRILE days"
   ]
  },
  {
   "cell_type": "code",
   "execution_count": 14,
   "metadata": {
    "scrolled": false
   },
   "outputs": [
    {
     "name": "stderr",
     "output_type": "stream",
     "text": [
      "/home/disk/sipn/mcmcgraw/McGraw_etal_2020/code/make_it_nice/FINAL/CODE/S2S_sea_ice_VRILEs.py:28: SettingWithCopyWarning: \n",
      "A value is trying to be set on a copy of a slice from a DataFrame.\n",
      "Try using .loc[row_indexer,col_indexer] = value instead\n",
      "\n",
      "See the caveats in the documentation: https://pandas.pydata.org/pandas-docs/stable/user_guide/indexing.html#returning-a-view-versus-a-copy\n",
      "  obs_SIE['SIE p05'] = obs_SIE.groupby(['region'])['d_SIE'].transform(lambda x: x.quantile(vrile_thresh))\n",
      "/home/disk/sipn/mcmcgraw/McGraw_etal_2020/code/make_it_nice/FINAL/CODE/S2S_sea_ice_VRILEs.py:29: SettingWithCopyWarning: \n",
      "A value is trying to be set on a copy of a slice from a DataFrame.\n",
      "Try using .loc[row_indexer,col_indexer] = value instead\n",
      "\n",
      "See the caveats in the documentation: https://pandas.pydata.org/pandas-docs/stable/user_guide/indexing.html#returning-a-view-versus-a-copy\n",
      "  obs_SIE['SIE anom p05'] = obs_SIE.groupby(['region'])['d_SIE anom'].transform(lambda x: x.quantile(vrile_thresh))\n"
     ]
    },
    {
     "name": "stdout",
     "output_type": "stream",
     "text": [
      "VRILE days calculated\n"
     ]
    }
   ],
   "source": [
    "obs_SIE_VRILE_onlyx, obs_SIE_anom_VRILE_onlyx, obs_SIE_NO_VRILEx, obs_SIE_anom_NO_VRILEx = get_VRILE_days(obs_SIE,vrile_thresh,nday_change,seas_sel,seas_str)\n",
    "print('VRILE days calculated')"
   ]
  },
  {
   "cell_type": "markdown",
   "metadata": {},
   "source": [
    "Now, we want to know how well the models forecast ONLY those VRILE days. "
   ]
  },
  {
   "cell_type": "code",
   "execution_count": 15,
   "metadata": {},
   "outputs": [],
   "source": [
    "obs_SIE_VRILE_only = obs_SIE_VRILE_onlyx.set_index(['region'])\n",
    "obs_SIE_anom_VRILE_only = obs_SIE_anom_VRILE_onlyx.set_index(['region'])\n",
    "#\n",
    "obs_SIE_NO_VRILE = obs_SIE_NO_VRILEx.set_index(['region'])\n",
    "obs_SIE_anom_NO_VRILE = obs_SIE_anom_NO_VRILEx.set_index(['region'])\n"
   ]
  },
  {
   "cell_type": "markdown",
   "metadata": {},
   "source": [
    "First, get model predictions of SIE on non-VRILE days.  Then, do the same for model predictions of SIE on VRILE days\n"
   ]
  },
  {
   "cell_type": "code",
   "execution_count": 16,
   "metadata": {},
   "outputs": [],
   "source": [
    "SIE_reg = SIE_df.set_index(['region'])\n",
    "regions_list = SIE_df['region'].unique().tolist()\n",
    "SIE_no_VRILES = pd.DataFrame()\n",
    "SIE_anom_no_VRILES = pd.DataFrame()\n",
    "#\n",
    "SIE_VRILES = pd.DataFrame()\n",
    "SIE_anom_VRILES = pd.DataFrame()\n",
    "for i_region in regions_list:\n",
    "    SIE_ivrile = SIE_reg.loc[i_region][pd.to_datetime(SIE_reg.loc[i_region]['valid date']).isin(pd.to_datetime(obs_SIE_VRILE_only.loc[i_region]['valid date']))]\n",
    "    SIE_VRILES = SIE_VRILES.append(SIE_ivrile)\n",
    "    #\n",
    "    SIE_anom_ivrile = SIE_reg.loc[i_region][pd.to_datetime(SIE_reg.loc[i_region]['valid date']).isin(pd.to_datetime(obs_SIE_anom_VRILE_only.loc[i_region]['valid date']))]\n",
    "    SIE_anom_VRILES = SIE_anom_VRILES.append(SIE_anom_ivrile)\n",
    "    #\n",
    "    SIE_no_ivrile = SIE_reg.loc[i_region][pd.to_datetime(SIE_reg.loc[i_region]['valid date']).isin(pd.to_datetime(obs_SIE_NO_VRILE.loc[i_region]['valid date']))]\n",
    "    SIE_no_VRILES = SIE_no_VRILES.append(SIE_no_ivrile)\n",
    "    #\n",
    "    SIE_anom_no_ivrile = SIE_reg.loc[i_region][pd.to_datetime(SIE_reg.loc[i_region]['valid date']).isin(pd.to_datetime(obs_SIE_anom_NO_VRILE.loc[i_region]['valid date']))]\n",
    "    SIE_anom_no_VRILES = SIE_anom_no_VRILES.append(SIE_anom_no_ivrile)\n",
    "  \n",
    "    "
   ]
  },
  {
   "cell_type": "markdown",
   "metadata": {},
   "source": [
    "Add lead time in weeks"
   ]
  },
  {
   "cell_type": "code",
   "execution_count": 17,
   "metadata": {},
   "outputs": [],
   "source": [
    "#SIE_df_weekly['lead days'] = SIE_df_weekly['lead time (weeks)']\n",
    "SIE_anom_VRILES['lead time (weeks)'] = np.floor(SIE_anom_VRILES['lead time (days)'].dt.days/week_length)\n",
    "SIE_VRILES['lead time (weeks)'] = np.floor(SIE_VRILES['lead time (days)'].dt.days/week_length)\n",
    "SIE_anom_no_VRILES['lead time (weeks)'] = np.floor(SIE_anom_no_VRILES['lead time (days)'].dt.days/week_length)\n",
    "SIE_no_VRILES['lead time (weeks)'] = np.floor(SIE_no_VRILES['lead time (days)'].dt.days/week_length)"
   ]
  },
  {
   "cell_type": "markdown",
   "metadata": {},
   "source": [
    "Calculate RMSE and MAE"
   ]
  },
  {
   "cell_type": "code",
   "execution_count": 18,
   "metadata": {
    "scrolled": false
   },
   "outputs": [
    {
     "name": "stderr",
     "output_type": "stream",
     "text": [
      "/home/disk/sipn/mcmcgraw/McGraw_etal_2020/code/make_it_nice/FINAL/CODE/S2S_sea_ice_errors.py:11: FutureWarning: Indexing with multiple keys (implicitly converted to a tuple of keys) will be deprecated, use a list instead.\n",
      "  SIE_obsx = obs_SIE.groupby(['region','valid date'])['SIE','SIE clim','SIE anom'].mean()\n",
      "/home/disk/sipn/mcmcgraw/McGraw_etal_2020/code/make_it_nice/FINAL/CODE/S2S_sea_ice_errors.py:13: FutureWarning: Indexing with multiple keys (implicitly converted to a tuple of keys) will be deprecated, use a list instead.\n",
      "  SIE_model_raw = model_SIE.groupby(['region','valid date','lead days','init date'])['SIE','SIE clim','SIE anom'].mean()\n",
      "/home/disk/sipn/mcmcgraw/McGraw_etal_2020/code/make_it_nice/FINAL/CODE/S2S_sea_ice_errors.py:17: FutureWarning: Indexing with multiple keys (implicitly converted to a tuple of keys) will be deprecated, use a list instead.\n",
      "  SIE_modelx = model_SIE.groupby(['region','valid date','lead days'])['SIE','SIE clim','SIE anom'].mean()\n"
     ]
    },
    {
     "name": "stdout",
     "output_type": "stream",
     "text": [
      "errors calculated\n"
     ]
    }
   ],
   "source": [
    "if lead_weeks == True:\n",
    "    clim_freq_str = 'WEEKLY'\n",
    "    SIE_VRILES['lead days'] = SIE_VRILES['lead time (weeks)']\n",
    "    SIE_anom_VRILES['lead days'] = SIE_anom_VRILES['lead time (weeks)']\n",
    "    SIE_raw_err,SIE_errors = calculate_errors(SIE_VRILES,obs_SIE_VRILE_only)\n",
    "    SIE_anom_raw_err,SIE_anom_errors = calculate_errors(SIE_anom_VRILES,obs_SIE_anom_VRILE_only)\n",
    "    ## NO VRILES\n",
    "    SIE_no_VRILES['lead days'] = SIE_no_VRILES['lead time (weeks)']\n",
    "    SIE_anom_no_VRILES['lead days'] = SIE_anom_no_VRILES['lead time (weeks)']\n",
    "    SIE_raw_err_NO,SIE_errors_NO = calculate_errors(SIE_no_VRILES,obs_SIE_NO_VRILE)\n",
    "    SIE_anom_raw_err_NO,SIE_anom_errors_NO = calculate_errors(SIE_anom_no_VRILES,obs_SIE_anom_NO_VRILE)\n",
    "else:\n",
    "    clim_freq_str = 'DAILY'\n",
    "    SIE_VRILES['lead days'] = SIE_VRILES['lead time (days)'].dt.days\n",
    "    SIE_anom_VRILES['lead days'] = SIE_anom_VRILES['lead time (days)'].dt.days\n",
    "    SIE_raw_err,SIE_errors = calculate_errors(SIE_VRILES,obs_SIE_VRILE_only)\n",
    "    SIE_anom_raw_err,SIE_anom_errors = calculate_errors(SIE_anom_VRILES,obs_SIE_anom_VRILE_only)\n",
    "    ## NO VRILES\n",
    "    SIE_no_VRILES['lead days'] = SIE_no_VRILES['lead time (days)'].dt.days\n",
    "    SIE_anom_no_VRILES['lead days'] = SIE_anom_no_VRILES['lead time (days)'].dt.days\n",
    "    SIE_raw_err_NO,SIE_errors_NO = calculate_errors(SIE_no_VRILES,obs_SIE_NO_VRILE)\n",
    "    SIE_anom_raw_err_NO,SIE_anom_errors_NO = calculate_errors(SIE_anom_no_VRILES,obs_SIE_anom_NO_VRILE)\n",
    "print('errors calculated')"
   ]
  },
  {
   "cell_type": "code",
   "execution_count": 19,
   "metadata": {},
   "outputs": [
    {
     "data": {
      "text/plain": [
       "<matplotlib.axes._axes.Axes at 0x7fcef6abf860>"
      ]
     },
     "execution_count": 19,
     "metadata": {},
     "output_type": "execute_result"
    },
    {
     "data": {
      "image/png": "[encoded data removed]",
      "text/plain": [
       "<Figure size 432x288 with 1 Axes>"
      ]
     },
     "metadata": {
      "needs_background": "light"
     },
     "output_type": "display_data"
    }
   ],
   "source": [
    "import matplotlib.pyplot as plt\n",
    "fig1 = plt.figure(1)\n",
    "ax1 = fig1.add_axes([0,0,1,1])\n",
    "foo = SIE_errors.xs('panArctic').reset_index()\n",
    "foo.plot.scatter(x='lead days',y=['SIE RMSE'],linewidth=2,linestyle='--',ax=ax1,color='r',label=['VRILES'])\n",
    "foo2 = SIE_errors_NO.xs('panArctic').reset_index()\n",
    "foo2.plot.scatter(x='lead days',y=['SIE RMSE'],linewidth=2,linestyle=':',ax=ax1,label=['NO VRILES'])"
   ]
  },
  {
   "cell_type": "markdown",
   "metadata": {},
   "source": [
    "Replace <code>SIE anom RMSE</code> and <code>SIE anom MAE</code> in <code>SIE_errors</code> with corresponding entries from  <code>SIE_anom_errors</code> (and same for raw)"
   ]
  },
  {
   "cell_type": "code",
   "execution_count": 20,
   "metadata": {},
   "outputs": [
    {
     "data": {
      "text/html": [
       "<div>\n",
       "<style scoped>\n",
       "    .dataframe tbody tr th:only-of-type {\n",
       "        vertical-align: middle;\n",
       "    }\n",
       "\n",
       "    .dataframe tbody tr th {\n",
       "        vertical-align: top;\n",
       "    }\n",
       "\n",
       "    .dataframe thead th {\n",
       "        text-align: right;\n",
       "    }\n",
       "</style>\n",
       "<table border=\"1\" class=\"dataframe\">\n",
       "  <thead>\n",
       "    <tr style=\"text-align: right;\">\n",
       "      <th></th>\n",
       "      <th></th>\n",
       "      <th>SIE RMSE</th>\n",
       "      <th>SIE anom RMSE</th>\n",
       "      <th>SIE MAE</th>\n",
       "      <th>SIE anom MAE</th>\n",
       "    </tr>\n",
       "    <tr>\n",
       "      <th>region</th>\n",
       "      <th>lead days</th>\n",
       "      <th></th>\n",
       "      <th></th>\n",
       "      <th></th>\n",
       "      <th></th>\n",
       "    </tr>\n",
       "  </thead>\n",
       "  <tbody>\n",
       "    <tr>\n",
       "      <th rowspan=\"5\" valign=\"top\">Atlantic</th>\n",
       "      <th>0.0</th>\n",
       "      <td>0.152146</td>\n",
       "      <td>0.152666</td>\n",
       "      <td>0.118255</td>\n",
       "      <td>0.129271</td>\n",
       "    </tr>\n",
       "    <tr>\n",
       "      <th>1.0</th>\n",
       "      <td>0.151704</td>\n",
       "      <td>0.139163</td>\n",
       "      <td>0.113103</td>\n",
       "      <td>0.118116</td>\n",
       "    </tr>\n",
       "    <tr>\n",
       "      <th>2.0</th>\n",
       "      <td>0.202034</td>\n",
       "      <td>0.164179</td>\n",
       "      <td>0.162606</td>\n",
       "      <td>0.141254</td>\n",
       "    </tr>\n",
       "    <tr>\n",
       "      <th>3.0</th>\n",
       "      <td>0.214997</td>\n",
       "      <td>0.179218</td>\n",
       "      <td>0.170190</td>\n",
       "      <td>0.159110</td>\n",
       "    </tr>\n",
       "    <tr>\n",
       "      <th>4.0</th>\n",
       "      <td>0.218524</td>\n",
       "      <td>0.191991</td>\n",
       "      <td>0.171179</td>\n",
       "      <td>0.167202</td>\n",
       "    </tr>\n",
       "    <tr>\n",
       "      <th>...</th>\n",
       "      <th>...</th>\n",
       "      <td>...</td>\n",
       "      <td>...</td>\n",
       "      <td>...</td>\n",
       "      <td>...</td>\n",
       "    </tr>\n",
       "    <tr>\n",
       "      <th rowspan=\"5\" valign=\"top\">panArctic</th>\n",
       "      <th>2.0</th>\n",
       "      <td>0.684549</td>\n",
       "      <td>0.498367</td>\n",
       "      <td>0.599336</td>\n",
       "      <td>0.433923</td>\n",
       "    </tr>\n",
       "    <tr>\n",
       "      <th>3.0</th>\n",
       "      <td>0.633967</td>\n",
       "      <td>0.535005</td>\n",
       "      <td>0.553509</td>\n",
       "      <td>0.472207</td>\n",
       "    </tr>\n",
       "    <tr>\n",
       "      <th>4.0</th>\n",
       "      <td>0.587952</td>\n",
       "      <td>0.579020</td>\n",
       "      <td>0.503344</td>\n",
       "      <td>0.490062</td>\n",
       "    </tr>\n",
       "    <tr>\n",
       "      <th>5.0</th>\n",
       "      <td>0.541996</td>\n",
       "      <td>0.573350</td>\n",
       "      <td>0.477144</td>\n",
       "      <td>0.481413</td>\n",
       "    </tr>\n",
       "    <tr>\n",
       "      <th>6.0</th>\n",
       "      <td>0.538596</td>\n",
       "      <td>0.580325</td>\n",
       "      <td>0.469314</td>\n",
       "      <td>0.474856</td>\n",
       "    </tr>\n",
       "  </tbody>\n",
       "</table>\n",
       "<p>140 rows × 4 columns</p>\n",
       "</div>"
      ],
      "text/plain": [
       "                     SIE RMSE  SIE anom RMSE   SIE MAE  SIE anom MAE\n",
       "region    lead days                                                 \n",
       "Atlantic  0.0        0.152146       0.152666  0.118255      0.129271\n",
       "          1.0        0.151704       0.139163  0.113103      0.118116\n",
       "          2.0        0.202034       0.164179  0.162606      0.141254\n",
       "          3.0        0.214997       0.179218  0.170190      0.159110\n",
       "          4.0        0.218524       0.191991  0.171179      0.167202\n",
       "...                       ...            ...       ...           ...\n",
       "panArctic 2.0        0.684549       0.498367  0.599336      0.433923\n",
       "          3.0        0.633967       0.535005  0.553509      0.472207\n",
       "          4.0        0.587952       0.579020  0.503344      0.490062\n",
       "          5.0        0.541996       0.573350  0.477144      0.481413\n",
       "          6.0        0.538596       0.580325  0.469314      0.474856\n",
       "\n",
       "[140 rows x 4 columns]"
      ]
     },
     "execution_count": 20,
     "metadata": {},
     "output_type": "execute_result"
    }
   ],
   "source": [
    "SIE_errors"
   ]
  },
  {
   "cell_type": "code",
   "execution_count": null,
   "metadata": {},
   "outputs": [],
   "source": [
    "SIE_errors[['SIE anom RMSE','SIE anom MAE']] = SIE_anom_errors[['SIE anom RMSE','SIE anom MAE']]\n",
    "SIE_raw_err['SIE anom'] = SIE_anom_raw_err['SIE anom']"
   ]
  },
  {
   "cell_type": "code",
   "execution_count": null,
   "metadata": {},
   "outputs": [],
   "source": [
    "lead_weeks"
   ]
  },
  {
   "cell_type": "markdown",
   "metadata": {},
   "source": [
    "Save files!"
   ]
  },
  {
   "cell_type": "code",
   "execution_count": null,
   "metadata": {
    "scrolled": true
   },
   "outputs": [],
   "source": [
    "fdir = '../DATA/{model_name}/'.format(model_name=model_name)\n",
    "fdir = fdir+'OBS_{obs_name}/'.format(obs_name=obs_name)\n",
    "if lead_weeks == True:\n",
    "    fdir = fdir+'lead_time_WEEKS/'\n",
    "if not os.path.exists(fdir):\n",
    "    os.makedirs(fdir)\n",
    "fname_save_raw = fdir+'VRILE_vs_nonVRILE_RAW_err_{model_name}_months{seas_str}_VRILE{thresh_str}_model_clim_freq_{clim_freq_str}.csv'.format(model_name=model_name,\n",
    "                                             seas_str=seas_str,thresh_str=thresh_str,clim_freq_str=clim_freq_str)\n",
    "fname_save_RMSE = fdir+'VRILE_vs_nonVRILE_RMSE_MAE_{model_name}_months{seas_str}_VRILE{thresh_str}_model_clim_freq_{clim_freq_str}.csv'.format(model_name=model_name,\n",
    "                                             seas_str=seas_str,thresh_str=thresh_str,clim_freq_str=clim_freq_str)\n",
    "SIE_raw_err.to_csv(fname_save_raw)\n",
    "SIE_errors.to_csv(fname_save_RMSE)\n",
    "print('files saved')"
   ]
  },
  {
   "cell_type": "code",
   "execution_count": null,
   "metadata": {},
   "outputs": [],
   "source": [
    "fname_save_raw"
   ]
  },
  {
   "cell_type": "code",
   "execution_count": null,
   "metadata": {},
   "outputs": [],
   "source": []
  }
 ],
 "metadata": {
  "kernelspec": {
   "display_name": "sea_ice_variability_S2S",
   "language": "python",
   "name": "sea_ice_variability_s2s"
  },
  "language_info": {
   "codemirror_mode": {
    "name": "ipython",
    "version": 3
   },
   "file_extension": ".py",
   "mimetype": "text/x-python",
   "name": "python",
   "nbconvert_exporter": "python",
   "pygments_lexer": "ipython3",
   "version": "3.7.3"
  }
 },
 "nbformat": 4,
 "nbformat_minor": 2
}
