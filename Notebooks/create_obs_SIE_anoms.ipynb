{
 "cells": [
  {
   "cell_type": "markdown",
   "metadata": {},
   "source": [
    "<code>create_obs_SIE_anoms.ipynb</code>.  This notebook calculates the anomalous sea ice extent for our observed sea ice extents.  We'll calculate them for both NASA Bootstrap (NSIDC_0079) and NASA Team (NSIDC_0081)."
   ]
  },
  {
   "cell_type": "markdown",
   "metadata": {},
   "source": [
    "This notebook prepares our S2S sea ice extent forecast data for McGraw et al (2021).  Here, we read in sea ice extent data from the following sea ice observations, available from the SIPN portal:\n",
    "<li> NSIDC_0079 (NASA Bootstrap) </li>\n",
    "<li> NSIDC_0051 (NASA Team) </li>\n",
    "\n",
    "For each observational data set, we import the observations that. We calculate two different climatologies--one where we use the entire SIE data set from 1989-2014, and a second where we only use the years in our reforecast common reforecast data set. \n",
    "\n",
    "$$SIE_{clim}(doy) = \\frac{1}{N} \\cdot \\sum_{i=1}^{N} SIE_{clim}(doy,i),$$\n",
    "\n",
    "where $l$ is the forecast lead time, $doy$ is the day of year, $i$ indicates the year of the forecast (so the forecast date is the day of the year and the year), and $N$ is the number of forecast years. \n",
    "\n",
    "Finally, we estimate the anomalous SIE for each forecast by removing the climatological SIE from the actual SIE,\n",
    "\n",
    "$$SIE_{anom}(doy, i) = SIE(doy, i) - SIE_{clim}(doy)$$\n",
    "\n",
    "We output $SIE$, $SIE_{clim}$, and $SIE_{anom}$ to a dataframe. \n"
   ]
  },
  {
   "cell_type": "code",
   "execution_count": 9,
   "metadata": {},
   "outputs": [],
   "source": [
    "import xarray as xr\n",
    "import numpy as np\n",
    "import pandas as pd\n",
    "import os\n",
    "import matplotlib.pyplot as plt\n",
    "from S2S_sea_ice_preprocess import load_model, create_aggregate_regions, create_obs_climatology"
   ]
  },
  {
   "cell_type": "markdown",
   "metadata": {},
   "source": [
    "## Functions"
   ]
  },
  {
   "cell_type": "markdown",
   "metadata": {},
   "source": [
    "<li>1) <code>load_model</code> loads obs netCDF files from SIPN </li>\n",
    "<li> 2) <code>create_aggregate_regions</code> Combine some of the NSIDC MASIE regions together for simplicity (e.g., Kara and Laptev Seas combined to create Kara-Laptev Sea region) </li>\n",
    "<li> 3) <code>create_obs_climatology</code>: climatology for observations\n",
    " \n",
    "  *  Group by region, lead time, and valid date of year \n",
    "  *  Average climatology based on day of year and lead time in weeks--use <code>transform</code> to create <code>SIE_clim</code>. \n",
    "  *  Subtract <code>SIE_clim</code> from <code>SIE</code> </li>"
   ]
  },
  {
   "cell_type": "code",
   "execution_count": 33,
   "metadata": {
    "scrolled": true
   },
   "outputs": [
    {
     "name": "stdout",
     "output_type": "stream",
     "text": [
      "opening  <xarray.Dataset>\n",
      "Dimensions:       (nregions: 15, time: 11322)\n",
      "Coordinates:\n",
      "    region_names  (nregions) object dask.array<chunksize=(15,), meta=np.ndarray>\n",
      "  * nregions      (nregions) int64 99 2 3 4 5 6 7 8 9 10 11 12 13 14 15\n",
      "  * time          (time) datetime64[ns] 1989-01-01 1989-01-02 ... 2019-12-31\n",
      "Data variables:\n",
      "    Extent        (time, nregions) float64 dask.array<chunksize=(365, 15), meta=np.ndarray>\n",
      "obs loaded\n"
     ]
    }
   ],
   "source": [
    "obs_name = 'NSIDC_0079'\n",
    "obs_type = 'sipn_nc_yearly_agg'\n",
    "filepath = '/home/disk/sipn/nicway/data/obs/{model_name}/{model_type}/'.format(model_name=obs_name,\n",
    "                                                                              model_type=obs_type)\n",
    "obs_filenames = xr.open_mfdataset(filepath+'/*.nc',combine='by_coords')\n",
    "print('opening ',obs_filenames)\n",
    "obs_SIE = obs_filenames.Extent\n",
    "obs_regions = obs_filenames.nregions\n",
    "obs_region_names = obs_filenames['region_names'].values\n",
    "# Drop region names and re-add as a non-dask.array object.  This is stupid but oh well\n",
    "obs_SIE = obs_SIE.drop('region_names')\n",
    "obs_SIE[\"region_names\"] = (\"nregions\",obs_region_names)\n",
    "print('obs loaded')"
   ]
  },
  {
   "cell_type": "markdown",
   "metadata": {},
   "source": [
    "Create aggregate regions"
   ]
  },
  {
   "cell_type": "code",
   "execution_count": 34,
   "metadata": {},
   "outputs": [],
   "source": [
    "obs_SIE = create_aggregate_regions(obs_SIE)\n",
    "obs_SIE = obs_SIE.to_dataframe().reset_index()\n",
    "obs_SIE = obs_SIE.rename(columns={'Extent':'SIE','region_names':'region','time':'valid date'})\n",
    "obs_SIE['obs name'] = obs_name"
   ]
  },
  {
   "cell_type": "markdown",
   "metadata": {},
   "source": [
    "Create a copy of <code>obs_SIE</code> that only includes the years in the common reforecast period"
   ]
  },
  {
   "cell_type": "code",
   "execution_count": 35,
   "metadata": {
    "scrolled": true
   },
   "outputs": [],
   "source": [
    "common_yrs = np.arange(1999,2015)\n",
    "obs_SIE_CF = obs_SIE[pd.to_datetime(obs_SIE['valid date']).dt.year.isin(common_yrs)]"
   ]
  },
  {
   "cell_type": "markdown",
   "metadata": {},
   "source": [
    "Climatologies--one for the full obs, one for the common reforecast period only.  We'll also compare the impact of removing 2015-2019. "
   ]
  },
  {
   "cell_type": "code",
   "execution_count": 36,
   "metadata": {},
   "outputs": [
    {
     "name": "stderr",
     "output_type": "stream",
     "text": [
      "/home/disk/sipn/mcmcgraw/McGraw_etal_2020/code/make_it_nice/FINAL/CODE/S2S_sea_ice_preprocess.py:94: SettingWithCopyWarning: \n",
      "A value is trying to be set on a copy of a slice from a DataFrame.\n",
      "Try using .loc[row_indexer,col_indexer] = value instead\n",
      "\n",
      "See the caveats in the documentation: https://pandas.pydata.org/pandas-docs/stable/user_guide/indexing.html#returning-a-view-versus-a-copy\n",
      "  SIE['valid day of year'] = pd.to_datetime(SIE['valid date']).dt.strftime('%m-%d')\n",
      "/home/disk/sipn/mcmcgraw/McGraw_etal_2020/code/make_it_nice/FINAL/CODE/S2S_sea_ice_preprocess.py:97: SettingWithCopyWarning: \n",
      "A value is trying to be set on a copy of a slice from a DataFrame.\n",
      "Try using .loc[row_indexer,col_indexer] = value instead\n",
      "\n",
      "See the caveats in the documentation: https://pandas.pydata.org/pandas-docs/stable/user_guide/indexing.html#returning-a-view-versus-a-copy\n",
      "  SIE['SIE clim'] = SIE.groupby(['region','valid day of year'])['SIE'].transform('mean')\n",
      "/home/disk/sipn/mcmcgraw/McGraw_etal_2020/code/make_it_nice/FINAL/CODE/S2S_sea_ice_preprocess.py:99: SettingWithCopyWarning: \n",
      "A value is trying to be set on a copy of a slice from a DataFrame.\n",
      "Try using .loc[row_indexer,col_indexer] = value instead\n",
      "\n",
      "See the caveats in the documentation: https://pandas.pydata.org/pandas-docs/stable/user_guide/indexing.html#returning-a-view-versus-a-copy\n",
      "  SIE['SIE anom'] = SIE['SIE'] - SIE['SIE clim']\n"
     ]
    }
   ],
   "source": [
    "obs_SIE_v2 = obs_SIE[pd.to_datetime(obs_SIE['valid date']).dt.year < 2015]\n",
    "obs_SIE_v2 = create_obs_climatology(obs_SIE_v2)\n",
    "obs_SIE = create_obs_climatology(obs_SIE)\n",
    "obs_SIE_CF = create_obs_climatology(obs_SIE_CF)"
   ]
  },
  {
   "cell_type": "code",
   "execution_count": 40,
   "metadata": {},
   "outputs": [
    {
     "data": {
      "text/plain": [
       "<matplotlib.axes._axes.Axes at 0x7f8e6a3afcc0>"
      ]
     },
     "execution_count": 40,
     "metadata": {},
     "output_type": "execute_result"
    },
    {
     "data": {
      "image/png": "[encoded data removed]",
      "text/plain": [
       "<Figure size 432x288 with 1 Axes>"
      ]
     },
     "metadata": {
      "needs_background": "light"
     },
     "output_type": "display_data"
    }
   ],
   "source": [
    "fig1 = plt.figure(1)\n",
    "ax1 = fig1.add_axes([0,0,1,1])\n",
    "obs_SIE_v2.groupby(['region','valid day of year']).mean().xs('Baffin Bay').plot(y='SIE clim',ax=ax1)\n",
    "obs_SIE.groupby(['region','valid day of year']).mean().xs('Baffin Bay').plot(y='SIE clim',ax=ax1)\n",
    "obs_SIE_CF.groupby(['region','valid day of year']).mean().xs('Baffin Bay').plot(y='SIE clim',ax=ax1)"
   ]
  },
  {
   "cell_type": "code",
   "execution_count": null,
   "metadata": {},
   "outputs": [],
   "source": []
  }
 ],
 "metadata": {
  "kernelspec": {
   "display_name": "sea_ice_variability_S2S",
   "language": "python",
   "name": "sea_ice_variability_s2s"
  },
  "language_info": {
   "codemirror_mode": {
    "name": "ipython",
    "version": 3
   },
   "file_extension": ".py",
   "mimetype": "text/x-python",
   "name": "python",
   "nbconvert_exporter": "python",
   "pygments_lexer": "ipython3",
   "version": "3.7.3"
  }
 },
 "nbformat": 4,
 "nbformat_minor": 2
}
