{
 "cells": [
  {
   "cell_type": "markdown",
   "metadata": {},
   "source": [
    "<code>plot_SIE_SIE_anom_bias_init_month_vs_lead_time_FINAL.ipynb</code>.  Calculates bias ($ model - obs $) in SIE and SIE anom forecasts as a function of region, season, and lead time. "
   ]
  },
  {
   "cell_type": "code",
   "execution_count": 1,
   "metadata": {},
   "outputs": [],
   "source": [
    "import pandas as pd\n",
    "import numpy as np\n",
    "import matplotlib.pyplot as plt\n",
    "import seaborn as sns\n",
    "import xarray as xr\n",
    "import os\n",
    "import glob"
   ]
  },
  {
   "cell_type": "markdown",
   "metadata": {},
   "source": [
    "1. Load raw error files for each model\n",
    "2. Estimate lead weeks\n",
    "3. Make following plots:\n",
    "    *  <b>For each region</b>:\n",
    "        *  <b>4-panel heat map of SIE bias with lead weeks (x) and init month (y); each panel is one model</b>\n",
    "        *  <b>4-panel heat map of SIE anom bias with lead weeks (x) and init month (y); each panel is one model</b>\n"
   ]
  },
  {
   "cell_type": "markdown",
   "metadata": {},
   "source": [
    "plot for heat map: init month vs lead time in DAYS for each model"
   ]
  },
  {
   "cell_type": "markdown",
   "metadata": {},
   "source": [
    "Load S2S model errors"
   ]
  },
  {
   "cell_type": "code",
   "execution_count": 2,
   "metadata": {},
   "outputs": [],
   "source": [
    "model_names_all = ['ecmwf','ukmo','ncep','metreofr']\n",
    "model_names_plt = ['ecmwf','ukmo','ncep','meteofr']\n",
    "seas_str = 'ALL'\n",
    "week_length = 7\n",
    "max_lead_week = 4"
   ]
  },
  {
   "cell_type": "markdown",
   "metadata": {},
   "source": [
    "Load model errors into one dataframe"
   ]
  },
  {
   "cell_type": "code",
   "execution_count": 3,
   "metadata": {},
   "outputs": [],
   "source": [
    "file_path_load = '/home/disk/sipn/mcmcgraw/McGraw_etal_2020/code/make_it_nice/data/'\n",
    "\n",
    "SIE_errors_ALL = pd.DataFrame()\n",
    "for i_model in model_names_all:\n",
    "    fload_i = file_path_load+'{i_model}/RAW_err_{i_model}_months{seas_str}_model_clim_freq_WEEKLY.csv'.format(i_model=i_model,\n",
    "                                                                                        seas_str=seas_str)\n",
    "    pd_load = pd.read_csv(fload_i)\n",
    "    pd_load['model name'] = i_model\n",
    "    SIE_errors_ALL = SIE_errors_ALL.append(pd_load)"
   ]
  },
  {
   "cell_type": "markdown",
   "metadata": {},
   "source": [
    "Calculate lead time in weeks"
   ]
  },
  {
   "cell_type": "code",
   "execution_count": 4,
   "metadata": {},
   "outputs": [
    {
     "data": {
      "text/html": [
       "<div>\n",
       "<style scoped>\n",
       "    .dataframe tbody tr th:only-of-type {\n",
       "        vertical-align: middle;\n",
       "    }\n",
       "\n",
       "    .dataframe tbody tr th {\n",
       "        vertical-align: top;\n",
       "    }\n",
       "\n",
       "    .dataframe thead th {\n",
       "        text-align: right;\n",
       "    }\n",
       "</style>\n",
       "<table border=\"1\" class=\"dataframe\">\n",
       "  <thead>\n",
       "    <tr style=\"text-align: right;\">\n",
       "      <th></th>\n",
       "      <th>region</th>\n",
       "      <th>valid date</th>\n",
       "      <th>lead days</th>\n",
       "      <th>init date</th>\n",
       "      <th>SIE</th>\n",
       "      <th>SIE anom</th>\n",
       "      <th>model name</th>\n",
       "      <th>lead weeks</th>\n",
       "    </tr>\n",
       "  </thead>\n",
       "  <tbody>\n",
       "    <tr>\n",
       "      <th>0</th>\n",
       "      <td>Atlantic</td>\n",
       "      <td>1999-01-03</td>\n",
       "      <td>0</td>\n",
       "      <td>1999-01-03</td>\n",
       "      <td>-0.110369</td>\n",
       "      <td>0.199128</td>\n",
       "      <td>ecmwf</td>\n",
       "      <td>0.0</td>\n",
       "    </tr>\n",
       "    <tr>\n",
       "      <th>1</th>\n",
       "      <td>Atlantic</td>\n",
       "      <td>1999-01-04</td>\n",
       "      <td>1</td>\n",
       "      <td>1999-01-03</td>\n",
       "      <td>-0.076445</td>\n",
       "      <td>0.226029</td>\n",
       "      <td>ecmwf</td>\n",
       "      <td>0.0</td>\n",
       "    </tr>\n",
       "    <tr>\n",
       "      <th>2</th>\n",
       "      <td>Atlantic</td>\n",
       "      <td>1999-01-05</td>\n",
       "      <td>2</td>\n",
       "      <td>1999-01-03</td>\n",
       "      <td>-0.098926</td>\n",
       "      <td>0.194291</td>\n",
       "      <td>ecmwf</td>\n",
       "      <td>0.0</td>\n",
       "    </tr>\n",
       "    <tr>\n",
       "      <th>3</th>\n",
       "      <td>Atlantic</td>\n",
       "      <td>1999-01-06</td>\n",
       "      <td>3</td>\n",
       "      <td>1999-01-03</td>\n",
       "      <td>-0.103905</td>\n",
       "      <td>0.187650</td>\n",
       "      <td>ecmwf</td>\n",
       "      <td>0.0</td>\n",
       "    </tr>\n",
       "    <tr>\n",
       "      <th>4</th>\n",
       "      <td>Atlantic</td>\n",
       "      <td>1999-01-07</td>\n",
       "      <td>0</td>\n",
       "      <td>1999-01-07</td>\n",
       "      <td>-0.238176</td>\n",
       "      <td>0.079253</td>\n",
       "      <td>ecmwf</td>\n",
       "      <td>0.0</td>\n",
       "    </tr>\n",
       "    <tr>\n",
       "      <th>...</th>\n",
       "      <td>...</td>\n",
       "      <td>...</td>\n",
       "      <td>...</td>\n",
       "      <td>...</td>\n",
       "      <td>...</td>\n",
       "      <td>...</td>\n",
       "      <td>...</td>\n",
       "      <td>...</td>\n",
       "    </tr>\n",
       "    <tr>\n",
       "      <th>921595</th>\n",
       "      <td>panArctic</td>\n",
       "      <td>2015-02-15</td>\n",
       "      <td>55</td>\n",
       "      <td>2014-12-22</td>\n",
       "      <td>-1.311706</td>\n",
       "      <td>0.023388</td>\n",
       "      <td>metreofr</td>\n",
       "      <td>7.0</td>\n",
       "    </tr>\n",
       "    <tr>\n",
       "      <th>921596</th>\n",
       "      <td>panArctic</td>\n",
       "      <td>2015-02-16</td>\n",
       "      <td>56</td>\n",
       "      <td>2014-12-22</td>\n",
       "      <td>-1.168223</td>\n",
       "      <td>0.156649</td>\n",
       "      <td>metreofr</td>\n",
       "      <td>8.0</td>\n",
       "    </tr>\n",
       "    <tr>\n",
       "      <th>921597</th>\n",
       "      <td>panArctic</td>\n",
       "      <td>2015-02-17</td>\n",
       "      <td>57</td>\n",
       "      <td>2014-12-22</td>\n",
       "      <td>-1.140751</td>\n",
       "      <td>0.177740</td>\n",
       "      <td>metreofr</td>\n",
       "      <td>8.0</td>\n",
       "    </tr>\n",
       "    <tr>\n",
       "      <th>921598</th>\n",
       "      <td>panArctic</td>\n",
       "      <td>2015-02-18</td>\n",
       "      <td>58</td>\n",
       "      <td>2014-12-22</td>\n",
       "      <td>-1.139216</td>\n",
       "      <td>0.186333</td>\n",
       "      <td>metreofr</td>\n",
       "      <td>8.0</td>\n",
       "    </tr>\n",
       "    <tr>\n",
       "      <th>921599</th>\n",
       "      <td>panArctic</td>\n",
       "      <td>2015-02-19</td>\n",
       "      <td>59</td>\n",
       "      <td>2014-12-22</td>\n",
       "      <td>-1.102371</td>\n",
       "      <td>0.224608</td>\n",
       "      <td>metreofr</td>\n",
       "      <td>8.0</td>\n",
       "    </tr>\n",
       "  </tbody>\n",
       "</table>\n",
       "<p>7140880 rows × 8 columns</p>\n",
       "</div>"
      ],
      "text/plain": [
       "           region  valid date  lead days   init date       SIE  SIE anom  \\\n",
       "0        Atlantic  1999-01-03          0  1999-01-03 -0.110369  0.199128   \n",
       "1        Atlantic  1999-01-04          1  1999-01-03 -0.076445  0.226029   \n",
       "2        Atlantic  1999-01-05          2  1999-01-03 -0.098926  0.194291   \n",
       "3        Atlantic  1999-01-06          3  1999-01-03 -0.103905  0.187650   \n",
       "4        Atlantic  1999-01-07          0  1999-01-07 -0.238176  0.079253   \n",
       "...           ...         ...        ...         ...       ...       ...   \n",
       "921595  panArctic  2015-02-15         55  2014-12-22 -1.311706  0.023388   \n",
       "921596  panArctic  2015-02-16         56  2014-12-22 -1.168223  0.156649   \n",
       "921597  panArctic  2015-02-17         57  2014-12-22 -1.140751  0.177740   \n",
       "921598  panArctic  2015-02-18         58  2014-12-22 -1.139216  0.186333   \n",
       "921599  panArctic  2015-02-19         59  2014-12-22 -1.102371  0.224608   \n",
       "\n",
       "       model name  lead weeks  \n",
       "0           ecmwf         0.0  \n",
       "1           ecmwf         0.0  \n",
       "2           ecmwf         0.0  \n",
       "3           ecmwf         0.0  \n",
       "4           ecmwf         0.0  \n",
       "...           ...         ...  \n",
       "921595   metreofr         7.0  \n",
       "921596   metreofr         8.0  \n",
       "921597   metreofr         8.0  \n",
       "921598   metreofr         8.0  \n",
       "921599   metreofr         8.0  \n",
       "\n",
       "[7140880 rows x 8 columns]"
      ]
     },
     "execution_count": 4,
     "metadata": {},
     "output_type": "execute_result"
    }
   ],
   "source": [
    "SIE_errors_ALL['lead weeks'] = SIE_errors_ALL['lead days'].values.astype('timedelta64[D]')/pd.Timedelta(week_length,'D')\n",
    "SIE_errors_ALL['lead weeks'] = SIE_errors_ALL['lead weeks'].apply(np.floor) \n",
    "SIE_errors_ALL"
   ]
  },
  {
   "cell_type": "markdown",
   "metadata": {},
   "source": [
    "Trim to errors of interest.  Then, create a <code>Categorical</code> so that we can plot our results in the desired order.  Finally, replace certain region names for plotting (and <code>meteofr</code> as well)"
   ]
  },
  {
   "cell_type": "code",
   "execution_count": 5,
   "metadata": {},
   "outputs": [
    {
     "name": "stderr",
     "output_type": "stream",
     "text": [
      "/home/disk/sipn/mcmcgraw/anaconda3/envs/sea_ice_variability_S2S/lib/python3.7/site-packages/ipykernel_launcher.py:5: SettingWithCopyWarning: \n",
      "A value is trying to be set on a copy of a slice from a DataFrame.\n",
      "Try using .loc[row_indexer,col_indexer] = value instead\n",
      "\n",
      "See the caveats in the documentation: https://pandas.pydata.org/pandas-docs/stable/user_guide/indexing.html#returning-a-view-versus-a-copy\n",
      "  \"\"\"\n",
      "/home/disk/sipn/mcmcgraw/anaconda3/envs/sea_ice_variability_S2S/lib/python3.7/site-packages/ipykernel_launcher.py:9: SettingWithCopyWarning: \n",
      "A value is trying to be set on a copy of a slice from a DataFrame.\n",
      "Try using .loc[row_indexer,col_indexer] = value instead\n",
      "\n",
      "See the caveats in the documentation: https://pandas.pydata.org/pandas-docs/stable/user_guide/indexing.html#returning-a-view-versus-a-copy\n",
      "  if __name__ == '__main__':\n",
      "/home/disk/sipn/mcmcgraw/anaconda3/envs/sea_ice_variability_S2S/lib/python3.7/site-packages/ipykernel_launcher.py:12: SettingWithCopyWarning: \n",
      "A value is trying to be set on a copy of a slice from a DataFrame.\n",
      "Try using .loc[row_indexer,col_indexer] = value instead\n",
      "\n",
      "See the caveats in the documentation: https://pandas.pydata.org/pandas-docs/stable/user_guide/indexing.html#returning-a-view-versus-a-copy\n",
      "  if sys.path[0] == '':\n"
     ]
    }
   ],
   "source": [
    "regions_trim = [\"panArctic\",\"Central Arctic\",\"East Siberian-Beaufort-Chukchi Sea\",\"Kara-Laptev Sea\",\"Barents Sea\",\n",
    "              \"East Greenland Sea\"]\n",
    "SIE_errors_trim = SIE_errors_ALL[SIE_errors_ALL['region'].isin(regions_trim)]\n",
    "SIE_errors_trim['region'] = SIE_errors_trim['region'].replace({'East Greenland Sea':'E. Greenland Sea',\n",
    "    'East Siberian-Beaufort-Chukchi Sea':'E. Sib./Beauf./Chuk. Sea'})\n",
    "#\n",
    "regions_sel = [\"panArctic\",\"Central Arctic\",\"E. Sib./Beauf./Chuk. Sea\",\"Kara-Laptev Sea\",\"Barents Sea\",\n",
    "              \"E. Greenland Sea\"]\n",
    "SIE_errors_trim['region sort'] = pd.Categorical(SIE_errors_trim['region'],regions_sel)\n",
    "\n",
    "\n",
    "SIE_errors_trim['model name'] = SIE_errors_trim['model name'].replace({'metreofr':'meteofr'})\n"
   ]
  },
  {
   "cell_type": "markdown",
   "metadata": {},
   "source": [
    "For regionally based plots, index by region, model name, init date, lead days"
   ]
  },
  {
   "cell_type": "code",
   "execution_count": 6,
   "metadata": {},
   "outputs": [
    {
     "name": "stderr",
     "output_type": "stream",
     "text": [
      "/home/disk/sipn/mcmcgraw/anaconda3/envs/sea_ice_variability_S2S/lib/python3.7/site-packages/ipykernel_launcher.py:1: SettingWithCopyWarning: \n",
      "A value is trying to be set on a copy of a slice from a DataFrame.\n",
      "Try using .loc[row_indexer,col_indexer] = value instead\n",
      "\n",
      "See the caveats in the documentation: https://pandas.pydata.org/pandas-docs/stable/user_guide/indexing.html#returning-a-view-versus-a-copy\n",
      "  \"\"\"Entry point for launching an IPython kernel.\n",
      "/home/disk/sipn/mcmcgraw/anaconda3/envs/sea_ice_variability_S2S/lib/python3.7/site-packages/ipykernel_launcher.py:2: SettingWithCopyWarning: \n",
      "A value is trying to be set on a copy of a slice from a DataFrame.\n",
      "Try using .loc[row_indexer,col_indexer] = value instead\n",
      "\n",
      "See the caveats in the documentation: https://pandas.pydata.org/pandas-docs/stable/user_guide/indexing.html#returning-a-view-versus-a-copy\n",
      "  \n"
     ]
    },
    {
     "data": {
      "text/html": [
       "<div>\n",
       "<style scoped>\n",
       "    .dataframe tbody tr th:only-of-type {\n",
       "        vertical-align: middle;\n",
       "    }\n",
       "\n",
       "    .dataframe tbody tr th {\n",
       "        vertical-align: top;\n",
       "    }\n",
       "\n",
       "    .dataframe thead th {\n",
       "        text-align: right;\n",
       "    }\n",
       "</style>\n",
       "<table border=\"1\" class=\"dataframe\">\n",
       "  <thead>\n",
       "    <tr style=\"text-align: right;\">\n",
       "      <th></th>\n",
       "      <th>region</th>\n",
       "      <th>valid date</th>\n",
       "      <th>lead days</th>\n",
       "      <th>init date</th>\n",
       "      <th>SIE</th>\n",
       "      <th>SIE anom</th>\n",
       "      <th>model name</th>\n",
       "      <th>lead weeks</th>\n",
       "      <th>init month</th>\n",
       "      <th>valid month</th>\n",
       "    </tr>\n",
       "    <tr>\n",
       "      <th>region sort</th>\n",
       "      <th></th>\n",
       "      <th></th>\n",
       "      <th></th>\n",
       "      <th></th>\n",
       "      <th></th>\n",
       "      <th></th>\n",
       "      <th></th>\n",
       "      <th></th>\n",
       "      <th></th>\n",
       "      <th></th>\n",
       "    </tr>\n",
       "  </thead>\n",
       "  <tbody>\n",
       "    <tr>\n",
       "      <th>Barents Sea</th>\n",
       "      <td>Barents Sea</td>\n",
       "      <td>1999-01-03</td>\n",
       "      <td>0</td>\n",
       "      <td>1999-01-03</td>\n",
       "      <td>-0.092943</td>\n",
       "      <td>0.055106</td>\n",
       "      <td>ecmwf</td>\n",
       "      <td>0.0</td>\n",
       "      <td>1</td>\n",
       "      <td>1</td>\n",
       "    </tr>\n",
       "    <tr>\n",
       "      <th>Barents Sea</th>\n",
       "      <td>Barents Sea</td>\n",
       "      <td>1999-01-04</td>\n",
       "      <td>1</td>\n",
       "      <td>1999-01-03</td>\n",
       "      <td>-0.074074</td>\n",
       "      <td>0.077563</td>\n",
       "      <td>ecmwf</td>\n",
       "      <td>0.0</td>\n",
       "      <td>1</td>\n",
       "      <td>1</td>\n",
       "    </tr>\n",
       "    <tr>\n",
       "      <th>Barents Sea</th>\n",
       "      <td>Barents Sea</td>\n",
       "      <td>1999-01-05</td>\n",
       "      <td>2</td>\n",
       "      <td>1999-01-03</td>\n",
       "      <td>-0.106678</td>\n",
       "      <td>0.050193</td>\n",
       "      <td>ecmwf</td>\n",
       "      <td>0.0</td>\n",
       "      <td>1</td>\n",
       "      <td>1</td>\n",
       "    </tr>\n",
       "    <tr>\n",
       "      <th>Barents Sea</th>\n",
       "      <td>Barents Sea</td>\n",
       "      <td>1999-01-06</td>\n",
       "      <td>3</td>\n",
       "      <td>1999-01-03</td>\n",
       "      <td>-0.125206</td>\n",
       "      <td>0.036178</td>\n",
       "      <td>ecmwf</td>\n",
       "      <td>0.0</td>\n",
       "      <td>1</td>\n",
       "      <td>1</td>\n",
       "    </tr>\n",
       "    <tr>\n",
       "      <th>Barents Sea</th>\n",
       "      <td>Barents Sea</td>\n",
       "      <td>1999-01-07</td>\n",
       "      <td>0</td>\n",
       "      <td>1999-01-07</td>\n",
       "      <td>-0.103081</td>\n",
       "      <td>0.040407</td>\n",
       "      <td>ecmwf</td>\n",
       "      <td>0.0</td>\n",
       "      <td>1</td>\n",
       "      <td>1</td>\n",
       "    </tr>\n",
       "    <tr>\n",
       "      <th>...</th>\n",
       "      <td>...</td>\n",
       "      <td>...</td>\n",
       "      <td>...</td>\n",
       "      <td>...</td>\n",
       "      <td>...</td>\n",
       "      <td>...</td>\n",
       "      <td>...</td>\n",
       "      <td>...</td>\n",
       "      <td>...</td>\n",
       "      <td>...</td>\n",
       "    </tr>\n",
       "    <tr>\n",
       "      <th>panArctic</th>\n",
       "      <td>panArctic</td>\n",
       "      <td>2015-02-15</td>\n",
       "      <td>55</td>\n",
       "      <td>2014-12-22</td>\n",
       "      <td>-1.311706</td>\n",
       "      <td>0.023388</td>\n",
       "      <td>meteofr</td>\n",
       "      <td>7.0</td>\n",
       "      <td>12</td>\n",
       "      <td>2</td>\n",
       "    </tr>\n",
       "    <tr>\n",
       "      <th>panArctic</th>\n",
       "      <td>panArctic</td>\n",
       "      <td>2015-02-16</td>\n",
       "      <td>56</td>\n",
       "      <td>2014-12-22</td>\n",
       "      <td>-1.168223</td>\n",
       "      <td>0.156649</td>\n",
       "      <td>meteofr</td>\n",
       "      <td>8.0</td>\n",
       "      <td>12</td>\n",
       "      <td>2</td>\n",
       "    </tr>\n",
       "    <tr>\n",
       "      <th>panArctic</th>\n",
       "      <td>panArctic</td>\n",
       "      <td>2015-02-17</td>\n",
       "      <td>57</td>\n",
       "      <td>2014-12-22</td>\n",
       "      <td>-1.140751</td>\n",
       "      <td>0.177740</td>\n",
       "      <td>meteofr</td>\n",
       "      <td>8.0</td>\n",
       "      <td>12</td>\n",
       "      <td>2</td>\n",
       "    </tr>\n",
       "    <tr>\n",
       "      <th>panArctic</th>\n",
       "      <td>panArctic</td>\n",
       "      <td>2015-02-18</td>\n",
       "      <td>58</td>\n",
       "      <td>2014-12-22</td>\n",
       "      <td>-1.139216</td>\n",
       "      <td>0.186333</td>\n",
       "      <td>meteofr</td>\n",
       "      <td>8.0</td>\n",
       "      <td>12</td>\n",
       "      <td>2</td>\n",
       "    </tr>\n",
       "    <tr>\n",
       "      <th>panArctic</th>\n",
       "      <td>panArctic</td>\n",
       "      <td>2015-02-19</td>\n",
       "      <td>59</td>\n",
       "      <td>2014-12-22</td>\n",
       "      <td>-1.102371</td>\n",
       "      <td>0.224608</td>\n",
       "      <td>meteofr</td>\n",
       "      <td>8.0</td>\n",
       "      <td>12</td>\n",
       "      <td>2</td>\n",
       "    </tr>\n",
       "  </tbody>\n",
       "</table>\n",
       "<p>2142264 rows × 10 columns</p>\n",
       "</div>"
      ],
      "text/plain": [
       "                  region  valid date  lead days   init date       SIE  \\\n",
       "region sort                                                             \n",
       "Barents Sea  Barents Sea  1999-01-03          0  1999-01-03 -0.092943   \n",
       "Barents Sea  Barents Sea  1999-01-04          1  1999-01-03 -0.074074   \n",
       "Barents Sea  Barents Sea  1999-01-05          2  1999-01-03 -0.106678   \n",
       "Barents Sea  Barents Sea  1999-01-06          3  1999-01-03 -0.125206   \n",
       "Barents Sea  Barents Sea  1999-01-07          0  1999-01-07 -0.103081   \n",
       "...                  ...         ...        ...         ...       ...   \n",
       "panArctic      panArctic  2015-02-15         55  2014-12-22 -1.311706   \n",
       "panArctic      panArctic  2015-02-16         56  2014-12-22 -1.168223   \n",
       "panArctic      panArctic  2015-02-17         57  2014-12-22 -1.140751   \n",
       "panArctic      panArctic  2015-02-18         58  2014-12-22 -1.139216   \n",
       "panArctic      panArctic  2015-02-19         59  2014-12-22 -1.102371   \n",
       "\n",
       "             SIE anom model name  lead weeks  init month  valid month  \n",
       "region sort                                                            \n",
       "Barents Sea  0.055106      ecmwf         0.0           1            1  \n",
       "Barents Sea  0.077563      ecmwf         0.0           1            1  \n",
       "Barents Sea  0.050193      ecmwf         0.0           1            1  \n",
       "Barents Sea  0.036178      ecmwf         0.0           1            1  \n",
       "Barents Sea  0.040407      ecmwf         0.0           1            1  \n",
       "...               ...        ...         ...         ...          ...  \n",
       "panArctic    0.023388    meteofr         7.0          12            2  \n",
       "panArctic    0.156649    meteofr         8.0          12            2  \n",
       "panArctic    0.177740    meteofr         8.0          12            2  \n",
       "panArctic    0.186333    meteofr         8.0          12            2  \n",
       "panArctic    0.224608    meteofr         8.0          12            2  \n",
       "\n",
       "[2142264 rows x 10 columns]"
      ]
     },
     "execution_count": 6,
     "metadata": {},
     "output_type": "execute_result"
    }
   ],
   "source": [
    "SIE_errors_trim['init month'] = pd.to_datetime(SIE_errors_trim['init date']).dt.month\n",
    "SIE_errors_trim['valid month'] = pd.to_datetime(SIE_errors_trim['valid date']).dt.month\n",
    "SIE_errors_regions_weeks = SIE_errors_trim.where(SIE_errors_trim['lead weeks']<max_lead_week).dropna(how='all')\n",
    "SIE_errors_regions_weeks = SIE_errors_trim.set_index(['region sort'])\n",
    "SIE_errors_regions_weeks"
   ]
  },
  {
   "cell_type": "markdown",
   "metadata": {},
   "source": [
    "Set up plot parameters"
   ]
  },
  {
   "cell_type": "code",
   "execution_count": 7,
   "metadata": {},
   "outputs": [],
   "source": [
    "save_type = 'pdf'\n",
    "ANOM = False\n",
    "if ANOM == True:\n",
    "    save_str = 'SIE_anom'\n",
    "    title_str = 'Anomalous Sea Ice Extent'\n",
    "    [vmin,vmax] = [-0.05,0.05]\n",
    "else:\n",
    "    save_str = 'SIE'\n",
    "    title_str = 'Sea Ice Extent'\n",
    "    [vmin_0,vmax_0] = [-0.25,0]\n",
    "no_models = len(model_names_all)\n",
    "no_rows = np.int(len(model_names_all)/2)"
   ]
  },
  {
   "cell_type": "markdown",
   "metadata": {},
   "source": [
    "Plot"
   ]
  },
  {
   "cell_type": "code",
   "execution_count": 8,
   "metadata": {
    "scrolled": false
   },
   "outputs": [
    {
     "data": {
      "text/plain": [
       "Text(0.5, 0.98, 'Bias in Sea Ice Extent, Lead Weeks 1-4')"
      ]
     },
     "execution_count": 8,
     "metadata": {},
     "output_type": "execute_result"
    },
    {
     "data": {
      "image/png": "[encoded data removed]",
      "text/plain": [
       "<Figure size 864x720 with 12 Axes>"
      ]
     },
     "metadata": {
      "needs_background": "light"
     },
     "output_type": "display_data"
    }
   ],
   "source": [
    "no_rows = 3\n",
    "no_cols = 2\n",
    "mon_labels = ['J','F','M','A','M','J','J','A','S','O','N','D']\n",
    "fig1,ax = plt.subplots(no_rows,no_cols,figsize=(12,10))#,sharex=True,sharey=True)\n",
    "for imod in np.arange(0,len(regions_sel)):\n",
    "    region_sel = regions_sel[imod]\n",
    "    plt_test = SIE_errors_regions_weeks.loc[region_sel]\n",
    "    piv_plt = pd.pivot_table(data=plt_test,index='model name',columns='valid month',values='SIE',aggfunc=np.mean)\n",
    "    #\n",
    "    ax_sel = ax.flat[imod]\n",
    "    #cbar_ax = fig.add_axes([.965,.3,.03,.4])\n",
    "    if region_sel == 'panArctic':\n",
    "        [vmin,vmax] = [-1.5,0.5]\n",
    "    else:\n",
    "        [vmin,vmax] = [-0.5,0.5]\n",
    "    sns.heatmap(piv_plt,cmap = 'PuOr',ax=ax_sel,linewidth=0.2,linecolor='xkcd:slate grey',\n",
    "                vmin=vmin,vmax=vmax,center=0)\n",
    "    ax_sel.set_yticklabels(model_names_plt,rotation=0,fontsize=14)\n",
    "    ax_sel.set_xticklabels(mon_labels,fontsize=14)\n",
    "    ax_sel.set_ylabel(None)\n",
    "    ax_sel.set_xlabel(None)\n",
    "    ax_sel.set_title('{region}'.format(region=region_sel),fontsize=15)\n",
    "    ax_sel.collections[0].colorbar.set_label('10$^6$ km$^2$',rotation=0,fontsize=13,y=-0.04,labelpad=-20)\n",
    "    \n",
    "#\n",
    "fig1.subplots_adjust(left=0.125, bottom=0.1, right=0.9, top=0.9, wspace=0.3, hspace=0.4)\n",
    "fig1.suptitle('Bias in Sea Ice Extent, Lead Weeks 1-{max_lead}'.format(max_lead=max_lead_week),fontsize=18)"
   ]
  },
  {
   "cell_type": "code",
   "execution_count": 9,
   "metadata": {},
   "outputs": [],
   "source": [
    "fdir = '/home/disk/sipn/mcmcgraw/McGraw_etal_2020/code/make_it_nice/figures/bias_S2S_minus_obs/'\n",
    "if not os.path.exists(fdir):\n",
    "    os.makedirs(fdir) \n",
    "fname_save = fdir+'SIE_bias_common_reforecast_max_lead_{max_lead}weeks.png'.format(max_lead=max_lead_week)\n",
    "fig1.savefig(fname_save,format='png',dpi=500,bbox_inches='tight')"
   ]
  },
  {
   "cell_type": "code",
   "execution_count": 10,
   "metadata": {},
   "outputs": [],
   "source": [
    "#\n",
    "fdir_final = '/home/disk/sipn/mcmcgraw/McGraw_etal_2020/code/make_it_nice/figures/Paper_Figures/'\n",
    "fname_final = fdir_final+'bias_mean_SIE_max_lead_{max_lead}weeks.pdf'.format(max_lead=max_lead_week)\n",
    "\n",
    "if max_lead_week == 4:\n",
    "    fig1.savefig(fname_final,format='pdf',dpi=500,bbox_inches='tight')"
   ]
  },
  {
   "cell_type": "markdown",
   "metadata": {},
   "source": [
    "Same but for anomalous SIE"
   ]
  },
  {
   "cell_type": "code",
   "execution_count": 11,
   "metadata": {
    "scrolled": false
   },
   "outputs": [
    {
     "data": {
      "text/plain": [
       "Text(0.5, 0.98, 'Bias in Anomalous Sea Ice Extent, Lead Weeks 1-4')"
      ]
     },
     "execution_count": 11,
     "metadata": {},
     "output_type": "execute_result"
    },
    {
     "data": {
      "image/png": "[encoded data removed]",
      "text/plain": [
       "<Figure size 864x720 with 12 Axes>"
      ]
     },
     "metadata": {
      "needs_background": "light"
     },
     "output_type": "display_data"
    }
   ],
   "source": [
    "no_rows = 3\n",
    "no_cols = 2\n",
    "mon_labels = ['J','F','M','A','M','J','J','A','S','O','N','D']\n",
    "fig2,ax2 = plt.subplots(no_rows,no_cols,figsize=(12,10))#,sharex=True,sharey=True)\n",
    "for imod in np.arange(0,len(regions_sel)):\n",
    "    region_sel = regions_sel[imod]\n",
    "    plt_test = SIE_errors_regions_weeks.loc[region_sel]\n",
    "    piv_plt = pd.pivot_table(data=plt_test,index='model name',columns='valid month',values='SIE anom',aggfunc=np.mean)\n",
    "    #\n",
    "    ax_sel = ax2.flat[imod]\n",
    "    #cbar_ax = fig.add_axes([.965,.3,.03,.4])\n",
    "    if region_sel == 'panArctic':\n",
    "        [vmin,vmax] = [-0.5,0.5]\n",
    "    else:\n",
    "        [vmin,vmax] = [-0.15,0.15]\n",
    "    sns.heatmap(piv_plt,cmap = 'PuOr',ax=ax_sel,linewidth=0.2,linecolor='xkcd:slate grey',\n",
    "                vmin=vmin,vmax=vmax,center=0)\n",
    "    ax_sel.set_yticklabels(model_names_plt,rotation=0,fontsize=14)\n",
    "    ax_sel.set_xticklabels(mon_labels,fontsize=14)\n",
    "    ax_sel.set_ylabel(None)\n",
    "    ax_sel.set_xlabel(None)\n",
    "    ax_sel.set_title('{region}'.format(region=region_sel),fontsize=15)\n",
    "    ax_sel.collections[0].colorbar.set_label('10$^6$ km$^2$',rotation=0,fontsize=13,y=-0.04,labelpad=-20)\n",
    "    \n",
    "#\n",
    "fig2.subplots_adjust(left=0.125, bottom=0.1, right=0.9, top=0.9, wspace=0.3, hspace=0.4)\n",
    "fig2.suptitle('Bias in Anomalous Sea Ice Extent, Lead Weeks 1-{max_lead}'.format(max_lead=max_lead_week),fontsize=18)"
   ]
  },
  {
   "cell_type": "code",
   "execution_count": 12,
   "metadata": {},
   "outputs": [],
   "source": [
    "fname2_save = fdir+'SIE_anom_bias_common_reforecast_max_lead_{max_lead}weeks.png'.format(max_lead=max_lead_week)\n",
    "fig2.savefig(fname2_save,format='png',dpi=500,bbox_inches='tight')"
   ]
  },
  {
   "cell_type": "code",
   "execution_count": 13,
   "metadata": {},
   "outputs": [],
   "source": [
    "fname2_final = fdir_final+'bias_mean_SIE_anom_max_lead_{max_lead}weeks.pdf'.format(max_lead=max_lead_week)\n",
    "if max_lead_week == 4:\n",
    "    fig2.savefig(fname2_final,format='pdf',dpi=500,bbox_inches='tight')"
   ]
  },
  {
   "cell_type": "code",
   "execution_count": null,
   "metadata": {},
   "outputs": [],
   "source": []
  }
 ],
 "metadata": {
  "kernelspec": {
   "display_name": "sea_ice_variability_S2S",
   "language": "python",
   "name": "sea_ice_variability_s2s"
  },
  "language_info": {
   "codemirror_mode": {
    "name": "ipython",
    "version": 3
   },
   "file_extension": ".py",
   "mimetype": "text/x-python",
   "name": "python",
   "nbconvert_exporter": "python",
   "pygments_lexer": "ipython3",
   "version": "3.7.3"
  }
 },
 "nbformat": 4,
 "nbformat_minor": 2
}
