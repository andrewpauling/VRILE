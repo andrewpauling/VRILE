{
 "cells": [
  {
   "cell_type": "markdown",
   "metadata": {},
   "source": [
    "<code>calculate_RMSE_MAE_S2S_models_all_days.ipynb</code>.  This notebook just quickly calculates the RMSE, MAE, and raw error for each S2S model's actual SIE forecasts and anomalous SIE forecasts.  See <code>Calculate_RMSE_MAE_S2S_model_all_seas_COMMON_PERIOD.ipynb</code> for a nicer example. "
   ]
  },
  {
   "cell_type": "markdown",
   "metadata": {},
   "source": [
    "<b>inputs:</b><br>\n",
    "<li>  model name (ecmwf,ukmo,ncep,metreofr) </li>\n",
    "<li>  seas_str [string for season; ALL if we want to do full year]</li>\n",
    "<li>  seas_sel [months of season; empty if we want to do full year] </li>\n",
    "<li>  vrile_thresh [threshhold at which VRILE is estimated </li>\n",
    "<li>  thresh_str [string for VRILE threshhold] </li>\n"
   ]
  },
  {
   "cell_type": "code",
   "execution_count": 1,
   "metadata": {},
   "outputs": [],
   "source": [
    "import xarray as xr\n",
    "import numpy as np\n",
    "import pandas as pd\n",
    "import os"
   ]
  },
  {
   "cell_type": "markdown",
   "metadata": {},
   "source": [
    "## Functions"
   ]
  },
  {
   "cell_type": "markdown",
   "metadata": {},
   "source": [
    "<li>1) Load model netCDF files, combine with CTRL, and use common reforecast period. <br>\n",
    "if NCEP, use entire period </li>\n",
    "<li> 2) Add aggregate regions </li>\n",
    "<li> 3) Create climatology--model: calculate date of year for valid date, lead time in weeks.<br>\n",
    "    Group by region, lead time, and valid date of year <br>\n",
    "    Average climatology based on day of year and lead time in weeks--use <code>transform</code> to create <code>SIE_clim</code>.<br> \n",
    "    Subtract <code>SIE_clim</code> from <code>SIE</code><br> </li>\n",
    "<li> 4) Create observed climatology </li>\n",
    "<li> 5) Calculate errors: as a function of region, valid date, and lead time. Want to output: <br>\n",
    "    Raw error (for bias) <br>\n",
    "    Mean absolute error <br>\n",
    "    RMSE <br>\n",
    "    For both SIE and anomalous SIE </li>"
   ]
  },
  {
   "cell_type": "markdown",
   "metadata": {},
   "source": [
    "Load the netCDF files for our specific model from <code>/home/disk/sipn/nicway</code>.  We want the control runs too.  Then, select only the common reforecast period (1999-01-01 to 2014-12-31), and add the control run to the rest of the output. <br>\n",
    "NOTE: for NCEP, since the reforecast period is short (ends in 2011), we will just use the entire period. "
   ]
  },
  {
   "cell_type": "code",
   "execution_count": 2,
   "metadata": {},
   "outputs": [],
   "source": [
    "def load_model(model_name):\n",
    "    # Paths for perturb and control runs\n",
    "    filepath = '/home/disk/sipn/nicway/data/model/{model_name}/reforecast/sipn_nc_agg/'.format(model_name=model_name)\n",
    "    filepath_ctrl = '/home/disk/sipn/nicway/data/model/{model_name}/reforecast.control/sipn_nc_agg/'.format(model_name=model_name)\n",
    "    # Open both with xarray\n",
    "    filenames = xr.open_mfdataset(filepath+'/*.nc',combine='by_coords')\n",
    "    filenames_ctrl = xr.open_mfdataset(filepath_ctrl+'/*.nc',combine='by_coords')\n",
    "    print(filenames)\n",
    "    # load SIE\n",
    "    SIE = filenames.Extent\n",
    "    SIE_ctrl = filenames_ctrl.Extent\n",
    "    # Add coordinate to ensemble dimension for SIE_ctrl so we can combine with SIE\n",
    "    SIE_ctrl.coords['ensemble'] = xr.DataArray([len(SIE.ensemble)],\n",
    "                                               dims='ensemble', coords={'ensemble':[len(SIE.ensemble)]})\n",
    "    # Use common reforecast period for all models EXCEPT NCEP\n",
    "    if model_name != 'ncep':\n",
    "        common_start = '1999-01-01'\n",
    "        common_end = '2014-12-31'\n",
    "        # Select only common reforecast period (full period for NCEP)\n",
    "        SIE = SIE.sel(init_time=slice(common_start,common_end))\n",
    "        SIE_ctrl = SIE_ctrl.sel(init_time=slice(common_start,common_end))\n",
    "        # Remove repeated indices in CTRL\n",
    "        _,init_ind_c = np.unique(SIE_ctrl['init_time'],return_index=True)\n",
    "        SIE_ctrl = SIE_ctrl.isel(init_time=init_ind_c)\n",
    "    elif model_name == 'ncep':\n",
    "        #\n",
    "        _,init_ind = np.unique(SIE['init_time'],return_index=True)\n",
    "        SIE = SIE.isel(init_time=init_ind)\n",
    "        _,init_ind_c = np.unique(SIE_ctrl['init_time'],return_index=True)\n",
    "        SIE_ctrl = SIE_ctrl.isel(init_time=init_ind_c)\n",
    "        \n",
    "    \n",
    "    # Concatenate the two\n",
    "    SIE = xr.concat([SIE,SIE_ctrl],dim='ensemble')\n",
    "    \n",
    "    return SIE"
   ]
  },
  {
   "cell_type": "markdown",
   "metadata": {},
   "source": [
    "We want to create a few aggregate regions from the NSIDC MASIE regions (more at: https://nsidc.org/data/masie/browse_regions) since some regions are so small. We're going to combine the following: <br>\n",
    "<li> Kara and Laptev Seas (<code>region_KL</code>)</li>\n",
    "<li> Barents, Kara and Laptev Seas (<code>region_BKL</code>)</li>\n",
    "<li> East Siberian, Beaufort, and Chukchi Seas (<code>region_EBC</code>)</li>\n",
    "<li> Atlantic (Baffin Bay and East Greenland Sea) (<code>region_ATL</code>)</li>\n",
    "<li> East Siberian, Beaufort, Chukchi, Laptev Seas (<code>region_EBCL</code>)</li>\n"
   ]
  },
  {
   "cell_type": "code",
   "execution_count": 3,
   "metadata": {},
   "outputs": [],
   "source": [
    "def create_aggregate_regions(SIE_data):\n",
    "    nregions = SIE_data['nregions']\n",
    "    region_names = SIE_data['region_names']\n",
    "    # Get corresponding indices for each of our aggregate regions\n",
    "    region_KL = nregions[region_names.isin(['Kara Sea','Laptev Sea'])]\n",
    "    region_BKL = nregions[region_names.isin(['Barents Sea','Kara Sea','Laptev Sea'])]\n",
    "    region_EBC = nregions[region_names.isin(['East Siberian Sea','Beaufort Sea','Chukchi Sea'])]\n",
    "    region_ATL = nregions[region_names.isin(['Baffin Bay','East Greenland Sea'])]\n",
    "    region_EBCL = nregions[region_names.isin(['East Siberian Sea','Beaufort Sea','Chukchi Sea','Laptev Sea'])]\n",
    "    # Select each aggregate region, add them together, and add the 'nregions' dimension back; concatenate all aggregates \n",
    "    SIE_agg = xr.concat([SIE_data.sel(nregions=region_KL).sum(dim='nregions').expand_dims(dim='nregions'),\n",
    "                  SIE_data.sel(nregions=region_BKL).sum(dim='nregions').expand_dims(dim='nregions'),\n",
    "                  SIE_data.sel(nregions=region_EBC).sum(dim='nregions').expand_dims(dim='nregions'),\n",
    "                  SIE_data.sel(nregions=region_ATL).sum(dim='nregions').expand_dims(dim='nregions'),\n",
    "                  SIE_data.sel(nregions=region_EBCL).sum(dim='nregions').expand_dims(dim='nregions')],dim='nregions')\n",
    "    # Add coordinates to nregions.  Start at 20 to make a clear separation from original NSIDC regions\n",
    "    SIE_agg = SIE_agg.assign_coords(nregions=[20,21,22,23,24])\n",
    "    # Add region names\n",
    "    region_names_extra = ['Kara-Laptev Sea','Barents-Kara-Laptev Sea','East Siberian-Beaufort-Chukchi Sea',\n",
    "                      'Atlantic','East Siberian-Beaufort-Chukchi-Laptev Sea']\n",
    "    SIE_agg[\"region_names\"] = (\"nregions\",region_names_extra)\n",
    "    #SIE\n",
    "    SIE_data = xr.concat([SIE_data,SIE_agg],dim='nregions')\n",
    "    return(SIE_data)"
   ]
  },
  {
   "cell_type": "markdown",
   "metadata": {},
   "source": [
    "Create climatology for model output based on region, day of year, and lead time.  Get month-day for valid dates (don't use dayofyear because of leap days).  Since our forecasts are not initialized every day, we will do two versions--one where we keep each lead time separate, and one where we group our lead time climatology based on week instead of day (which is more supported in the literature). "
   ]
  },
  {
   "cell_type": "code",
   "execution_count": 4,
   "metadata": {},
   "outputs": [],
   "source": [
    "def create_model_climatology(SIE,week_length):\n",
    "    # Add valid date in %m-%d format\n",
    "    SIE['valid date of yr'] = pd.to_datetime(SIE['valid date']).dt.strftime('%m-%d')\n",
    "    # Determine lead time as a function of weeks instead of days\n",
    "    SIE_df_weekly = SIE.copy()\n",
    "    SIE_df_weekly['lead time (weeks)'] = SIE_df['lead time (days)'].values.astype('timedelta64[D]')/pd.Timedelta(week_length,'D')\n",
    "    SIE_df_weekly['lead time (weeks)'] = SIE_df_weekly['lead time (weeks)'].apply(np.floor)\n",
    "    # Group by region, lead time, and valid day of year. Use .transform('mean') so that our climatology has the \n",
    "    # same shape as the original input dataframe (so we can just subtract SIE_clim from SIE easily at the end)\n",
    "    SIE['SIE clim'] = SIE.groupby(['region','lead time (days)','valid date of yr'])['SIE'].transform('mean')\n",
    "    SIE_df_weekly['SIE clim'] = SIE_df_weekly.groupby(['region','lead time (weeks)','valid date of yr'])['SIE'].transform('mean')\n",
    "\n",
    "    SIE['SIE anom'] = SIE['SIE'] - SIE['SIE clim']\n",
    "    SIE_df_weekly['SIE anom'] = SIE_df_weekly['SIE'] - SIE_df_weekly['SIE clim']\n",
    "    return(SIE,SIE_df_weekly)"
   ]
  },
  {
   "cell_type": "markdown",
   "metadata": {},
   "source": [
    "Create climatology for the observations.  This is easier, we just need to get the day of year (month-day) for each observation, take the mean, and then subtract the annual cycle from our full dataset. "
   ]
  },
  {
   "cell_type": "code",
   "execution_count": 5,
   "metadata": {},
   "outputs": [],
   "source": [
    "def create_obs_climatology(SIE):\n",
    "    # Add valid date in %m-%d format\n",
    "    SIE['valid day of year'] = pd.to_datetime(SIE['valid date']).dt.strftime('%m-%d')\n",
    "    # Group by region and day of year and take the mean. Use transform to make the output match the dataframe instead\n",
    "    # of creating a multi-index\n",
    "    SIE['SIE clim'] = SIE.groupby(['region','valid day of year'])['SIE'].transform('mean')\n",
    "    # And simply subtract SIE_clim from actual SIE\n",
    "    SIE['SIE anom'] = SIE['SIE'] - SIE['SIE clim']\n",
    "    return SIE"
   ]
  },
  {
   "cell_type": "markdown",
   "metadata": {},
   "source": [
    "Calculate raw error, mean absolute error, and RMSE.  These calculations will be a function of region and lead time.  See nice notebook for equations for RMSE and MAE"
   ]
  },
  {
   "cell_type": "code",
   "execution_count": 6,
   "metadata": {},
   "outputs": [],
   "source": [
    "def calculate_errors(model_SIE,obs_SIE):\n",
    "    model_SIE['lead days'] = model_SIE['lead time (days)'].dt.days\n",
    "    # Group by region, valid date, and lead time (for model)\n",
    "    SIE_obsx = obs_SIE.groupby(['region','valid date'])['SIE','SIE clim','SIE anom'].mean()\n",
    "    # First calculate raw model error (we'll also group by init time so we can save that for calculating other stuff)\n",
    "    SIE_model_raw = model_SIE.groupby(['region','valid date','lead days','init date'])['SIE','SIE clim','SIE anom'].mean()\n",
    "    SIE_raw_error = SIE_model_raw[['SIE','SIE anom']] - SIE_obsx[['SIE','SIE anom']]\n",
    "    SIE_raw_error = SIE_raw_error.dropna(how='all')\n",
    "    # Now, we'll do MAE and RMSE (we don't care about the date of initialization)\n",
    "    SIE_modelx = model_SIE.groupby(['region','valid date','lead days'])['SIE','SIE clim','SIE anom'].mean()\n",
    "    SIE_diff = SIE_modelx[['SIE','SIE anom']] - SIE_obsx[['SIE','SIE anom']]\n",
    "    # Square errors to get RMSE. get absolute value of errors for MAE\n",
    "    SIE_diff = SIE_diff.dropna(how='all')\n",
    "    SIE_diff = SIE_diff.rename(columns={'SIE':'SIE raw error','SIE anom':'SIE anom raw error'})\n",
    "    SIE_diff[['SIE sq error','SIE anom sq error']] = SIE_diff**2\n",
    "    # Now, average over all valid dates and take the square root. \n",
    "    SIE_errors = SIE_diff[['SIE sq error','SIE anom sq error']].mean(level=(0,2))**0.5\n",
    "    # Absolute value, then average over all valid dates to get the MAE\n",
    "    SIE_errors[['SIE MAE','SIE anom MAE']] = SIE_diff[['SIE raw error','SIE anom raw error']].abs().mean(level=(0,2))\n",
    "    SIE_errors = SIE_errors.rename(columns={'SIE sq error':'SIE RMSE','SIE anom sq error':'SIE anom RMSE'})\n",
    "    return(SIE_raw_error,SIE_errors)\n",
    "    "
   ]
  },
  {
   "cell_type": "code",
   "execution_count": 7,
   "metadata": {},
   "outputs": [],
   "source": [
    "model_name = 'ecmwf'\n",
    "seas_str = 'ALL'\n",
    "seas_sel = [1,2,3,4,5,6,7,8,9,10,11,12]\n",
    "obs_name = 'NSIDC_0079'\n",
    "WEEKLY = False"
   ]
  },
  {
   "cell_type": "markdown",
   "metadata": {},
   "source": [
    "Load model output for our desired model"
   ]
  },
  {
   "cell_type": "code",
   "execution_count": 8,
   "metadata": {
    "scrolled": true
   },
   "outputs": [
    {
     "name": "stdout",
     "output_type": "stream",
     "text": [
      "<xarray.Dataset>\n",
      "Dimensions:       (ensemble: 10, fore_time: 46, init_time: 2080, nregions: 15)\n",
      "Coordinates:\n",
      "    region_names  (nregions) object dask.array<chunksize=(15,), meta=np.ndarray>\n",
      "  * nregions      (nregions) int64 99 2 3 4 5 6 7 8 9 10 11 12 13 14 15\n",
      "  * ensemble      (ensemble) int32 0 1 2 3 4 5 6 7 8 9\n",
      "  * fore_time     (fore_time) timedelta64[ns] 0 days 1 days ... 44 days 45 days\n",
      "  * init_time     (init_time) datetime64[ns] 1998-08-06 ... 2018-08-01\n",
      "Data variables:\n",
      "    Extent        (ensemble, init_time, fore_time, nregions) float64 dask.array<chunksize=(10, 1, 46, 15), meta=np.ndarray>\n",
      "loaded  ecmwf\n"
     ]
    }
   ],
   "source": [
    "SIE = load_model(model_name)\n",
    "print('loaded ',model_name)"
   ]
  },
  {
   "cell_type": "markdown",
   "metadata": {},
   "source": [
    "Create aggregate regions that combine some of the NSIDC-MASIE regions"
   ]
  },
  {
   "cell_type": "code",
   "execution_count": 9,
   "metadata": {},
   "outputs": [
    {
     "name": "stdout",
     "output_type": "stream",
     "text": [
      "combined regions\n"
     ]
    }
   ],
   "source": [
    "SIE = create_aggregate_regions(SIE)\n",
    "print('combined regions')"
   ]
  },
  {
   "cell_type": "code",
   "execution_count": 10,
   "metadata": {},
   "outputs": [
    {
     "data": {
      "text/html": [
       "<pre>&lt;xarray.DataArray &#x27;Extent&#x27; (ensemble: 11, init_time: 1664, fore_time: 46, nregions: 20)&gt;\n",
       "dask.array&lt;concatenate, shape=(11, 1664, 46, 20), dtype=float64, chunksize=(10, 1, 46, 15), chunktype=numpy.ndarray&gt;\n",
       "Coordinates:\n",
       "  * init_time     (init_time) datetime64[ns] 1999-01-03 ... 2014-12-31\n",
       "  * ensemble      (ensemble) int64 0 1 2 3 4 5 6 7 8 9 10\n",
       "  * fore_time     (fore_time) timedelta64[ns] 0 days 1 days ... 44 days 45 days\n",
       "    region_names  (nregions) object &#x27;panArctic&#x27; ... &#x27;East Siberian-Beaufort-Chukchi-Laptev Sea&#x27;\n",
       "  * nregions      (nregions) int64 99 2 3 4 5 6 7 8 ... 13 14 15 20 21 22 23 24</pre>"
      ],
      "text/plain": [
       "<xarray.DataArray 'Extent' (ensemble: 11, init_time: 1664, fore_time: 46, nregions: 20)>\n",
       "dask.array<concatenate, shape=(11, 1664, 46, 20), dtype=float64, chunksize=(10, 1, 46, 15), chunktype=numpy.ndarray>\n",
       "Coordinates:\n",
       "  * init_time     (init_time) datetime64[ns] 1999-01-03 ... 2014-12-31\n",
       "  * ensemble      (ensemble) int64 0 1 2 3 4 5 6 7 8 9 10\n",
       "  * fore_time     (fore_time) timedelta64[ns] 0 days 1 days ... 44 days 45 days\n",
       "    region_names  (nregions) object 'panArctic' ... 'East Siberian-Beaufort-Chukchi-Laptev Sea'\n",
       "  * nregions      (nregions) int64 99 2 3 4 5 6 7 8 ... 13 14 15 20 21 22 23 24"
      ]
     },
     "execution_count": 10,
     "metadata": {},
     "output_type": "execute_result"
    }
   ],
   "source": [
    "SIE"
   ]
  },
  {
   "cell_type": "markdown",
   "metadata": {},
   "source": [
    "Now, take the ensemble mean and get lead time in days"
   ]
  },
  {
   "cell_type": "code",
   "execution_count": 11,
   "metadata": {},
   "outputs": [],
   "source": [
    "SIE_ens_mean = SIE.mean(dim='ensemble')\n",
    "regions = SIE.region_names\n",
    "lead_days = SIE.fore_time.dt.days"
   ]
  },
  {
   "cell_type": "markdown",
   "metadata": {},
   "source": [
    "Convert to dataframe because I like Pandas"
   ]
  },
  {
   "cell_type": "code",
   "execution_count": 12,
   "metadata": {},
   "outputs": [],
   "source": [
    "SIE_df = SIE_ens_mean.to_dataframe().reset_index()"
   ]
  },
  {
   "cell_type": "markdown",
   "metadata": {},
   "source": [
    "Calculate the date for forecasts by adding the <code>fore_time</code> to <code>init_time</code>. Rename some columns to make life easier"
   ]
  },
  {
   "cell_type": "code",
   "execution_count": 13,
   "metadata": {},
   "outputs": [],
   "source": [
    "SIE_df['valid date'] = SIE_df['init_time'] + SIE_df['fore_time']\n",
    "SIE_df = SIE_df.rename(columns={'region_names':'region',\n",
    "                           'fore_time':'lead time (days)',\n",
    "                           'init_time':'init date',\n",
    "                           'Extent':'SIE'})"
   ]
  },
  {
   "cell_type": "markdown",
   "metadata": {},
   "source": [
    "Create climatology for model output.  Decide how long we want weeks to be for weekly climatology (default is 7 days)"
   ]
  },
  {
   "cell_type": "code",
   "execution_count": 14,
   "metadata": {},
   "outputs": [
    {
     "name": "stdout",
     "output_type": "stream",
     "text": [
      "model climatology created\n"
     ]
    }
   ],
   "source": [
    "week_length = 7\n",
    "SIE_df,SIE_df_weekly = create_model_climatology(SIE_df,7)\n",
    "print('model climatology created')"
   ]
  },
  {
   "cell_type": "markdown",
   "metadata": {},
   "source": [
    "Load observations.  NSIDC_0079 is NASA Bootstrap, NSIDC_0081 is NASA team"
   ]
  },
  {
   "cell_type": "code",
   "execution_count": 15,
   "metadata": {},
   "outputs": [
    {
     "name": "stdout",
     "output_type": "stream",
     "text": [
      "opening  <xarray.Dataset>\n",
      "Dimensions:       (nregions: 15, time: 11322)\n",
      "Coordinates:\n",
      "    region_names  (nregions) object dask.array<chunksize=(15,), meta=np.ndarray>\n",
      "  * nregions      (nregions) int64 99 2 3 4 5 6 7 8 9 10 11 12 13 14 15\n",
      "  * time          (time) datetime64[ns] 1989-01-01 1989-01-02 ... 2019-12-31\n",
      "Data variables:\n",
      "    Extent        (time, nregions) float64 dask.array<chunksize=(365, 15), meta=np.ndarray>\n",
      "obs loaded\n"
     ]
    }
   ],
   "source": [
    "obs_type = 'sipn_nc_yearly_agg'\n",
    "filepath = '/home/disk/sipn/nicway/data/obs/{model_name}/{model_type}/'.format(model_name=obs_name,\n",
    "                                                                              model_type=obs_type)\n",
    "obs_filenames = xr.open_mfdataset(filepath+'/*.nc',combine='by_coords')\n",
    "print('opening ',obs_filenames)\n",
    "obs_SIE = obs_filenames.Extent\n",
    "obs_regions = obs_filenames.nregions\n",
    "obs_region_names = obs_filenames['region_names'].values\n",
    "# Drop region names and re-add as a non-dask.array object.  This is stupid but oh well\n",
    "obs_SIE = obs_SIE.drop('region_names')\n",
    "obs_SIE[\"region_names\"] = (\"nregions\",obs_region_names)\n",
    "print('obs loaded')"
   ]
  },
  {
   "cell_type": "markdown",
   "metadata": {},
   "source": [
    "Add aggregate regions to obs and convert obs to Pandas dataframe"
   ]
  },
  {
   "cell_type": "code",
   "execution_count": 16,
   "metadata": {},
   "outputs": [],
   "source": [
    "obs_SIE = create_aggregate_regions(obs_SIE)\n",
    "obs_SIE = obs_SIE.to_dataframe().reset_index()\n",
    "obs_SIE = obs_SIE.rename(columns={'Extent':'SIE','region_names':'region','time':'valid date'})"
   ]
  },
  {
   "cell_type": "markdown",
   "metadata": {},
   "source": [
    "Calculate our observed climatology "
   ]
  },
  {
   "cell_type": "code",
   "execution_count": 17,
   "metadata": {
    "scrolled": true
   },
   "outputs": [
    {
     "name": "stdout",
     "output_type": "stream",
     "text": [
      "observed climatology created\n"
     ]
    }
   ],
   "source": [
    "obs_SIE = create_obs_climatology(obs_SIE)\n",
    "print('observed climatology created')"
   ]
  },
  {
   "cell_type": "markdown",
   "metadata": {},
   "source": [
    "If we want to do a single season only, now we'll drop our data down to those months.  If we're doing full-year, keep everything"
   ]
  },
  {
   "cell_type": "code",
   "execution_count": 18,
   "metadata": {},
   "outputs": [
    {
     "name": "stdout",
     "output_type": "stream",
     "text": [
      "season selected\n"
     ]
    }
   ],
   "source": [
    "if seas_str != 'ALL':\n",
    "    SIE_df = SIE_df[pd.to_datetime(SIE_df['valid date']).dt.month.isin(seas_sel)]\n",
    "    obs_SIE = obs_SIE[pd.to_datetime(obs_SIE['valid date']).dt.month.isin(seas_sel)]\n",
    "print('season selected')"
   ]
  },
  {
   "cell_type": "markdown",
   "metadata": {},
   "source": [
    "Finally, calculate the raw errors, the MAE, and the RMSE."
   ]
  },
  {
   "cell_type": "code",
   "execution_count": 19,
   "metadata": {
    "scrolled": false
   },
   "outputs": [
    {
     "data": {
      "text/html": [
       "<div>\n",
       "<style scoped>\n",
       "    .dataframe tbody tr th:only-of-type {\n",
       "        vertical-align: middle;\n",
       "    }\n",
       "\n",
       "    .dataframe tbody tr th {\n",
       "        vertical-align: top;\n",
       "    }\n",
       "\n",
       "    .dataframe thead th {\n",
       "        text-align: right;\n",
       "    }\n",
       "</style>\n",
       "<table border=\"1\" class=\"dataframe\">\n",
       "  <thead>\n",
       "    <tr style=\"text-align: right;\">\n",
       "      <th></th>\n",
       "      <th>init date</th>\n",
       "      <th>lead time (days)</th>\n",
       "      <th>nregions</th>\n",
       "      <th>region</th>\n",
       "      <th>SIE</th>\n",
       "      <th>valid date</th>\n",
       "      <th>valid date of yr</th>\n",
       "      <th>SIE clim</th>\n",
       "      <th>SIE anom</th>\n",
       "    </tr>\n",
       "  </thead>\n",
       "  <tbody>\n",
       "    <tr>\n",
       "      <th>0</th>\n",
       "      <td>1999-01-03</td>\n",
       "      <td>0 days</td>\n",
       "      <td>99</td>\n",
       "      <td>panArctic</td>\n",
       "      <td>12.877095</td>\n",
       "      <td>1999-01-03</td>\n",
       "      <td>01-03</td>\n",
       "      <td>12.305199</td>\n",
       "      <td>0.571896</td>\n",
       "    </tr>\n",
       "    <tr>\n",
       "      <th>1</th>\n",
       "      <td>1999-01-03</td>\n",
       "      <td>0 days</td>\n",
       "      <td>2</td>\n",
       "      <td>Sea of Okhotsk</td>\n",
       "      <td>0.582058</td>\n",
       "      <td>1999-01-03</td>\n",
       "      <td>01-03</td>\n",
       "      <td>0.442489</td>\n",
       "      <td>0.139569</td>\n",
       "    </tr>\n",
       "    <tr>\n",
       "      <th>2</th>\n",
       "      <td>1999-01-03</td>\n",
       "      <td>0 days</td>\n",
       "      <td>3</td>\n",
       "      <td>Bering</td>\n",
       "      <td>0.460486</td>\n",
       "      <td>1999-01-03</td>\n",
       "      <td>01-03</td>\n",
       "      <td>0.477781</td>\n",
       "      <td>-0.017295</td>\n",
       "    </tr>\n",
       "    <tr>\n",
       "      <th>3</th>\n",
       "      <td>1999-01-03</td>\n",
       "      <td>0 days</td>\n",
       "      <td>4</td>\n",
       "      <td>Hudson Bay</td>\n",
       "      <td>1.081344</td>\n",
       "      <td>1999-01-03</td>\n",
       "      <td>01-03</td>\n",
       "      <td>1.075383</td>\n",
       "      <td>0.005961</td>\n",
       "    </tr>\n",
       "    <tr>\n",
       "      <th>4</th>\n",
       "      <td>1999-01-03</td>\n",
       "      <td>0 days</td>\n",
       "      <td>5</td>\n",
       "      <td>St John</td>\n",
       "      <td>0.059987</td>\n",
       "      <td>1999-01-03</td>\n",
       "      <td>01-03</td>\n",
       "      <td>0.024223</td>\n",
       "      <td>0.035764</td>\n",
       "    </tr>\n",
       "    <tr>\n",
       "      <th>...</th>\n",
       "      <td>...</td>\n",
       "      <td>...</td>\n",
       "      <td>...</td>\n",
       "      <td>...</td>\n",
       "      <td>...</td>\n",
       "      <td>...</td>\n",
       "      <td>...</td>\n",
       "      <td>...</td>\n",
       "      <td>...</td>\n",
       "    </tr>\n",
       "    <tr>\n",
       "      <th>1530875</th>\n",
       "      <td>2014-12-31</td>\n",
       "      <td>45 days</td>\n",
       "      <td>20</td>\n",
       "      <td>Kara-Laptev Sea</td>\n",
       "      <td>1.662060</td>\n",
       "      <td>2015-02-14</td>\n",
       "      <td>02-14</td>\n",
       "      <td>1.654915</td>\n",
       "      <td>0.007145</td>\n",
       "    </tr>\n",
       "    <tr>\n",
       "      <th>1530876</th>\n",
       "      <td>2014-12-31</td>\n",
       "      <td>45 days</td>\n",
       "      <td>21</td>\n",
       "      <td>Barents-Kara-Laptev Sea</td>\n",
       "      <td>2.346988</td>\n",
       "      <td>2015-02-14</td>\n",
       "      <td>02-14</td>\n",
       "      <td>2.273067</td>\n",
       "      <td>0.073922</td>\n",
       "    </tr>\n",
       "    <tr>\n",
       "      <th>1530877</th>\n",
       "      <td>2014-12-31</td>\n",
       "      <td>45 days</td>\n",
       "      <td>22</td>\n",
       "      <td>East Siberian-Beaufort-Chukchi Sea</td>\n",
       "      <td>2.974176</td>\n",
       "      <td>2015-02-14</td>\n",
       "      <td>02-14</td>\n",
       "      <td>2.974391</td>\n",
       "      <td>-0.000216</td>\n",
       "    </tr>\n",
       "    <tr>\n",
       "      <th>1530878</th>\n",
       "      <td>2014-12-31</td>\n",
       "      <td>45 days</td>\n",
       "      <td>23</td>\n",
       "      <td>Atlantic</td>\n",
       "      <td>2.011355</td>\n",
       "      <td>2015-02-14</td>\n",
       "      <td>02-14</td>\n",
       "      <td>1.936100</td>\n",
       "      <td>0.075255</td>\n",
       "    </tr>\n",
       "    <tr>\n",
       "      <th>1530879</th>\n",
       "      <td>2014-12-31</td>\n",
       "      <td>45 days</td>\n",
       "      <td>24</td>\n",
       "      <td>East Siberian-Beaufort-Chukchi-Laptev Sea</td>\n",
       "      <td>3.786549</td>\n",
       "      <td>2015-02-14</td>\n",
       "      <td>02-14</td>\n",
       "      <td>3.786765</td>\n",
       "      <td>-0.000216</td>\n",
       "    </tr>\n",
       "  </tbody>\n",
       "</table>\n",
       "<p>1530880 rows × 9 columns</p>\n",
       "</div>"
      ],
      "text/plain": [
       "         init date lead time (days)  nregions  \\\n",
       "0       1999-01-03           0 days        99   \n",
       "1       1999-01-03           0 days         2   \n",
       "2       1999-01-03           0 days         3   \n",
       "3       1999-01-03           0 days         4   \n",
       "4       1999-01-03           0 days         5   \n",
       "...            ...              ...       ...   \n",
       "1530875 2014-12-31          45 days        20   \n",
       "1530876 2014-12-31          45 days        21   \n",
       "1530877 2014-12-31          45 days        22   \n",
       "1530878 2014-12-31          45 days        23   \n",
       "1530879 2014-12-31          45 days        24   \n",
       "\n",
       "                                            region        SIE valid date  \\\n",
       "0                                        panArctic  12.877095 1999-01-03   \n",
       "1                                   Sea of Okhotsk   0.582058 1999-01-03   \n",
       "2                                           Bering   0.460486 1999-01-03   \n",
       "3                                       Hudson Bay   1.081344 1999-01-03   \n",
       "4                                          St John   0.059987 1999-01-03   \n",
       "...                                            ...        ...        ...   \n",
       "1530875                            Kara-Laptev Sea   1.662060 2015-02-14   \n",
       "1530876                    Barents-Kara-Laptev Sea   2.346988 2015-02-14   \n",
       "1530877         East Siberian-Beaufort-Chukchi Sea   2.974176 2015-02-14   \n",
       "1530878                                   Atlantic   2.011355 2015-02-14   \n",
       "1530879  East Siberian-Beaufort-Chukchi-Laptev Sea   3.786549 2015-02-14   \n",
       "\n",
       "        valid date of yr   SIE clim  SIE anom  \n",
       "0                  01-03  12.305199  0.571896  \n",
       "1                  01-03   0.442489  0.139569  \n",
       "2                  01-03   0.477781 -0.017295  \n",
       "3                  01-03   1.075383  0.005961  \n",
       "4                  01-03   0.024223  0.035764  \n",
       "...                  ...        ...       ...  \n",
       "1530875            02-14   1.654915  0.007145  \n",
       "1530876            02-14   2.273067  0.073922  \n",
       "1530877            02-14   2.974391 -0.000216  \n",
       "1530878            02-14   1.936100  0.075255  \n",
       "1530879            02-14   3.786765 -0.000216  \n",
       "\n",
       "[1530880 rows x 9 columns]"
      ]
     },
     "execution_count": 19,
     "metadata": {},
     "output_type": "execute_result"
    }
   ],
   "source": [
    "SIE_df_weekly['lead days'] = SIE_df_weekly['lead time (weeks)']\n",
    "SIE_df"
   ]
  },
  {
   "cell_type": "code",
   "execution_count": 20,
   "metadata": {
    "scrolled": true
   },
   "outputs": [
    {
     "name": "stderr",
     "output_type": "stream",
     "text": [
      "/home/disk/sipn/mcmcgraw/anaconda3/envs/sea_ice_variability_S2S/lib/python3.7/site-packages/ipykernel_launcher.py:4: FutureWarning: Indexing with multiple keys (implicitly converted to a tuple of keys) will be deprecated, use a list instead.\n",
      "  after removing the cwd from sys.path.\n",
      "/home/disk/sipn/mcmcgraw/anaconda3/envs/sea_ice_variability_S2S/lib/python3.7/site-packages/ipykernel_launcher.py:6: FutureWarning: Indexing with multiple keys (implicitly converted to a tuple of keys) will be deprecated, use a list instead.\n",
      "  \n",
      "/home/disk/sipn/mcmcgraw/anaconda3/envs/sea_ice_variability_S2S/lib/python3.7/site-packages/ipykernel_launcher.py:10: FutureWarning: Indexing with multiple keys (implicitly converted to a tuple of keys) will be deprecated, use a list instead.\n",
      "  # Remove the CWD from sys.path while we load stuff.\n"
     ]
    },
    {
     "name": "stdout",
     "output_type": "stream",
     "text": [
      "errors calculated\n"
     ]
    }
   ],
   "source": [
    "if WEEKLY == True:\n",
    "    clim_freq_str = 'WEEKLY'\n",
    "    SIE_df_weekly['lead days'] = SIE_df_weekly['lead time (weeks)']\n",
    "    SIE_raw_err,SIE_errors = calculate_errors(SIE_df_weekly,obs_SIE)\n",
    "else:\n",
    "    clim_freq_str = 'DAILY'\n",
    "    SIE_raw_err,SIE_errors = calculate_errors(SIE_df,obs_SIE)\n",
    "print('errors calculated')"
   ]
  },
  {
   "cell_type": "markdown",
   "metadata": {},
   "source": [
    "Get difference between model and obs standard deviation"
   ]
  },
  {
   "cell_type": "code",
   "execution_count": 44,
   "metadata": {},
   "outputs": [
    {
     "name": "stderr",
     "output_type": "stream",
     "text": [
      "/home/disk/sipn/mcmcgraw/anaconda3/envs/sea_ice_variability_S2S/lib/python3.7/site-packages/ipykernel_launcher.py:1: FutureWarning: Indexing with multiple keys (implicitly converted to a tuple of keys) will be deprecated, use a list instead.\n",
      "  \"\"\"Entry point for launching an IPython kernel.\n",
      "/home/disk/sipn/mcmcgraw/anaconda3/envs/sea_ice_variability_S2S/lib/python3.7/site-packages/ipykernel_launcher.py:2: FutureWarning: Indexing with multiple keys (implicitly converted to a tuple of keys) will be deprecated, use a list instead.\n",
      "  \n"
     ]
    }
   ],
   "source": [
    "obs_STD = obs_SIE.groupby(['region',pd.to_datetime(obs_SIE['valid date']).dt.month])['SIE','SIE clim','SIE anom'].std()\n",
    "model_STD = SIE_df_weekly.groupby(['lead days','region',pd.to_datetime(SIE_df_weekly['valid date']).dt.month])['SIE','SIE clim',\n",
    "                                                                                                         'SIE anom'].std()\n"
   ]
  },
  {
   "cell_type": "markdown",
   "metadata": {},
   "source": [
    "Save files!"
   ]
  },
  {
   "cell_type": "code",
   "execution_count": 23,
   "metadata": {},
   "outputs": [
    {
     "name": "stdout",
     "output_type": "stream",
     "text": [
      "files saved\n"
     ]
    }
   ],
   "source": [
    "fdir = '/home/disk/sipn/mcmcgraw/McGraw_etal_2020/code/make_it_nice/data/{model_name}/'.format(model_name=model_name)\n",
    "if not os.path.exists(fdir):\n",
    "    os.makedirs(fdir)\n",
    "fname_save_raw = fdir+'RAW_err_{model_name}_months{seas_str}_model_clim_freq_{clim_freq_str}.csv'.format(model_name=model_name,\n",
    "                                             seas_str=seas_str,clim_freq_str=clim_freq_str)\n",
    "fname_save_RMSE = fdir+'RMSE_MAE_{model_name}_months{seas_str}_model_clim_freq_{clim_freq_str}.csv'.format(model_name=model_name,\n",
    "                                             seas_str=seas_str,clim_freq_str=clim_freq_str)\n",
    "SIE_raw_err.to_csv(fname_save_raw)\n",
    "SIE_errors.to_csv(fname_save_RMSE)\n",
    "print('files saved')"
   ]
  },
  {
   "cell_type": "code",
   "execution_count": 45,
   "metadata": {},
   "outputs": [],
   "source": [
    "fname_save_std_error = fdir+'STD_err_{model_name}_months{seas_str}_model_clim_freq_{clim_freq_str}.csv'.format(model_name=model_name,\n",
    "                                             seas_str=seas_str,clim_freq_str=clim_freq_str)\n",
    "model_STD.to_csv(fname_save_std_error)\n",
    "#\n",
    "fname_obs_save_std_error = fdir+'STD_err_OBS{model_name}_months{seas_str}_model_clim_freq_{clim_freq_str}.csv'.format(model_name=obs_name,\n",
    "                                             seas_str=seas_str,clim_freq_str=clim_freq_str)\n",
    "obs_STD.to_csv(fname_obs_save_std_error)"
   ]
  },
  {
   "cell_type": "code",
   "execution_count": 25,
   "metadata": {},
   "outputs": [
    {
     "data": {
      "text/html": [
       "<div>\n",
       "<style scoped>\n",
       "    .dataframe tbody tr th:only-of-type {\n",
       "        vertical-align: middle;\n",
       "    }\n",
       "\n",
       "    .dataframe tbody tr th {\n",
       "        vertical-align: top;\n",
       "    }\n",
       "\n",
       "    .dataframe thead th {\n",
       "        text-align: right;\n",
       "    }\n",
       "</style>\n",
       "<table border=\"1\" class=\"dataframe\">\n",
       "  <thead>\n",
       "    <tr style=\"text-align: right;\">\n",
       "      <th></th>\n",
       "      <th></th>\n",
       "      <th></th>\n",
       "      <th></th>\n",
       "      <th>SIE</th>\n",
       "      <th>SIE anom</th>\n",
       "    </tr>\n",
       "    <tr>\n",
       "      <th>region</th>\n",
       "      <th>valid date</th>\n",
       "      <th>lead days</th>\n",
       "      <th>init date</th>\n",
       "      <th></th>\n",
       "      <th></th>\n",
       "    </tr>\n",
       "  </thead>\n",
       "  <tbody>\n",
       "    <tr>\n",
       "      <th rowspan=\"5\" valign=\"top\">Atlantic</th>\n",
       "      <th>1999-01-03</th>\n",
       "      <th>0</th>\n",
       "      <th>1999-01-03</th>\n",
       "      <td>-0.110369</td>\n",
       "      <td>0.214202</td>\n",
       "    </tr>\n",
       "    <tr>\n",
       "      <th>1999-01-04</th>\n",
       "      <th>1</th>\n",
       "      <th>1999-01-03</th>\n",
       "      <td>-0.076445</td>\n",
       "      <td>0.240323</td>\n",
       "    </tr>\n",
       "    <tr>\n",
       "      <th>1999-01-05</th>\n",
       "      <th>2</th>\n",
       "      <th>1999-01-03</th>\n",
       "      <td>-0.098926</td>\n",
       "      <td>0.208814</td>\n",
       "    </tr>\n",
       "    <tr>\n",
       "      <th>1999-01-06</th>\n",
       "      <th>3</th>\n",
       "      <th>1999-01-03</th>\n",
       "      <td>-0.103905</td>\n",
       "      <td>0.198957</td>\n",
       "    </tr>\n",
       "    <tr>\n",
       "      <th>1999-01-07</th>\n",
       "      <th>0</th>\n",
       "      <th>1999-01-07</th>\n",
       "      <td>-0.238176</td>\n",
       "      <td>0.089804</td>\n",
       "    </tr>\n",
       "    <tr>\n",
       "      <th>...</th>\n",
       "      <th>...</th>\n",
       "      <th>...</th>\n",
       "      <th>...</th>\n",
       "      <td>...</td>\n",
       "      <td>...</td>\n",
       "    </tr>\n",
       "    <tr>\n",
       "      <th rowspan=\"5\" valign=\"top\">panArctic</th>\n",
       "      <th>2015-02-10</th>\n",
       "      <th>45</th>\n",
       "      <th>2014-12-27</th>\n",
       "      <td>-0.908551</td>\n",
       "      <td>0.323976</td>\n",
       "    </tr>\n",
       "    <tr>\n",
       "      <th>2015-02-11</th>\n",
       "      <th>42</th>\n",
       "      <th>2014-12-31</th>\n",
       "      <td>-0.904626</td>\n",
       "      <td>0.350175</td>\n",
       "    </tr>\n",
       "    <tr>\n",
       "      <th>2015-02-12</th>\n",
       "      <th>43</th>\n",
       "      <th>2014-12-31</th>\n",
       "      <td>-0.899852</td>\n",
       "      <td>0.362550</td>\n",
       "    </tr>\n",
       "    <tr>\n",
       "      <th>2015-02-13</th>\n",
       "      <th>44</th>\n",
       "      <th>2014-12-31</th>\n",
       "      <td>-0.890755</td>\n",
       "      <td>0.375159</td>\n",
       "    </tr>\n",
       "    <tr>\n",
       "      <th>2015-02-14</th>\n",
       "      <th>45</th>\n",
       "      <th>2014-12-31</th>\n",
       "      <td>-0.917359</td>\n",
       "      <td>0.361879</td>\n",
       "    </tr>\n",
       "  </tbody>\n",
       "</table>\n",
       "<p>1530880 rows × 2 columns</p>\n",
       "</div>"
      ],
      "text/plain": [
       "                                                SIE  SIE anom\n",
       "region    valid date lead days init date                     \n",
       "Atlantic  1999-01-03 0         1999-01-03 -0.110369  0.214202\n",
       "          1999-01-04 1         1999-01-03 -0.076445  0.240323\n",
       "          1999-01-05 2         1999-01-03 -0.098926  0.208814\n",
       "          1999-01-06 3         1999-01-03 -0.103905  0.198957\n",
       "          1999-01-07 0         1999-01-07 -0.238176  0.089804\n",
       "...                                             ...       ...\n",
       "panArctic 2015-02-10 45        2014-12-27 -0.908551  0.323976\n",
       "          2015-02-11 42        2014-12-31 -0.904626  0.350175\n",
       "          2015-02-12 43        2014-12-31 -0.899852  0.362550\n",
       "          2015-02-13 44        2014-12-31 -0.890755  0.375159\n",
       "          2015-02-14 45        2014-12-31 -0.917359  0.361879\n",
       "\n",
       "[1530880 rows x 2 columns]"
      ]
     },
     "execution_count": 25,
     "metadata": {},
     "output_type": "execute_result"
    }
   ],
   "source": [
    "SIE_raw_err"
   ]
  },
  {
   "cell_type": "code",
   "execution_count": 26,
   "metadata": {},
   "outputs": [
    {
     "name": "stderr",
     "output_type": "stream",
     "text": [
      "/home/disk/sipn/mcmcgraw/anaconda3/envs/sea_ice_variability_S2S/lib/python3.7/site-packages/ipykernel_launcher.py:3: FutureWarning: Indexing with multiple keys (implicitly converted to a tuple of keys) will be deprecated, use a list instead.\n",
      "  This is separate from the ipykernel package so we can avoid doing imports until\n"
     ]
    },
    {
     "data": {
      "text/plain": [
       "<matplotlib.axes._subplots.AxesSubplot at 0x7f43020c8c88>"
      ]
     },
     "execution_count": 26,
     "metadata": {},
     "output_type": "execute_result"
    },
    {
     "data": {
      "image/png": "[encoded data removed]",
      "text/plain": [
       "<Figure size 432x288 with 1 Axes>"
      ]
     },
     "metadata": {
      "needs_background": "light"
     },
     "output_type": "display_data"
    }
   ],
   "source": [
    "foo = SIE_raw_err.xs('panArctic').reset_index()\n",
    "import scipy.stats as stats\n",
    "foo2 = foo.groupby(['lead days'])['SIE','SIE anom'].std()\n",
    "foo2.plot()"
   ]
  },
  {
   "cell_type": "code",
   "execution_count": null,
   "metadata": {},
   "outputs": [],
   "source": []
  },
  {
   "cell_type": "code",
   "execution_count": null,
   "metadata": {},
   "outputs": [],
   "source": []
  }
 ],
 "metadata": {
  "kernelspec": {
   "display_name": "sea_ice_variability_S2S",
   "language": "python",
   "name": "sea_ice_variability_s2s"
  },
  "language_info": {
   "codemirror_mode": {
    "name": "ipython",
    "version": 3
   },
   "file_extension": ".py",
   "mimetype": "text/x-python",
   "name": "python",
   "nbconvert_exporter": "python",
   "pygments_lexer": "ipython3",
   "version": "3.7.3"
  }
 },
 "nbformat": 4,
 "nbformat_minor": 2
}
