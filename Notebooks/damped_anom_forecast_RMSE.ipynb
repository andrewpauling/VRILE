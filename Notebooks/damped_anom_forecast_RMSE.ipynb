{
 "cells": [
  {
   "cell_type": "markdown",
   "metadata": {},
   "source": [
    "<code>damped_anom_forecast_RMSE.ipynb</code>.  This notebook just quickly calculates the RMSE, MAE, and raw error for the damped anomaly forecast.  "
   ]
  },
  {
   "cell_type": "code",
   "execution_count": 2,
   "metadata": {},
   "outputs": [],
   "source": [
    "import xarray as xr\n",
    "import numpy as np\n",
    "import pandas as pd\n",
    "import os\n",
    "from S2S_sea_ice_preprocess import create_aggregate_regions, create_obs_climatology, create_obs_climatology_ROLLING\n",
    "from S2S_sea_ice_VRILEs import get_VRILE_days\n",
    "from S2S_sea_ice_errors import calculate_errors"
   ]
  },
  {
   "cell_type": "markdown",
   "metadata": {},
   "source": [
    "Load the damped anomaly data"
   ]
  },
  {
   "cell_type": "code",
   "execution_count": 19,
   "metadata": {},
   "outputs": [],
   "source": [
    "vrile_thresh = 0.05\n",
    "thresh_str = '05'\n",
    "nday_change = 5\n",
    "seas_sel = [1,2,3,4,5,6,7,8,9,10,11,12]\n",
    "seas_str = 'ALL'\n",
    "nyear_roll = 10\n",
    "lead_weeks = True\n",
    "ROLL_CLIM = True\n",
    "dates_SHIFT = 0"
   ]
  },
  {
   "cell_type": "code",
   "execution_count": 20,
   "metadata": {
    "scrolled": false
   },
   "outputs": [],
   "source": [
    "obs_name = 'NSIDC_0079'\n",
    "fpath_load = '/home/disk/sipn/mcmcgraw/McGraw_etal_2020/code/make_it_nice/data/'\n",
    "fname_load = fpath_load+'DAMPED_ANOMALY_FORECAST_{nyear_roll}_rolling_mean.csv'.format(nyear_roll=nyear_roll)\n",
    "SIE_damped_a = pd.read_csv(fname_load)\n",
    "SIE_damped_a['init year'] = pd.to_datetime(SIE_damped_a['init date']).dt.year\n",
    "SIE_damped_a['lead time (days)'] = pd.to_timedelta(SIE_damped_a['lead time'],'D')\n",
    "# Trim to common reforecast period\n",
    "SIE_damped_a = SIE_damped_a[SIE_damped_a['init year'].isin(np.arange(1999,2015))]\n",
    "SIE_damped = SIE_damped_a.set_index('region')"
   ]
  },
  {
   "cell_type": "markdown",
   "metadata": {},
   "source": [
    "Load the observations"
   ]
  },
  {
   "cell_type": "code",
   "execution_count": 21,
   "metadata": {
    "scrolled": false
   },
   "outputs": [
    {
     "name": "stdout",
     "output_type": "stream",
     "text": [
      "opening  <xarray.Dataset>\n",
      "Dimensions:       (nregions: 15, time: 11322)\n",
      "Coordinates:\n",
      "    region_names  (nregions) object dask.array<chunksize=(15,), meta=np.ndarray>\n",
      "  * nregions      (nregions) int64 99 2 3 4 5 6 7 8 9 10 11 12 13 14 15\n",
      "  * time          (time) datetime64[ns] 1989-01-01 1989-01-02 ... 2019-12-31\n",
      "Data variables:\n",
      "    Extent        (time, nregions) float64 dask.array<chunksize=(365, 15), meta=np.ndarray>\n",
      "obs loaded\n"
     ]
    }
   ],
   "source": [
    "obs_type = 'sipn_nc_yearly_agg'\n",
    "filepath = '/home/disk/sipn/nicway/data/obs/{model_name}/{model_type}/'.format(model_name=obs_name,\n",
    "                                                                              model_type=obs_type)\n",
    "obs_filenames = xr.open_mfdataset(filepath+'/*.nc',combine='by_coords')\n",
    "print('opening ',obs_filenames)\n",
    "obs_SIE = obs_filenames.Extent\n",
    "obs_regions = obs_filenames.nregions\n",
    "obs_region_names = obs_filenames['region_names'].values\n",
    "# Drop region names and re-add as a non-dask.array object.  This is stupid but oh well\n",
    "obs_SIE = obs_SIE.drop('region_names')\n",
    "obs_SIE[\"region_names\"] = (\"nregions\",obs_region_names)\n",
    "print('obs loaded')"
   ]
  },
  {
   "cell_type": "markdown",
   "metadata": {},
   "source": [
    "Add aggregate regions to obs and convert obs to Pandas dataframe"
   ]
  },
  {
   "cell_type": "code",
   "execution_count": 22,
   "metadata": {},
   "outputs": [],
   "source": [
    "obs_SIE = create_aggregate_regions(obs_SIE)\n",
    "obs_SIE = obs_SIE.to_dataframe().reset_index()\n",
    "obs_SIE = obs_SIE.rename(columns={'Extent':'SIE','region_names':'region','time':'valid date'})\n",
    "obs_SIE['init year'] = pd.to_datetime(obs_SIE['valid date']).dt.year\n"
   ]
  },
  {
   "cell_type": "markdown",
   "metadata": {},
   "source": [
    "Create climatology.  We can either do a rolling mean (what we use to create the damped anomaly forecast) or a static mean of the 15 years we include in our data set"
   ]
  },
  {
   "cell_type": "code",
   "execution_count": 23,
   "metadata": {},
   "outputs": [
    {
     "name": "stdout",
     "output_type": "stream",
     "text": [
      "rolling mean climatology\n"
     ]
    },
    {
     "data": {
      "text/html": [
       "<div>\n",
       "<style scoped>\n",
       "    .dataframe tbody tr th:only-of-type {\n",
       "        vertical-align: middle;\n",
       "    }\n",
       "\n",
       "    .dataframe tbody tr th {\n",
       "        vertical-align: top;\n",
       "    }\n",
       "\n",
       "    .dataframe thead th {\n",
       "        text-align: right;\n",
       "    }\n",
       "</style>\n",
       "<table border=\"1\" class=\"dataframe\">\n",
       "  <thead>\n",
       "    <tr style=\"text-align: right;\">\n",
       "      <th></th>\n",
       "      <th>valid date</th>\n",
       "      <th>nregions</th>\n",
       "      <th>SIE</th>\n",
       "      <th>init year</th>\n",
       "      <th>valid day of year</th>\n",
       "      <th>SIE clim</th>\n",
       "      <th>SIE anom</th>\n",
       "    </tr>\n",
       "    <tr>\n",
       "      <th>region</th>\n",
       "      <th></th>\n",
       "      <th></th>\n",
       "      <th></th>\n",
       "      <th></th>\n",
       "      <th></th>\n",
       "      <th></th>\n",
       "      <th></th>\n",
       "    </tr>\n",
       "  </thead>\n",
       "  <tbody>\n",
       "    <tr>\n",
       "      <th>panArctic</th>\n",
       "      <td>1999-01-01</td>\n",
       "      <td>99</td>\n",
       "      <td>14.042518</td>\n",
       "      <td>1999</td>\n",
       "      <td>01-01</td>\n",
       "      <td>14.172305</td>\n",
       "      <td>-1.297863e-01</td>\n",
       "    </tr>\n",
       "    <tr>\n",
       "      <th>Sea of Okhotsk</th>\n",
       "      <td>1999-01-01</td>\n",
       "      <td>2</td>\n",
       "      <td>0.755715</td>\n",
       "      <td>1999</td>\n",
       "      <td>01-01</td>\n",
       "      <td>0.608966</td>\n",
       "      <td>1.467492e-01</td>\n",
       "    </tr>\n",
       "    <tr>\n",
       "      <th>Bering</th>\n",
       "      <td>1999-01-01</td>\n",
       "      <td>3</td>\n",
       "      <td>0.567497</td>\n",
       "      <td>1999</td>\n",
       "      <td>01-01</td>\n",
       "      <td>0.573428</td>\n",
       "      <td>-5.930634e-03</td>\n",
       "    </tr>\n",
       "    <tr>\n",
       "      <th>Hudson Bay</th>\n",
       "      <td>1999-01-01</td>\n",
       "      <td>4</td>\n",
       "      <td>1.233464</td>\n",
       "      <td>1999</td>\n",
       "      <td>01-01</td>\n",
       "      <td>1.233405</td>\n",
       "      <td>5.833550e-05</td>\n",
       "    </tr>\n",
       "    <tr>\n",
       "      <th>St John</th>\n",
       "      <td>1999-01-01</td>\n",
       "      <td>5</td>\n",
       "      <td>0.030842</td>\n",
       "      <td>1999</td>\n",
       "      <td>01-01</td>\n",
       "      <td>0.078435</td>\n",
       "      <td>-4.759259e-02</td>\n",
       "    </tr>\n",
       "    <tr>\n",
       "      <th>...</th>\n",
       "      <td>...</td>\n",
       "      <td>...</td>\n",
       "      <td>...</td>\n",
       "      <td>...</td>\n",
       "      <td>...</td>\n",
       "      <td>...</td>\n",
       "      <td>...</td>\n",
       "    </tr>\n",
       "    <tr>\n",
       "      <th>Kara-Laptev Sea</th>\n",
       "      <td>2014-12-31</td>\n",
       "      <td>20</td>\n",
       "      <td>1.791022</td>\n",
       "      <td>2014</td>\n",
       "      <td>12-31</td>\n",
       "      <td>1.772329</td>\n",
       "      <td>1.869320e-02</td>\n",
       "    </tr>\n",
       "    <tr>\n",
       "      <th>Barents-Kara-Laptev Sea</th>\n",
       "      <td>2014-12-31</td>\n",
       "      <td>21</td>\n",
       "      <td>2.417750</td>\n",
       "      <td>2014</td>\n",
       "      <td>12-31</td>\n",
       "      <td>2.298453</td>\n",
       "      <td>1.192975e-01</td>\n",
       "    </tr>\n",
       "    <tr>\n",
       "      <th>East Siberian-Beaufort-Chukchi Sea</th>\n",
       "      <td>2014-12-31</td>\n",
       "      <td>22</td>\n",
       "      <td>3.074202</td>\n",
       "      <td>2014</td>\n",
       "      <td>12-31</td>\n",
       "      <td>3.074202</td>\n",
       "      <td>4.440892e-16</td>\n",
       "    </tr>\n",
       "    <tr>\n",
       "      <th>Atlantic</th>\n",
       "      <td>2014-12-31</td>\n",
       "      <td>23</td>\n",
       "      <td>1.707697</td>\n",
       "      <td>2014</td>\n",
       "      <td>12-31</td>\n",
       "      <td>1.651397</td>\n",
       "      <td>5.629982e-02</td>\n",
       "    </tr>\n",
       "    <tr>\n",
       "      <th>East Siberian-Beaufort-Chukchi-Laptev Sea</th>\n",
       "      <td>2014-12-31</td>\n",
       "      <td>24</td>\n",
       "      <td>3.946616</td>\n",
       "      <td>2014</td>\n",
       "      <td>12-31</td>\n",
       "      <td>3.946616</td>\n",
       "      <td>0.000000e+00</td>\n",
       "    </tr>\n",
       "  </tbody>\n",
       "</table>\n",
       "<p>116880 rows × 7 columns</p>\n",
       "</div>"
      ],
      "text/plain": [
       "                                          valid date  nregions        SIE  \\\n",
       "region                                                                      \n",
       "panArctic                                 1999-01-01        99  14.042518   \n",
       "Sea of Okhotsk                            1999-01-01         2   0.755715   \n",
       "Bering                                    1999-01-01         3   0.567497   \n",
       "Hudson Bay                                1999-01-01         4   1.233464   \n",
       "St John                                   1999-01-01         5   0.030842   \n",
       "...                                              ...       ...        ...   \n",
       "Kara-Laptev Sea                           2014-12-31        20   1.791022   \n",
       "Barents-Kara-Laptev Sea                   2014-12-31        21   2.417750   \n",
       "East Siberian-Beaufort-Chukchi Sea        2014-12-31        22   3.074202   \n",
       "Atlantic                                  2014-12-31        23   1.707697   \n",
       "East Siberian-Beaufort-Chukchi-Laptev Sea 2014-12-31        24   3.946616   \n",
       "\n",
       "                                           init year valid day of year  \\\n",
       "region                                                                   \n",
       "panArctic                                       1999             01-01   \n",
       "Sea of Okhotsk                                  1999             01-01   \n",
       "Bering                                          1999             01-01   \n",
       "Hudson Bay                                      1999             01-01   \n",
       "St John                                         1999             01-01   \n",
       "...                                              ...               ...   \n",
       "Kara-Laptev Sea                                 2014             12-31   \n",
       "Barents-Kara-Laptev Sea                         2014             12-31   \n",
       "East Siberian-Beaufort-Chukchi Sea              2014             12-31   \n",
       "Atlantic                                        2014             12-31   \n",
       "East Siberian-Beaufort-Chukchi-Laptev Sea       2014             12-31   \n",
       "\n",
       "                                            SIE clim      SIE anom  \n",
       "region                                                              \n",
       "panArctic                                  14.172305 -1.297863e-01  \n",
       "Sea of Okhotsk                              0.608966  1.467492e-01  \n",
       "Bering                                      0.573428 -5.930634e-03  \n",
       "Hudson Bay                                  1.233405  5.833550e-05  \n",
       "St John                                     0.078435 -4.759259e-02  \n",
       "...                                              ...           ...  \n",
       "Kara-Laptev Sea                             1.772329  1.869320e-02  \n",
       "Barents-Kara-Laptev Sea                     2.298453  1.192975e-01  \n",
       "East Siberian-Beaufort-Chukchi Sea          3.074202  4.440892e-16  \n",
       "Atlantic                                    1.651397  5.629982e-02  \n",
       "East Siberian-Beaufort-Chukchi-Laptev Sea   3.946616  0.000000e+00  \n",
       "\n",
       "[116880 rows x 7 columns]"
      ]
     },
     "execution_count": 23,
     "metadata": {},
     "output_type": "execute_result"
    }
   ],
   "source": [
    "n_year_roll = 10\n",
    "if ROLL_CLIM:\n",
    "    obs_SIE = create_obs_climatology_ROLLING(obs_SIE,10)\n",
    "    obs_SIE = obs_SIE[obs_SIE['init year'].isin(np.arange(1999,2015))]\n",
    "    #obs_SIE = obs_SIE[obs_SIE['init year'].isin(np.arange(1,2017))]\n",
    "    print('rolling mean climatology')\n",
    "else:\n",
    "    #obs_SIE = obs_SIE[obs_SIE['init year'].isin(np.arange(1999,2016))]\n",
    "    #obs_SIE = obs_SIE[obs_SIE['init year'].isin(np.arange(1,2017))]\n",
    "    obs_SIE = create_obs_climatology(obs_SIE)\n",
    "    print('static climatology')\n",
    "    \n",
    "    \n",
    "obs_SIE = obs_SIE.set_index('region')\n",
    "obs_SIE"
   ]
  },
  {
   "cell_type": "markdown",
   "metadata": {},
   "source": [
    "Calculate VRILE days based on observations"
   ]
  },
  {
   "cell_type": "code",
   "execution_count": 24,
   "metadata": {
    "scrolled": false
   },
   "outputs": [],
   "source": [
    "\n",
    "obs_SIE_VRILE_onlyx, obs_SIE_anom_VRILE_onlyx, obs_SIE_NO_VRILEx, obs_SIE_anom_NO_VRILEx = get_VRILE_days(obs_SIE,vrile_thresh,nday_change,seas_sel,seas_str)"
   ]
  },
  {
   "cell_type": "code",
   "execution_count": 25,
   "metadata": {},
   "outputs": [],
   "source": [
    "obs_SIE_VRILE_only = obs_SIE_VRILE_onlyx.set_index(['region'])\n",
    "obs_SIE_anom_VRILE_only = obs_SIE_anom_VRILE_onlyx.set_index(['region'])\n",
    "#\n",
    "obs_SIE_NO_VRILE = obs_SIE_NO_VRILEx.set_index(['region'])\n",
    "obs_SIE_anom_NO_VRILE = obs_SIE_anom_NO_VRILEx.set_index(['region'])\n"
   ]
  },
  {
   "cell_type": "markdown",
   "metadata": {},
   "source": [
    "We want to be able to start our predictions of VRILE days BEFORE the VRILE happens, if desired.  So we shift the dates back by <code>dates_SHIFT</code>"
   ]
  },
  {
   "cell_type": "code",
   "execution_count": 26,
   "metadata": {
    "scrolled": true
   },
   "outputs": [],
   "source": [
    "obs_SIE_VRILE_only['valid date SHIFTED'] = obs_SIE_VRILE_only['valid date'] - pd.Timedelta(dates_SHIFT,'D')\n",
    "obs_SIE_anom_VRILE_only['valid date SHIFTED'] = obs_SIE_anom_VRILE_only['valid date'] - pd.Timedelta(dates_SHIFT,'D')"
   ]
  },
  {
   "cell_type": "markdown",
   "metadata": {},
   "source": [
    "Sort damped anomaly forecasts into VRILE days and nonVRILE days"
   ]
  },
  {
   "cell_type": "code",
   "execution_count": 27,
   "metadata": {},
   "outputs": [],
   "source": [
    "SIE_df = SIE_damped.reset_index().copy()\n",
    "SIE_reg = SIE_df.set_index(['region'])\n",
    "regions_list = SIE_df['region'].unique().tolist()\n",
    "SIE_no_VRILES = pd.DataFrame()\n",
    "SIE_anom_no_VRILES = pd.DataFrame()\n",
    "#\n",
    "SIE_VRILES = pd.DataFrame()\n",
    "SIE_anom_VRILES = pd.DataFrame()\n",
    "for i_region in regions_list:\n",
    "    if i_region == 'St John':\n",
    "        continue\n",
    "    SIE_ivrile = SIE_reg.loc[i_region][pd.to_datetime(SIE_reg.loc[i_region]['valid date']).isin(pd.to_datetime(obs_SIE_VRILE_only.loc[i_region]['valid date SHIFTED']))]\n",
    "    SIE_VRILES = SIE_VRILES.append(SIE_ivrile)\n",
    "#    #\n",
    "    SIE_anom_ivrile = SIE_reg.loc[i_region][pd.to_datetime(SIE_reg.loc[i_region]['valid date']).isin(pd.to_datetime(obs_SIE_anom_VRILE_only.loc[i_region]['valid date SHIFTED']))]\n",
    "    SIE_anom_VRILES = SIE_anom_VRILES.append(SIE_anom_ivrile)\n",
    "#    #\n",
    "    SIE_no_ivrile = SIE_reg.loc[i_region][pd.to_datetime(SIE_reg.loc[i_region]['valid date']).isin(pd.to_datetime(obs_SIE_NO_VRILE.loc[i_region]['valid date']))]\n",
    "    SIE_no_VRILES = SIE_no_VRILES.append(SIE_no_ivrile)\n",
    "    #\n",
    "    SIE_anom_no_ivrile = SIE_reg.loc[i_region][pd.to_datetime(SIE_reg.loc[i_region]['valid date']).isin(pd.to_datetime(obs_SIE_anom_NO_VRILE.loc[i_region]['valid date']))]\n",
    "    SIE_anom_no_VRILES = SIE_anom_no_VRILES.append(SIE_anom_no_ivrile)"
   ]
  },
  {
   "cell_type": "markdown",
   "metadata": {},
   "source": [
    "Get lead time in weeks"
   ]
  },
  {
   "cell_type": "code",
   "execution_count": 28,
   "metadata": {
    "scrolled": false
   },
   "outputs": [],
   "source": [
    "week_length = 7\n",
    "#pd.to_timedelta(SIE_anom_VRILES['lead time'],'D').dt.days/7\n",
    "SIE_anom_VRILES['lead time (weeks)'] = np.floor(SIE_anom_VRILES['lead time (days)'].dt.days/week_length)\n",
    "SIE_VRILES['lead time (weeks)'] = np.floor(SIE_VRILES['lead time (days)'].dt.days/week_length)\n",
    "SIE_anom_no_VRILES['lead time (weeks)'] = np.floor(SIE_anom_no_VRILES['lead time (days)'].dt.days/week_length)\n",
    "SIE_no_VRILES['lead time (weeks)'] = np.floor(SIE_no_VRILES['lead time (days)'].dt.days/week_length)"
   ]
  },
  {
   "cell_type": "code",
   "execution_count": 29,
   "metadata": {
    "scrolled": false
   },
   "outputs": [],
   "source": [
    "#foo = SIE_VRILES.copy()\n",
    "#foo['valid date'] = pd.to_datetime(foo['valid date'])\n",
    "SIE_VRILES['valid date'] = pd.to_datetime(SIE_VRILES['valid date'])\n",
    "SIE_no_VRILES['valid date'] = pd.to_datetime(SIE_no_VRILES['valid date'])\n",
    "SIE_anom_VRILES['valid date'] = pd.to_datetime(SIE_anom_VRILES['valid date'])\n",
    "SIE_anom_no_VRILES['valid date'] = pd.to_datetime(SIE_anom_no_VRILES['valid date'])\n",
    "#pd.to_datetime(obs_SIE_VRILE_only['valid date']).dt.date.unique().tolist()"
   ]
  },
  {
   "cell_type": "markdown",
   "metadata": {},
   "source": [
    "Sort by init date just to make more sense in my brain"
   ]
  },
  {
   "cell_type": "code",
   "execution_count": 30,
   "metadata": {
    "scrolled": false
   },
   "outputs": [],
   "source": [
    "SIE_VRILES= SIE_VRILES.sort_values(by='init date')\n",
    "SIE_no_VRILES = SIE_no_VRILES.sort_values(by='init date')\n",
    "SIE_anom_VRILES = SIE_anom_VRILES.sort_values(by='init date')\n",
    "SIE_anom_no_VRILES = SIE_anom_no_VRILES.sort_values(by='init date')"
   ]
  },
  {
   "cell_type": "markdown",
   "metadata": {},
   "source": [
    "Finally, calculate errors"
   ]
  },
  {
   "cell_type": "code",
   "execution_count": 31,
   "metadata": {
    "scrolled": true
   },
   "outputs": [
    {
     "name": "stdout",
     "output_type": "stream",
     "text": [
      "The history saving thread hit an unexpected error (OperationalError('attempt to write a readonly database')).History will not be written to the database.\n"
     ]
    },
    {
     "name": "stderr",
     "output_type": "stream",
     "text": [
      "/home/disk/sipn/mcmcgraw/McGraw_etal_2020/code/make_it_nice/FINAL/CODE/S2S_sea_ice_errors.py:11: FutureWarning: Indexing with multiple keys (implicitly converted to a tuple of keys) will be deprecated, use a list instead.\n",
      "  SIE_obsx = obs_SIE.groupby(['region','valid date'])['SIE','SIE clim','SIE anom'].mean()\n",
      "/home/disk/sipn/mcmcgraw/McGraw_etal_2020/code/make_it_nice/FINAL/CODE/S2S_sea_ice_errors.py:13: FutureWarning: Indexing with multiple keys (implicitly converted to a tuple of keys) will be deprecated, use a list instead.\n",
      "  SIE_model_raw = model_SIE.groupby(['region','valid date','lead days','init date'])['SIE','SIE clim','SIE anom'].mean()\n",
      "/home/disk/sipn/mcmcgraw/McGraw_etal_2020/code/make_it_nice/FINAL/CODE/S2S_sea_ice_errors.py:17: FutureWarning: Indexing with multiple keys (implicitly converted to a tuple of keys) will be deprecated, use a list instead.\n",
      "  SIE_modelx = model_SIE.groupby(['region','valid date','lead days'])['SIE','SIE clim','SIE anom'].mean()\n"
     ]
    },
    {
     "name": "stdout",
     "output_type": "stream",
     "text": [
      "errors calculated\n"
     ]
    }
   ],
   "source": [
    "if lead_weeks == True:\n",
    "    clim_freq_str = 'WEEKLY'\n",
    "    SIE_VRILES['lead days'] = SIE_VRILES['lead time (weeks)']\n",
    "    SIE_anom_VRILES['lead days'] = SIE_anom_VRILES['lead time (weeks)']\n",
    "    SIE_raw_err,SIE_errors = calculate_errors(SIE_VRILES,obs_SIE_VRILE_only)\n",
    "    SIE_anom_raw_err,SIE_anom_errors = calculate_errors(SIE_anom_VRILES,obs_SIE_anom_VRILE_only)\n",
    "    ## NO VRILES\n",
    "    SIE_no_VRILES['lead days'] = SIE_no_VRILES['lead time (weeks)']\n",
    "    SIE_anom_no_VRILES['lead days'] = SIE_anom_no_VRILES['lead time (weeks)']\n",
    "    SIE_raw_err_NO,SIE_errors_NO = calculate_errors(SIE_no_VRILES,obs_SIE_NO_VRILE)\n",
    "    SIE_anom_raw_err_NO,SIE_anom_errors_NO = calculate_errors(SIE_anom_no_VRILES,obs_SIE_anom_NO_VRILE)\n",
    "else:\n",
    "    clim_freq_str = 'DAILY'\n",
    "    SIE_VRILES['lead days'] = SIE_VRILES['lead time (days)'].dt.days\n",
    "    SIE_anom_VRILES['lead days'] = SIE_anom_VRILES['lead time (days)'].dt.days\n",
    "    SIE_raw_err,SIE_errors = calculate_errors(SIE_VRILES,obs_SIE_VRILE_only)\n",
    "    SIE_anom_raw_err,SIE_anom_errors = calculate_errors(SIE_anom_VRILES,obs_SIE_anom_VRILE_only)\n",
    "    ## NO VRILES\n",
    "    SIE_no_VRILES['lead days'] = SIE_no_VRILES['lead time (days)'].dt.days\n",
    "    SIE_anom_no_VRILES['lead days'] = SIE_anom_no_VRILES['lead time (days)'].dt.days\n",
    "    SIE_raw_err_NO,SIE_errors_NO = calculate_errors(SIE_no_VRILES,obs_SIE_NO_VRILE)\n",
    "    SIE_anom_raw_err_NO,SIE_anom_errors_NO = calculate_errors(SIE_anom_no_VRILES,obs_SIE_anom_NO_VRILE)\n",
    "print('errors calculated')"
   ]
  },
  {
   "cell_type": "code",
   "execution_count": 32,
   "metadata": {
    "scrolled": false
   },
   "outputs": [
    {
     "data": {
      "text/html": [
       "<div>\n",
       "<style scoped>\n",
       "    .dataframe tbody tr th:only-of-type {\n",
       "        vertical-align: middle;\n",
       "    }\n",
       "\n",
       "    .dataframe tbody tr th {\n",
       "        vertical-align: top;\n",
       "    }\n",
       "\n",
       "    .dataframe thead th {\n",
       "        text-align: right;\n",
       "    }\n",
       "</style>\n",
       "<table border=\"1\" class=\"dataframe\">\n",
       "  <thead>\n",
       "    <tr style=\"text-align: right;\">\n",
       "      <th></th>\n",
       "      <th></th>\n",
       "      <th>SIE RMSE</th>\n",
       "      <th>SIE anom RMSE</th>\n",
       "      <th>SIE MAE</th>\n",
       "      <th>SIE anom MAE</th>\n",
       "    </tr>\n",
       "    <tr>\n",
       "      <th>region</th>\n",
       "      <th>lead days</th>\n",
       "      <th></th>\n",
       "      <th></th>\n",
       "      <th></th>\n",
       "      <th></th>\n",
       "    </tr>\n",
       "  </thead>\n",
       "  <tbody>\n",
       "    <tr>\n",
       "      <th rowspan=\"5\" valign=\"top\">Atlantic</th>\n",
       "      <th>0.0</th>\n",
       "      <td>0.052382</td>\n",
       "      <td>0.052380</td>\n",
       "      <td>0.041317</td>\n",
       "      <td>0.041310</td>\n",
       "    </tr>\n",
       "    <tr>\n",
       "      <th>1.0</th>\n",
       "      <td>0.084127</td>\n",
       "      <td>0.084037</td>\n",
       "      <td>0.065741</td>\n",
       "      <td>0.065607</td>\n",
       "    </tr>\n",
       "    <tr>\n",
       "      <th>2.0</th>\n",
       "      <td>0.099408</td>\n",
       "      <td>0.099245</td>\n",
       "      <td>0.077739</td>\n",
       "      <td>0.077561</td>\n",
       "    </tr>\n",
       "    <tr>\n",
       "      <th>3.0</th>\n",
       "      <td>0.103611</td>\n",
       "      <td>0.103457</td>\n",
       "      <td>0.081783</td>\n",
       "      <td>0.081602</td>\n",
       "    </tr>\n",
       "    <tr>\n",
       "      <th>4.0</th>\n",
       "      <td>0.109953</td>\n",
       "      <td>0.109792</td>\n",
       "      <td>0.089800</td>\n",
       "      <td>0.089656</td>\n",
       "    </tr>\n",
       "    <tr>\n",
       "      <th>...</th>\n",
       "      <th>...</th>\n",
       "      <td>...</td>\n",
       "      <td>...</td>\n",
       "      <td>...</td>\n",
       "      <td>...</td>\n",
       "    </tr>\n",
       "    <tr>\n",
       "      <th rowspan=\"5\" valign=\"top\">panArctic</th>\n",
       "      <th>4.0</th>\n",
       "      <td>0.481004</td>\n",
       "      <td>0.481004</td>\n",
       "      <td>0.384803</td>\n",
       "      <td>0.384803</td>\n",
       "    </tr>\n",
       "    <tr>\n",
       "      <th>5.0</th>\n",
       "      <td>0.512563</td>\n",
       "      <td>0.512563</td>\n",
       "      <td>0.407279</td>\n",
       "      <td>0.407279</td>\n",
       "    </tr>\n",
       "    <tr>\n",
       "      <th>6.0</th>\n",
       "      <td>0.534748</td>\n",
       "      <td>0.535150</td>\n",
       "      <td>0.425767</td>\n",
       "      <td>0.426364</td>\n",
       "    </tr>\n",
       "    <tr>\n",
       "      <th>7.0</th>\n",
       "      <td>0.551662</td>\n",
       "      <td>0.552024</td>\n",
       "      <td>0.439088</td>\n",
       "      <td>0.439836</td>\n",
       "    </tr>\n",
       "    <tr>\n",
       "      <th>8.0</th>\n",
       "      <td>0.567296</td>\n",
       "      <td>0.567251</td>\n",
       "      <td>0.450446</td>\n",
       "      <td>0.450119</td>\n",
       "    </tr>\n",
       "  </tbody>\n",
       "</table>\n",
       "<p>171 rows × 4 columns</p>\n",
       "</div>"
      ],
      "text/plain": [
       "                     SIE RMSE  SIE anom RMSE   SIE MAE  SIE anom MAE\n",
       "region    lead days                                                 \n",
       "Atlantic  0.0        0.052382       0.052380  0.041317      0.041310\n",
       "          1.0        0.084127       0.084037  0.065741      0.065607\n",
       "          2.0        0.099408       0.099245  0.077739      0.077561\n",
       "          3.0        0.103611       0.103457  0.081783      0.081602\n",
       "          4.0        0.109953       0.109792  0.089800      0.089656\n",
       "...                       ...            ...       ...           ...\n",
       "panArctic 4.0        0.481004       0.481004  0.384803      0.384803\n",
       "          5.0        0.512563       0.512563  0.407279      0.407279\n",
       "          6.0        0.534748       0.535150  0.425767      0.426364\n",
       "          7.0        0.551662       0.552024  0.439088      0.439836\n",
       "          8.0        0.567296       0.567251  0.450446      0.450119\n",
       "\n",
       "[171 rows x 4 columns]"
      ]
     },
     "execution_count": 32,
     "metadata": {},
     "output_type": "execute_result"
    }
   ],
   "source": [
    "SIE_errors"
   ]
  },
  {
   "cell_type": "code",
   "execution_count": 33,
   "metadata": {
    "scrolled": false
   },
   "outputs": [
    {
     "data": {
      "image/png": "[encoded data removed]",
      "text/plain": [
       "<Figure size 432x288 with 1 Axes>"
      ]
     },
     "metadata": {
      "needs_background": "light"
     },
     "output_type": "display_data"
    }
   ],
   "source": [
    "import matplotlib.pyplot as plt\n",
    "fig1 = plt.figure(1)\n",
    "ax1 = fig1.add_axes([0,0,1,1])\n",
    "foo = SIE_errors.xs('panArctic').reset_index()\n",
    "foo.plot.scatter(x='lead days',y=['SIE RMSE'],linewidth=2,linestyle='--',ax=ax1,color='r',label=['VRILES'],s=100)\n",
    "foo2 = SIE_errors_NO.xs('panArctic').reset_index()\n",
    "foo2.plot.scatter(x='lead days',y=['SIE RMSE'],linewidth=2,linestyle=':',ax=ax1,label=['NO VRILES'],s=100)\n",
    "ax1.set_title('Predictions of panArctic anomalous SIE using a 10-year rolling climatology (common reforecast)')\n",
    "ax1.grid()\n",
    "#fig1.savefig('../../SIE_anom_test_damped_anom_clim_rolling_COMMON_REFORECAST.png',format='png',bbox_inches='tight')"
   ]
  },
  {
   "cell_type": "markdown",
   "metadata": {},
   "source": [
    "Replace <code>SIE anom RMSE</code> and <code>SIE anom MAE</code> in <code>SIE_errors</code> with corresponding entries from  <code>SIE_anom_errors</code> (and same for raw)"
   ]
  },
  {
   "cell_type": "code",
   "execution_count": null,
   "metadata": {
    "scrolled": true
   },
   "outputs": [],
   "source": [
    "SIE_errors[['SIE anom RMSE','SIE anom MAE']] = SIE_anom_errors[['SIE anom RMSE','SIE anom MAE']]\n",
    "SIE_raw_err['SIE anom'] = SIE_anom_raw_err['SIE anom']\n",
    "SIE_errors_NO[['SIE anom RMSE','SIE anom MAE']] = SIE_anom_errors_NO[['SIE anom RMSE','SIE anom MAE']]\n",
    "#SIE_raw_err_NO[['SIE anom']] = SIE_anom_raw_err_NO['SIE anom']"
   ]
  },
  {
   "cell_type": "code",
   "execution_count": null,
   "metadata": {},
   "outputs": [],
   "source": [
    "SIE_errors['type'] = 'VRILE days'\n",
    "SIE_errors_NO['type'] = 'no VRILE days'\n",
    "SIE_errors_all = SIE_errors.append(SIE_errors_NO)"
   ]
  },
  {
   "cell_type": "markdown",
   "metadata": {},
   "source": [
    "Save files!"
   ]
  },
  {
   "cell_type": "code",
   "execution_count": null,
   "metadata": {},
   "outputs": [],
   "source": [
    "model_name = 'DAMPED_ANOMALY'\n",
    "fdir = '/home/disk/sipn/mcmcgraw/McGraw_etal_2020/code/make_it_nice/data/{model_name}/'.format(model_name=model_name)\n",
    "if obs_name == 'NSIDC_0051':\n",
    "    fdir = fdir+'OBS_{obs_name}/'.format(obs_name=obs_name)\n",
    "if lead_weeks == True:\n",
    "    fdir = fdir+'lead_time_WEEKS/'\n",
    "if ROLL_CLIM == False:\n",
    "    fdir = fdir+'STATIC_CLIM/'\n",
    "if not os.path.exists(fdir):\n",
    "    os.makedirs(fdir)\n",
    "\n",
    "fname_save_raw = fdir+'RAW_err_{model_name}_months{seas_str}_VRILE{thresh_str}_model_clim_freq_{clim_freq_str}.csv'.format(model_name=model_name,\n",
    "                                             seas_str=seas_str,thresh_str=thresh_str,clim_freq_str=clim_freq_str)\n",
    "fname_save_RMSE = fdir+'VRILE_vs_NOVRILE_RMSE_MAE_{model_name}_months{seas_str}_VRILE{thresh_str}_model_clim_freq_{clim_freq_str}.csv'.format(model_name=model_name,\n",
    "                                             seas_str=seas_str,thresh_str=thresh_str,clim_freq_str=clim_freq_str)\n",
    "#SIE_raw_err.to_csv(fname_save_raw)\n",
    "SIE_errors_all.to_csv(fname_save_RMSE)\n",
    "print('files saved')"
   ]
  },
  {
   "cell_type": "code",
   "execution_count": null,
   "metadata": {},
   "outputs": [],
   "source": [
    "fname_save_RMSE"
   ]
  },
  {
   "cell_type": "code",
   "execution_count": null,
   "metadata": {},
   "outputs": [],
   "source": []
  },
  {
   "cell_type": "code",
   "execution_count": null,
   "metadata": {},
   "outputs": [],
   "source": []
  }
 ],
 "metadata": {
  "kernelspec": {
   "display_name": "sea_ice_variability_S2S",
   "language": "python",
   "name": "sea_ice_variability_s2s"
  },
  "language_info": {
   "codemirror_mode": {
    "name": "ipython",
    "version": 3
   },
   "file_extension": ".py",
   "mimetype": "text/x-python",
   "name": "python",
   "nbconvert_exporter": "python",
   "pygments_lexer": "ipython3",
   "version": "3.7.3"
  }
 },
 "nbformat": 4,
 "nbformat_minor": 2
}
