{
 "cells": [
  {
   "cell_type": "code",
   "execution_count": 1,
   "metadata": {},
   "outputs": [
    {
     "name": "stderr",
     "output_type": "stream",
     "text": [
      "/home/disk/sipn/mcmcgraw/anaconda3/lib/python3.7/site-packages/dask/config.py:168: YAMLLoadWarning: calling yaml.load() without Loader=... is deprecated, as the default Loader is unsafe. Please read https://msg.pyyaml.org/load for full details.\n",
      "  data = yaml.load(f.read()) or {}\n",
      "/home/disk/sipn/mcmcgraw/anaconda3/lib/python3.7/site-packages/distributed/config.py:20: YAMLLoadWarning: calling yaml.load() without Loader=... is deprecated, as the default Loader is unsafe. Please read https://msg.pyyaml.org/load for full details.\n",
      "  defaults = yaml.load(f)\n"
     ]
    }
   ],
   "source": [
    "import xarray as xr\n",
    "import numpy as np\n",
    "import os\n",
    "import matplotlib.pyplot as plt\n",
    "import pandas as pd\n",
    "import datetime\n",
    "from datetime import datetime, timedelta"
   ]
  },
  {
   "cell_type": "code",
   "execution_count": 2,
   "metadata": {},
   "outputs": [],
   "source": [
    "model_name = 'ecmwfsipn'\n",
    "model_type = 'forecast'\n",
    "no_day_change = 5\n",
    "\n",
    "\n",
    "filepath_save = '/home/disk/sipn/mcmcgraw/data/VRILE/'\n",
    "filename_full = filepath_save+'panArctic_ONLY_{model_name}_{model_type}_2018_TEST_SIE_ALL_ENS.csv'.format(model_name=model_name,\n",
    "                       model_type=model_type)\n",
    "d_SIE = pd.read_csv(filename_full)\n",
    "d_SIE_all = d_SIE.dropna()"
   ]
  },
  {
   "cell_type": "code",
   "execution_count": 3,
   "metadata": {},
   "outputs": [
    {
     "data": {
      "text/html": [
       "<div>\n",
       "<style scoped>\n",
       "    .dataframe tbody tr th:only-of-type {\n",
       "        vertical-align: middle;\n",
       "    }\n",
       "\n",
       "    .dataframe tbody tr th {\n",
       "        vertical-align: top;\n",
       "    }\n",
       "\n",
       "    .dataframe thead th {\n",
       "        text-align: right;\n",
       "    }\n",
       "</style>\n",
       "<table border=\"1\" class=\"dataframe\">\n",
       "  <thead>\n",
       "    <tr style=\"text-align: right;\">\n",
       "      <th></th>\n",
       "      <th>Unnamed: 0</th>\n",
       "      <th>I (init date)</th>\n",
       "      <th>V (valid date)</th>\n",
       "      <th>V_mon (valid date month)</th>\n",
       "      <th>V_yr (valid date year)</th>\n",
       "      <th>SIE</th>\n",
       "      <th>lead time (days)</th>\n",
       "      <th>ensemble</th>\n",
       "      <th>region</th>\n",
       "    </tr>\n",
       "  </thead>\n",
       "  <tbody>\n",
       "    <tr>\n",
       "      <th>61</th>\n",
       "      <td>0</td>\n",
       "      <td>2017-11-01</td>\n",
       "      <td>2018-01-01 00:00:00</td>\n",
       "      <td>1</td>\n",
       "      <td>2018</td>\n",
       "      <td>12.620556</td>\n",
       "      <td>61</td>\n",
       "      <td>1</td>\n",
       "      <td>panArctic</td>\n",
       "    </tr>\n",
       "    <tr>\n",
       "      <th>62</th>\n",
       "      <td>0</td>\n",
       "      <td>2017-11-01</td>\n",
       "      <td>2018-01-02 00:00:00</td>\n",
       "      <td>1</td>\n",
       "      <td>2018</td>\n",
       "      <td>12.619613</td>\n",
       "      <td>62</td>\n",
       "      <td>1</td>\n",
       "      <td>panArctic</td>\n",
       "    </tr>\n",
       "    <tr>\n",
       "      <th>63</th>\n",
       "      <td>0</td>\n",
       "      <td>2017-11-01</td>\n",
       "      <td>2018-01-03 00:00:00</td>\n",
       "      <td>1</td>\n",
       "      <td>2018</td>\n",
       "      <td>12.652253</td>\n",
       "      <td>63</td>\n",
       "      <td>1</td>\n",
       "      <td>panArctic</td>\n",
       "    </tr>\n",
       "    <tr>\n",
       "      <th>64</th>\n",
       "      <td>0</td>\n",
       "      <td>2017-11-01</td>\n",
       "      <td>2018-01-04 00:00:00</td>\n",
       "      <td>1</td>\n",
       "      <td>2018</td>\n",
       "      <td>12.671966</td>\n",
       "      <td>64</td>\n",
       "      <td>1</td>\n",
       "      <td>panArctic</td>\n",
       "    </tr>\n",
       "    <tr>\n",
       "      <th>65</th>\n",
       "      <td>0</td>\n",
       "      <td>2017-11-01</td>\n",
       "      <td>2018-01-05 00:00:00</td>\n",
       "      <td>1</td>\n",
       "      <td>2018</td>\n",
       "      <td>12.720167</td>\n",
       "      <td>65</td>\n",
       "      <td>1</td>\n",
       "      <td>panArctic</td>\n",
       "    </tr>\n",
       "  </tbody>\n",
       "</table>\n",
       "</div>"
      ],
      "text/plain": [
       "    Unnamed: 0 I (init date)       V (valid date)  V_mon (valid date month)  \\\n",
       "61           0    2017-11-01  2018-01-01 00:00:00                         1   \n",
       "62           0    2017-11-01  2018-01-02 00:00:00                         1   \n",
       "63           0    2017-11-01  2018-01-03 00:00:00                         1   \n",
       "64           0    2017-11-01  2018-01-04 00:00:00                         1   \n",
       "65           0    2017-11-01  2018-01-05 00:00:00                         1   \n",
       "\n",
       "    V_yr (valid date year)        SIE  lead time (days)  ensemble     region  \n",
       "61                    2018  12.620556                61         1  panArctic  \n",
       "62                    2018  12.619613                62         1  panArctic  \n",
       "63                    2018  12.652253                63         1  panArctic  \n",
       "64                    2018  12.671966                64         1  panArctic  \n",
       "65                    2018  12.720167                65         1  panArctic  "
      ]
     },
     "execution_count": 3,
     "metadata": {},
     "output_type": "execute_result"
    }
   ],
   "source": [
    "regions = d_SIE_all['region'].unique().tolist() #list unique regions\n",
    "lead_days = d_SIE_all['lead time (days)'].unique().tolist()\n",
    "#print(lead_days)\n",
    "#ds_SIC_all.head()\n",
    "#toggle for SIE or change in SIE\n",
    "choose_var_model = 'SIE'\n",
    "choose_var_obs = 'SIE'\n",
    "titlename_choose_var = 'Sea ice extent'\n",
    "filename_choose_var = 'SIE'\n",
    "model_yr = pd.to_datetime(d_SIE_all['V (valid date)']).dt.year\n",
    "yr_sel = 2018\n",
    "f_yr_model = np.where(model_yr==yr_sel)\n",
    "ds_SIC_all = d_SIE_all.loc[f_yr_model]\n",
    "ds_SIC_all.head()"
   ]
  },
  {
   "cell_type": "markdown",
   "metadata": {},
   "source": [
    "Initialize dataframe to keep track of bias.  Bias is defined as Model - Obs.  So a negative value means model SIE is less than observed; positive value means model SIE is greater than observed. \n"
   ]
  },
  {
   "cell_type": "code",
   "execution_count": 4,
   "metadata": {},
   "outputs": [],
   "source": [
    "mons_vec = np.arange(1,13)\n",
    "mon_tile = np.tile(mons_vec,len(regions))\n",
    "df_bias = pd.DataFrame(columns=['SIE bias','month','region'])\n",
    "df_bias['month'] = mon_tile\n",
    "\n",
    "fpath_save_im = '/home/disk/sipn/mcmcgraw/figures/VRILE_v2/sea_ice_seas_cycle/'"
   ]
  },
  {
   "cell_type": "markdown",
   "metadata": {},
   "source": [
    "Load observations from NSIDC "
   ]
  },
  {
   "cell_type": "code",
   "execution_count": 6,
   "metadata": {},
   "outputs": [],
   "source": [
    "#%% Load obs\n",
    "obs_name = 'NSIDC_0079'\n",
    "obs_type = 'sipn_nc_yearly_agg'\n",
    "obs_filename = '/home/disk/sipn/mcmcgraw/data/VRILE/{model_name}_{model_type}_SIE_d_SIE_{d_days}day_change_lead_time_ALL_REGIONS_ALL_ENS.csv'.format(model_name=obs_name,\n",
    "                       model_type=obs_type,d_days=no_day_change)\n",
    "SIE_obs = pd.read_csv(obs_filename)\n",
    "SIE_obs = SIE_obs.dropna()\n",
    "SIE_obs.head()\n",
    "obs_yr = pd.to_datetime(SIE_obs['V (valid date)']).dt.year\n",
    "obs_mon = pd.to_datetime(SIE_obs['V (valid date)']).dt.month\n",
    "#yr_sel = 2018\n",
    "#yr_vec = np.arange(yrmin,yrmax)\n",
    "f_yr_obs = np.where(obs_yr==yr_sel) \n",
    "SIE_obs_trim = SIE_obs.loc[f_yr_obs]"
   ]
  },
  {
   "cell_type": "code",
   "execution_count": 14,
   "metadata": {},
   "outputs": [
    {
     "name": "stdout",
     "output_type": "stream",
     "text": [
      "running region panArctic\n"
     ]
    }
   ],
   "source": [
    "\n",
    "#reg_ind_sel = 0\n",
    "#region_sel = regions[reg_ind_sel]\n",
    "region_sel = 'panArctic'\n",
    "#bias_save_ind = reg_ind_sel*12 + np.arange(0,12)\n",
    "#df_bias.loc[bias_save_ind,'region'] = region_sel\n",
    "#print(df_bias)\n",
    "print('running region {region}'.format(region=region_sel))\n",
    "SIC_reg_group = ds_SIC_all.groupby(['region'])\n",
    "SIC_reg_sel = SIC_reg_group.get_group(region_sel)\n",
    "#Now group by lead time\n",
    "lead_ind_sel = 1\n",
    "SIC_lead_group = SIC_reg_sel.groupby(['lead time (days)'])\n",
    "SIC_lead_sel = SIC_lead_group.get_group(lead_ind_sel)"
   ]
  },
  {
   "cell_type": "markdown",
   "metadata": {},
   "source": [
    "Seasonal cycle (group by valid dates)"
   ]
  },
  {
   "cell_type": "code",
   "execution_count": 15,
   "metadata": {},
   "outputs": [
    {
     "name": "stderr",
     "output_type": "stream",
     "text": [
      "/home/disk/sipn/mcmcgraw/anaconda3/lib/python3.7/site-packages/ipykernel_launcher.py:4: SettingWithCopyWarning: \n",
      "A value is trying to be set on a copy of a slice from a DataFrame.\n",
      "Try using .loc[row_indexer,col_indexer] = value instead\n",
      "\n",
      "See the caveats in the documentation: http://pandas.pydata.org/pandas-docs/stable/indexing.html#indexing-view-versus-copy\n",
      "  after removing the cwd from sys.path.\n"
     ]
    }
   ],
   "source": [
    "valid_dates = pd.to_datetime(SIC_lead_sel['V (valid date)'])\n",
    "valid_dates_month = pd.to_datetime(SIC_lead_sel['V (valid date)']).dt.month\n",
    "SIC_mon_sel = SIC_lead_sel\n",
    "SIC_mon_sel['valid date month'] = valid_dates_month"
   ]
  },
  {
   "cell_type": "markdown",
   "metadata": {},
   "source": [
    "Plot seasonal cycle of model data--this looks better than the reforecasts (although it's only one year)"
   ]
  },
  {
   "cell_type": "code",
   "execution_count": 16,
   "metadata": {},
   "outputs": [
    {
     "data": {
      "text/plain": [
       "Text(0.5, 1.0, '2018 Sea ice extent, panArctic (ecmwfsipn forecast), lead days: 1')"
      ]
     },
     "execution_count": 16,
     "metadata": {},
     "output_type": "execute_result"
    },
    {
     "data": {
      "image/png": "[encoded data removed]",
      "text/plain": [
       "<Figure size 432x288 with 1 Axes>"
      ]
     },
     "metadata": {
      "needs_background": "light"
     },
     "output_type": "display_data"
    }
   ],
   "source": [
    "import seaborn as sns\n",
    "\n",
    "SIC_mon_group = SIC_mon_sel.groupby(['valid date month'])\n",
    "fig1 = plt.figure(1)\n",
    "ax1=sns.boxplot(x='valid date month',y=choose_var_model,data=SIC_mon_sel)\n",
    "ax1.set_xlabel('Month',fontsize=13)\n",
    "ax1.set_ylabel('Sea Ice Extent ($10^6 km^2$)',fontsize=13)\n",
    "ax1.set_xticklabels(['J','F','M','A','M','J','J','A','S','O','N','D'])\n",
    "ax1.set_title('{yr_choose} {title_var}, {region} ({model_name} {model_type}), lead days: {lead_day}'.format(yr_choose=yr_sel,title_var=titlename_choose_var,\n",
    "              region=region_sel,\n",
    "              model_name=model_name,model_type=model_type,lead_day=lead_ind_sel),fontsize=14)"
   ]
  },
  {
   "cell_type": "markdown",
   "metadata": {},
   "source": [
    "Now put obs and model side by side.  First group model data by region and date"
   ]
  },
  {
   "cell_type": "code",
   "execution_count": 17,
   "metadata": {},
   "outputs": [
    {
     "name": "stdout",
     "output_type": "stream",
     "text": [
      "running region panArctic\n"
     ]
    }
   ],
   "source": [
    "SIE_obs_reg = SIE_obs_trim.groupby(['region'])\n",
    "SIE_obs_reg_sel = SIE_obs_reg.get_group(region_sel)\n",
    "print('running region {region}'.format(region=region_sel))\n",
    "SIE_obs_mon = SIE_obs_reg_sel.groupby(['V_mon (valid date month)'])\n",
    "SIE_obs_mon_mean = SIE_obs_mon.median()\n",
    "stat = 'median'\n",
    "#print(SIE_obs_mon_mean)\n",
    "SIE_seas = SIE_obs_mon_mean[choose_var_obs]"
   ]
  },
  {
   "cell_type": "code",
   "execution_count": 18,
   "metadata": {},
   "outputs": [
    {
     "data": {
      "text/plain": [
       "Text(0.5, 1.0, '2018 Sea ice extent, panArctic, lead days: 1')"
      ]
     },
     "execution_count": 18,
     "metadata": {},
     "output_type": "execute_result"
    },
    {
     "data": {
      "image/png": "[encoded data removed]",
      "text/plain": [
       "<Figure size 432x288 with 1 Axes>"
      ]
     },
     "metadata": {
      "needs_background": "light"
     },
     "output_type": "display_data"
    }
   ],
   "source": [
    "model_double_plot = pd.DataFrame(columns=['SIE','month','model?'])\n",
    "model_double_plot['SIE'] = SIC_mon_sel[choose_var_model]\n",
    "model_double_plot['month'] = SIC_mon_sel['valid date month']\n",
    "model_double_plot['model?'] = 'model'\n",
    "\n",
    "obs_double_plot = pd.DataFrame(columns=['SIE','month','model?'])\n",
    "obs_double_plot['SIE'] = SIE_obs_reg_sel[choose_var_obs]\n",
    "obs_double_plot['month'] = SIE_obs_reg_sel['V_mon (valid date month)'].astype(np.int64)\n",
    "obs_double_plot['model?'] = 'obs'\n",
    "\n",
    "df_double_plot = pd.concat([model_double_plot,obs_double_plot],axis=0)\n",
    "fig5 = plt.figure(5)\n",
    "ax5 = sns.boxplot(x='month',y='SIE',hue='model?',data=df_double_plot)\n",
    "ax5.set_xlabel('Month',fontsize=13)\n",
    "ax5.set_xticklabels(['J','F','M','A','M','J','J','A','S','O','N','D'],fontsize=12)\n",
    "ax5.set_ylabel('Sea ice extent ($10^6 km^2$)',fontsize=13)\n",
    "ax5.set_title('{yr_sel} {titlename}, {region}, lead days: {lead_day}'.format(yr_sel=yr_sel,titlename=titlename_choose_var,\n",
    "              region=region_sel,lead_day=lead_ind_sel),fontsize=14)"
   ]
  },
  {
   "cell_type": "code",
   "execution_count": null,
   "metadata": {},
   "outputs": [],
   "source": []
  },
  {
   "cell_type": "code",
   "execution_count": null,
   "metadata": {},
   "outputs": [],
   "source": []
  }
 ],
 "metadata": {
  "kernelspec": {
   "display_name": "Python 3",
   "language": "python",
   "name": "python3"
  },
  "language_info": {
   "codemirror_mode": {
    "name": "ipython",
    "version": 3
   },
   "file_extension": ".py",
   "mimetype": "text/x-python",
   "name": "python",
   "nbconvert_exporter": "python",
   "pygments_lexer": "ipython3",
   "version": "3.7.3"
  }
 },
 "nbformat": 4,
 "nbformat_minor": 2
}
