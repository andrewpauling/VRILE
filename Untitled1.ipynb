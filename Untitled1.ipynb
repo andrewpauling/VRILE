{
 "cells": [
  {
   "cell_type": "code",
   "execution_count": 10,
   "metadata": {},
   "outputs": [
    {
     "name": "stdout",
     "output_type": "stream",
     "text": [
      "/home/disk/sipn/nicway/data/model/ecmwf/reforecast/sipn_nc/\n",
      "<xarray.Dataset>\n",
      "Dimensions:    (ensemble: 10, fore_time: 46, init_time: 2080, ni: 448, nj: 304)\n",
      "Coordinates:\n",
      "    lon        (nj, ni) float64 168.3 168.4 168.5 168.7 ... -9.745 -9.872 -9.999\n",
      "    lat        (nj, ni) float64 31.1 31.25 31.4 31.55 ... 34.77 34.62 34.47\n",
      "  * fore_time  (fore_time) timedelta64[ns] 0 days 1 days ... 44 days 45 days\n",
      "  * ensemble   (ensemble) int32 0 1 2 3 4 5 6 7 8 9\n",
      "  * init_time  (init_time) datetime64[ns] 1998-08-06 1998-08-09 ... 2018-08-01\n",
      "Dimensions without coordinates: ni, nj\n",
      "Data variables:\n",
      "    sic        (ensemble, init_time, fore_time, nj, ni) float64 dask.array<shape=(10, 2080, 46, 304, 448), chunksize=(10, 1, 46, 304, 448)>\n"
     ]
    }
   ],
   "source": [
    "import numpy as np\n",
    "import xarray as xr\n",
    "import datetime\n",
    "from datetime import datetime, timedelta, time\n",
    "import matplotlib.pyplot as plt\n",
    "import pandas as pd\n",
    "import scipy.stats as stats\n",
    "import os\n",
    "import csv\n",
    "\n",
    "model_name = 'ecmwf'\n",
    "f_cast = 'reforecast'\n",
    "filepath = '/home/disk/sipn/nicway/data/model/{model_name}/{f_cast}/sipn_nc/'.format(model_name=model_name,\n",
    "                                                                                    f_cast=f_cast)\n",
    "filename = xr.open_mfdataset(filepath+'/*.nc',concat_dim='init_time')\n",
    "print(filepath)\n",
    "print(filename)\n",
    "#region_names = filename.region_names\n",
    "init_time = filename.init_time\n"
   ]
  },
  {
   "cell_type": "code",
   "execution_count": null,
   "metadata": {},
   "outputs": [],
   "source": []
  }
 ],
 "metadata": {
  "kernelspec": {
   "display_name": "Python 3",
   "language": "python",
   "name": "python3"
  },
  "language_info": {
   "codemirror_mode": {
    "name": "ipython",
    "version": 3
   },
   "file_extension": ".py",
   "mimetype": "text/x-python",
   "name": "python",
   "nbconvert_exporter": "python",
   "pygments_lexer": "ipython3",
   "version": "3.7.3"
  }
 },
 "nbformat": 4,
 "nbformat_minor": 2
}
