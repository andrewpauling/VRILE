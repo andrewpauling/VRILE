{
 "cells": [
  {
   "cell_type": "code",
   "execution_count": 1,
   "metadata": {},
   "outputs": [
    {
     "name": "stderr",
     "output_type": "stream",
     "text": [
      "/home/disk/sipn/mcmcgraw/anaconda3/lib/python3.7/site-packages/dask/config.py:168: YAMLLoadWarning: calling yaml.load() without Loader=... is deprecated, as the default Loader is unsafe. Please read https://msg.pyyaml.org/load for full details.\n",
      "  data = yaml.load(f.read()) or {}\n",
      "/home/disk/sipn/mcmcgraw/anaconda3/lib/python3.7/site-packages/distributed/config.py:20: YAMLLoadWarning: calling yaml.load() without Loader=... is deprecated, as the default Loader is unsafe. Please read https://msg.pyyaml.org/load for full details.\n",
      "  defaults = yaml.load(f)\n"
     ]
    }
   ],
   "source": [
    "import xarray as xr\n",
    "import numpy as np\n",
    "import os\n",
    "import matplotlib.pyplot as plt\n",
    "import pandas as pd\n",
    "import datetime\n",
    "from datetime import datetime, timedelta"
   ]
  },
  {
   "cell_type": "markdown",
   "metadata": {},
   "source": [
    "Load reforecasts (1993-2016) and forecasts (2017-2019)"
   ]
  },
  {
   "cell_type": "code",
   "execution_count": 2,
   "metadata": {},
   "outputs": [
    {
     "data": {
      "text/html": [
       "<div>\n",
       "<style scoped>\n",
       "    .dataframe tbody tr th:only-of-type {\n",
       "        vertical-align: middle;\n",
       "    }\n",
       "\n",
       "    .dataframe tbody tr th {\n",
       "        vertical-align: top;\n",
       "    }\n",
       "\n",
       "    .dataframe thead th {\n",
       "        text-align: right;\n",
       "    }\n",
       "</style>\n",
       "<table border=\"1\" class=\"dataframe\">\n",
       "  <thead>\n",
       "    <tr style=\"text-align: right;\">\n",
       "      <th></th>\n",
       "      <th>Unnamed: 0</th>\n",
       "      <th>I (init date)</th>\n",
       "      <th>V (valid date)</th>\n",
       "      <th>SIE</th>\n",
       "      <th>lead time (days)</th>\n",
       "      <th>d_SIE (V - I)</th>\n",
       "      <th>ensemble</th>\n",
       "      <th>region</th>\n",
       "    </tr>\n",
       "  </thead>\n",
       "  <tbody>\n",
       "    <tr>\n",
       "      <th>0</th>\n",
       "      <td>0</td>\n",
       "      <td>1993-01-01</td>\n",
       "      <td>1993-01-03</td>\n",
       "      <td>13.261036</td>\n",
       "      <td>2.0</td>\n",
       "      <td>0.046306</td>\n",
       "      <td>1.0</td>\n",
       "      <td>panArctic</td>\n",
       "    </tr>\n",
       "    <tr>\n",
       "      <th>1</th>\n",
       "      <td>1</td>\n",
       "      <td>1993-01-01</td>\n",
       "      <td>1993-01-04</td>\n",
       "      <td>13.268475</td>\n",
       "      <td>3.0</td>\n",
       "      <td>-0.003511</td>\n",
       "      <td>1.0</td>\n",
       "      <td>panArctic</td>\n",
       "    </tr>\n",
       "    <tr>\n",
       "      <th>2</th>\n",
       "      <td>2</td>\n",
       "      <td>1993-01-01</td>\n",
       "      <td>1993-01-05</td>\n",
       "      <td>13.230590</td>\n",
       "      <td>4.0</td>\n",
       "      <td>-0.003011</td>\n",
       "      <td>1.0</td>\n",
       "      <td>panArctic</td>\n",
       "    </tr>\n",
       "    <tr>\n",
       "      <th>3</th>\n",
       "      <td>3</td>\n",
       "      <td>1993-01-01</td>\n",
       "      <td>1993-01-06</td>\n",
       "      <td>13.224993</td>\n",
       "      <td>5.0</td>\n",
       "      <td>0.020101</td>\n",
       "      <td>1.0</td>\n",
       "      <td>panArctic</td>\n",
       "    </tr>\n",
       "    <tr>\n",
       "      <th>4</th>\n",
       "      <td>4</td>\n",
       "      <td>1993-01-01</td>\n",
       "      <td>1993-01-07</td>\n",
       "      <td>13.258025</td>\n",
       "      <td>6.0</td>\n",
       "      <td>0.077908</td>\n",
       "      <td>1.0</td>\n",
       "      <td>panArctic</td>\n",
       "    </tr>\n",
       "  </tbody>\n",
       "</table>\n",
       "</div>"
      ],
      "text/plain": [
       "   Unnamed: 0 I (init date) V (valid date)        SIE  lead time (days)  \\\n",
       "0           0    1993-01-01     1993-01-03  13.261036               2.0   \n",
       "1           1    1993-01-01     1993-01-04  13.268475               3.0   \n",
       "2           2    1993-01-01     1993-01-05  13.230590               4.0   \n",
       "3           3    1993-01-01     1993-01-06  13.224993               5.0   \n",
       "4           4    1993-01-01     1993-01-07  13.258025               6.0   \n",
       "\n",
       "   d_SIE (V - I)  ensemble     region  \n",
       "0       0.046306       1.0  panArctic  \n",
       "1      -0.003511       1.0  panArctic  \n",
       "2      -0.003011       1.0  panArctic  \n",
       "3       0.020101       1.0  panArctic  \n",
       "4       0.077908       1.0  panArctic  "
      ]
     },
     "execution_count": 2,
     "metadata": {},
     "output_type": "execute_result"
    }
   ],
   "source": [
    "model_name = 'ecmwfsipn'\n",
    "model_type = 'reforecast'\n",
    "no_day_change = 5\n",
    "\n",
    "filepath_save = '/home/disk/sipn/mcmcgraw/data/VRILE/'\n",
    "filename_full = filepath_save+'{model_name}_{model_type}_SIE_d_SIE_{d_days}day_change_lead_time_ALL_REGIONS_ALL_ENS.csv'.format(model_name=model_name,\n",
    "                       model_type=model_type,d_days=no_day_change)\n",
    "d_SIE = pd.read_csv(filename_full)\n",
    "d_SIE_all = d_SIE.dropna()\n",
    "d_SIE_all.head()"
   ]
  },
  {
   "cell_type": "code",
   "execution_count": 5,
   "metadata": {},
   "outputs": [
    {
     "data": {
      "text/html": [
       "<div>\n",
       "<style scoped>\n",
       "    .dataframe tbody tr th:only-of-type {\n",
       "        vertical-align: middle;\n",
       "    }\n",
       "\n",
       "    .dataframe tbody tr th {\n",
       "        vertical-align: top;\n",
       "    }\n",
       "\n",
       "    .dataframe thead th {\n",
       "        text-align: right;\n",
       "    }\n",
       "</style>\n",
       "<table border=\"1\" class=\"dataframe\">\n",
       "  <thead>\n",
       "    <tr style=\"text-align: right;\">\n",
       "      <th></th>\n",
       "      <th>Unnamed: 0</th>\n",
       "      <th>I (init date)</th>\n",
       "      <th>V (valid date)</th>\n",
       "      <th>SIE</th>\n",
       "      <th>lead time (days)</th>\n",
       "      <th>d_SIE (V - I)</th>\n",
       "      <th>ensemble</th>\n",
       "      <th>region</th>\n",
       "    </tr>\n",
       "  </thead>\n",
       "  <tbody>\n",
       "    <tr>\n",
       "      <th>0</th>\n",
       "      <td>0</td>\n",
       "      <td>2017-11-01</td>\n",
       "      <td>2017-11-03 00:00:00</td>\n",
       "      <td>7.919834</td>\n",
       "      <td>2.0</td>\n",
       "      <td>0.327587</td>\n",
       "      <td>1.0</td>\n",
       "      <td>panArctic</td>\n",
       "    </tr>\n",
       "    <tr>\n",
       "      <th>1</th>\n",
       "      <td>0</td>\n",
       "      <td>2017-11-01</td>\n",
       "      <td>2017-11-04 00:00:00</td>\n",
       "      <td>8.014647</td>\n",
       "      <td>3.0</td>\n",
       "      <td>0.354839</td>\n",
       "      <td>1.0</td>\n",
       "      <td>panArctic</td>\n",
       "    </tr>\n",
       "    <tr>\n",
       "      <th>2</th>\n",
       "      <td>0</td>\n",
       "      <td>2017-11-01</td>\n",
       "      <td>2017-11-05 00:00:00</td>\n",
       "      <td>8.112004</td>\n",
       "      <td>4.0</td>\n",
       "      <td>0.298671</td>\n",
       "      <td>1.0</td>\n",
       "      <td>panArctic</td>\n",
       "    </tr>\n",
       "    <tr>\n",
       "      <th>3</th>\n",
       "      <td>0</td>\n",
       "      <td>2017-11-01</td>\n",
       "      <td>2017-11-06 00:00:00</td>\n",
       "      <td>8.186263</td>\n",
       "      <td>5.0</td>\n",
       "      <td>0.298036</td>\n",
       "      <td>1.0</td>\n",
       "      <td>panArctic</td>\n",
       "    </tr>\n",
       "    <tr>\n",
       "      <th>4</th>\n",
       "      <td>0</td>\n",
       "      <td>2017-11-01</td>\n",
       "      <td>2017-11-07 00:00:00</td>\n",
       "      <td>8.218505</td>\n",
       "      <td>6.0</td>\n",
       "      <td>0.269563</td>\n",
       "      <td>1.0</td>\n",
       "      <td>panArctic</td>\n",
       "    </tr>\n",
       "  </tbody>\n",
       "</table>\n",
       "</div>"
      ],
      "text/plain": [
       "   Unnamed: 0 I (init date)       V (valid date)       SIE  lead time (days)  \\\n",
       "0           0    2017-11-01  2017-11-03 00:00:00  7.919834               2.0   \n",
       "1           0    2017-11-01  2017-11-04 00:00:00  8.014647               3.0   \n",
       "2           0    2017-11-01  2017-11-05 00:00:00  8.112004               4.0   \n",
       "3           0    2017-11-01  2017-11-06 00:00:00  8.186263               5.0   \n",
       "4           0    2017-11-01  2017-11-07 00:00:00  8.218505               6.0   \n",
       "\n",
       "   d_SIE (V - I)  ensemble     region  \n",
       "0       0.327587       1.0  panArctic  \n",
       "1       0.354839       1.0  panArctic  \n",
       "2       0.298671       1.0  panArctic  \n",
       "3       0.298036       1.0  panArctic  \n",
       "4       0.269563       1.0  panArctic  "
      ]
     },
     "execution_count": 5,
     "metadata": {},
     "output_type": "execute_result"
    }
   ],
   "source": [
    "#model_type_2 = 'forecast'\n",
    "#filename_full_2 = filepath_save+'{model_name}_{model_type}_SIE_d_SIE_{d_days}day_change_lead_time_ALL_REGIONS_ALL_ENS.csv'.format(model_name=model_name,\n",
    "                       model_type=model_type_2,d_days=no_day_change)\n",
    "#d_SIE_forecast = pd.read_csv(filename_full_2)\n",
    "#d_SIE_forecast_trim = d_SIE_forecast.dropna()\n",
    "#d_SIE_forecast_trim = d_SIE_forecast_trim.drop(columns=['V_mon (valid date month)','V_yr (valid date year)'])\n",
    "#d_SIE_forecast_trim.rename(columns={'d_SIC (V - I)':'d_SIE (V - I)'},inplace=True)\n",
    "#d_SIE_forecast_trim.head()"
   ]
  },
  {
   "cell_type": "markdown",
   "metadata": {},
   "source": [
    "Append forecast dataframe to reforecast"
   ]
  },
  {
   "cell_type": "code",
   "execution_count": 3,
   "metadata": {},
   "outputs": [
    {
     "data": {
      "text/html": [
       "<div>\n",
       "<style scoped>\n",
       "    .dataframe tbody tr th:only-of-type {\n",
       "        vertical-align: middle;\n",
       "    }\n",
       "\n",
       "    .dataframe tbody tr th {\n",
       "        vertical-align: top;\n",
       "    }\n",
       "\n",
       "    .dataframe thead th {\n",
       "        text-align: right;\n",
       "    }\n",
       "</style>\n",
       "<table border=\"1\" class=\"dataframe\">\n",
       "  <thead>\n",
       "    <tr style=\"text-align: right;\">\n",
       "      <th></th>\n",
       "      <th>Unnamed: 0</th>\n",
       "      <th>I (init date)</th>\n",
       "      <th>V (valid date)</th>\n",
       "      <th>SIE</th>\n",
       "      <th>lead time (days)</th>\n",
       "      <th>d_SIE (V - I)</th>\n",
       "      <th>ensemble</th>\n",
       "      <th>region</th>\n",
       "    </tr>\n",
       "  </thead>\n",
       "  <tbody>\n",
       "    <tr>\n",
       "      <th>26315895</th>\n",
       "      <td>5270</td>\n",
       "      <td>2016-12-01</td>\n",
       "      <td>2017-06-27</td>\n",
       "      <td>2.853453</td>\n",
       "      <td>208.0</td>\n",
       "      <td>-0.031644</td>\n",
       "      <td>25.0</td>\n",
       "      <td>East-Siberian-Beaufort-Chukchi</td>\n",
       "    </tr>\n",
       "    <tr>\n",
       "      <th>26315896</th>\n",
       "      <td>5271</td>\n",
       "      <td>2016-12-01</td>\n",
       "      <td>2017-06-28</td>\n",
       "      <td>2.838418</td>\n",
       "      <td>209.0</td>\n",
       "      <td>-0.049046</td>\n",
       "      <td>25.0</td>\n",
       "      <td>East-Siberian-Beaufort-Chukchi</td>\n",
       "    </tr>\n",
       "    <tr>\n",
       "      <th>26315897</th>\n",
       "      <td>5272</td>\n",
       "      <td>2016-12-01</td>\n",
       "      <td>2017-06-29</td>\n",
       "      <td>2.834725</td>\n",
       "      <td>210.0</td>\n",
       "      <td>-0.059213</td>\n",
       "      <td>25.0</td>\n",
       "      <td>East-Siberian-Beaufort-Chukchi</td>\n",
       "    </tr>\n",
       "    <tr>\n",
       "      <th>26315898</th>\n",
       "      <td>5273</td>\n",
       "      <td>2016-12-01</td>\n",
       "      <td>2017-06-30</td>\n",
       "      <td>2.809419</td>\n",
       "      <td>211.0</td>\n",
       "      <td>-0.036510</td>\n",
       "      <td>25.0</td>\n",
       "      <td>East-Siberian-Beaufort-Chukchi</td>\n",
       "    </tr>\n",
       "    <tr>\n",
       "      <th>26315899</th>\n",
       "      <td>5274</td>\n",
       "      <td>2016-12-01</td>\n",
       "      <td>2017-07-01</td>\n",
       "      <td>2.794239</td>\n",
       "      <td>212.0</td>\n",
       "      <td>-0.031514</td>\n",
       "      <td>25.0</td>\n",
       "      <td>East-Siberian-Beaufort-Chukchi</td>\n",
       "    </tr>\n",
       "  </tbody>\n",
       "</table>\n",
       "</div>"
      ],
      "text/plain": [
       "          Unnamed: 0 I (init date) V (valid date)       SIE  lead time (days)  \\\n",
       "26315895        5270    2016-12-01     2017-06-27  2.853453             208.0   \n",
       "26315896        5271    2016-12-01     2017-06-28  2.838418             209.0   \n",
       "26315897        5272    2016-12-01     2017-06-29  2.834725             210.0   \n",
       "26315898        5273    2016-12-01     2017-06-30  2.809419             211.0   \n",
       "26315899        5274    2016-12-01     2017-07-01  2.794239             212.0   \n",
       "\n",
       "          d_SIE (V - I)  ensemble                          region  \n",
       "26315895      -0.031644      25.0  East-Siberian-Beaufort-Chukchi  \n",
       "26315896      -0.049046      25.0  East-Siberian-Beaufort-Chukchi  \n",
       "26315897      -0.059213      25.0  East-Siberian-Beaufort-Chukchi  \n",
       "26315898      -0.036510      25.0  East-Siberian-Beaufort-Chukchi  \n",
       "26315899      -0.031514      25.0  East-Siberian-Beaufort-Chukchi  "
      ]
     },
     "execution_count": 3,
     "metadata": {},
     "output_type": "execute_result"
    }
   ],
   "source": [
    "#d_SIE_all = d_SIE_all.append(d_SIE_forecast_trim)\n",
    "#d_SIE_all = d_SIE_all[~d_SIE_all.index.duplicated()]\n",
    "d_SIE_all.tail()"
   ]
  },
  {
   "cell_type": "markdown",
   "metadata": {},
   "source": [
    "Add UKMO data"
   ]
  },
  {
   "cell_type": "code",
   "execution_count": 5,
   "metadata": {},
   "outputs": [],
   "source": [
    "model_name2 = 'ukmo'\n",
    "filename_full2 = filepath_save+'{model_name}_{model_type}_SIE_d_SIE_{d_days}day_change_lead_time_ALL_REGIONS_ALL_ENS.csv'.format(model_name=model_name2,\n",
    "                       model_type=model_type,d_days=no_day_change)\n",
    "d_SIE2 = pd.read_csv(filename_full2)\n",
    "d_SIE2 = d_SIE2.dropna()\n",
    "#d_SIE2.head()\n"
   ]
  },
  {
   "cell_type": "markdown",
   "metadata": {},
   "source": [
    "Now load observations"
   ]
  },
  {
   "cell_type": "code",
   "execution_count": 6,
   "metadata": {},
   "outputs": [],
   "source": [
    "obs_name = 'NSIDC_0079'\n",
    "obs_type = 'sipn_nc_yearly_agg'\n",
    "obs_filename = '/home/disk/sipn/mcmcgraw/data/VRILE/{model_name}_{model_type}_SIE_d_SIE_{d_days}day_change_lead_time_ALL_REGIONS_ALL_ENS.csv'.format(model_name=obs_name,\n",
    "                       model_type=obs_type,d_days=no_day_change)\n",
    "SIE_obs = pd.read_csv(obs_filename)\n",
    "SIE_obs = SIE_obs.dropna()"
   ]
  },
  {
   "cell_type": "markdown",
   "metadata": {},
   "source": [
    "Get lists of regions and lead days"
   ]
  },
  {
   "cell_type": "code",
   "execution_count": 7,
   "metadata": {},
   "outputs": [],
   "source": [
    "regions = d_SIE_all['region'].unique().tolist() #list unique regions\n",
    "lead_days = d_SIE_all['lead time (days)'].unique().tolist() #list lead days"
   ]
  },
  {
   "cell_type": "markdown",
   "metadata": {},
   "source": [
    "Group model data by lead day and choose a lead day (here, we'll do first week, our earliest lead day)"
   ]
  },
  {
   "cell_type": "code",
   "execution_count": 10,
   "metadata": {},
   "outputs": [],
   "source": [
    "#SIE_lead_groups = d_SIE_all.groupby(['lead time (days)'])\n",
    "lead_day_sel = np.arange(0,8)\n",
    "lead_min = lead_day_sel[0]\n",
    "SIE_lead_sel = d_SIE_all.loc[d_SIE_all['lead time (days)'].isin(lead_day_sel)]\n",
    "SIE_model_dates = pd.to_datetime(SIE_lead_sel['V (valid date)'])"
   ]
  },
  {
   "cell_type": "markdown",
   "metadata": {},
   "source": [
    "Keep only observations that match dates associated with model lead times"
   ]
  },
  {
   "cell_type": "code",
   "execution_count": 11,
   "metadata": {},
   "outputs": [],
   "source": [
    "SIE_obs_dates = pd.to_datetime(SIE_obs['V (valid date)'])\n",
    "f_dates = SIE_obs_dates.isin(SIE_model_dates)\n",
    "SIE_obs_trim = SIE_obs.loc[f_dates]"
   ]
  },
  {
   "cell_type": "markdown",
   "metadata": {},
   "source": [
    "Select JJAS only"
   ]
  },
  {
   "cell_type": "code",
   "execution_count": 12,
   "metadata": {},
   "outputs": [],
   "source": [
    "mon_sel = [6,7,8,9]\n",
    "mon_sel_str = 'JJAS'\n",
    "SIE_model_JJAS = SIE_lead_sel.loc[pd.to_datetime(SIE_lead_sel['V (valid date)']).dt.month.isin(mon_sel)]\n",
    "SIE_obs_JJAS_trim = SIE_obs_trim.loc[pd.to_datetime(SIE_obs_trim['V (valid date)']).dt.month.isin(mon_sel)]\n",
    "SIE_obs_JJAS_all = SIE_obs.loc[pd.to_datetime(SIE_obs['V (valid date)']).dt.month.isin(mon_sel)]"
   ]
  },
  {
   "cell_type": "markdown",
   "metadata": {},
   "source": [
    "Group by region"
   ]
  },
  {
   "cell_type": "code",
   "execution_count": 27,
   "metadata": {},
   "outputs": [],
   "source": [
    "region_choose = 'panArctic'\n",
    "region_choose_ind = 0\n",
    "SIE_model_groups = SIE_model_JJAS.groupby(['region'])\n",
    "SIE_obs_trim_groups = SIE_obs_JJAS_trim.groupby(['region'])\n",
    "SIE_obs_all_groups = SIE_obs_JJAS_all.groupby(['region'])\n",
    "#\n",
    "SIE_model_sel = SIE_model_groups.get_group(region_choose)\n",
    "SIE_obs_trim_sel = SIE_obs_trim_groups.get_group(region_choose)\n",
    "SIE_obs_all_sel = SIE_obs_all_groups.get_group(region_choose)\n",
    "#SIE_obs_trim_sel\n",
    "#\n",
    "#SIE_model_ens = SIE_model_sel.groupby(['ensemble'])\n",
    "#SIE_ens_mean = SIE_model_ens.mean()"
   ]
  },
  {
   "cell_type": "markdown",
   "metadata": {},
   "source": [
    "Compare distributions of sea ice extent"
   ]
  },
  {
   "cell_type": "code",
   "execution_count": 28,
   "metadata": {},
   "outputs": [
    {
     "data": {
      "text/plain": [
       "Text(0.651, 1.8, 'obs 5th pctl: -0.491')"
      ]
     },
     "execution_count": 28,
     "metadata": {},
     "output_type": "execute_result"
    },
    {
     "data": {
      "image/png": "[encoded data removed]",
      "text/plain": [
       "<Figure size 432x288 with 1 Axes>"
      ]
     },
     "metadata": {
      "needs_background": "light"
     },
     "output_type": "display_data"
    }
   ],
   "source": [
    "bins = np.arange(0,15,0.5)\n",
    "import seaborn as sns\n",
    "fig1 = plt.figure(1)\n",
    "ax1 = fig1.add_axes([0.05,0.05,0.95,0.95])\n",
    "ax1a = sns.kdeplot(SIE_model_sel['d_SIE (V - I)'],axes=ax1,color='xkcd:royal blue',linewidth=3)\n",
    "ax1b = sns.kdeplot(SIE_obs_trim_sel['d_SIC (V - I)'],color='xkcd:brick',axes=ax1,linewidth=3)\n",
    "#ax1c = sns.kdeplot(SIE_obs_all_sel['d_SIC (V - I)'],color='xkcd:brick',linestyle='--',axes=ax1,linewidth=3)\n",
    "ax1.legend(('Model','Obs','obs_all'),fontsize=12)\n",
    "ax1.axvline(x=SIE_model_sel['d_SIE (V - I)'].quantile(0.05),color='xkcd:royal blue',linewidth=3,linestyle=':')\n",
    "ax1.axvline(x=SIE_obs_trim_sel['d_SIC (V - I)'].quantile(0.05),color='xkcd:brick',linewidth=3,linestyle=':')\n",
    "ax1.set_xlabel('5-day Change in Sea Ice Extent (10$^6$ km$^2$)',fontsize=13)\n",
    "ax1.set_ylabel('Density',fontsize=13)\n",
    "ax1.set_title('{region}, {months}, lead days: {lead_min}-{lead_max}'.format(region=region_choose,months=mon_sel_str,\n",
    "                                                                  lead_min=lead_min,lead_max=lead_day_sel[-1]),\n",
    "             fontsize=15)\n",
    "ax1.grid()\n",
    "p05_model = SIE_model_sel['d_SIE (V - I)'].quantile(0.05).round(3)\n",
    "p05_obs = SIE_obs_trim_sel['d_SIC (V - I)'].quantile(0.05).round(3)\n",
    "y_loc = 2\n",
    "x_loc = -1.5\n",
    "ax1.text(p05_model*x_loc,y_loc,'model 5th pctl: {p05}'.format(p05=p05_model),fontsize=11,color='xkcd:royal blue')\n",
    "ax1.text(p05_model*x_loc,y_loc-0.1*y_loc,'obs 5th pctl: {p05}'.format(p05=p05_obs),fontsize=11,color='xkcd:brick')"
   ]
  },
  {
   "cell_type": "code",
   "execution_count": 185,
   "metadata": {},
   "outputs": [],
   "source": [
    "fpath_save = '/home/disk/sipn/mcmcgraw/figures/VRILE_v2/histograms/compare_obs_and_model/seas_with_p05/'\n",
    "fname_save_1 = fpath_save+'{region}_{day_change}day_change_SIE_{seas}_OBS_and_model_leads_{leadmin}-{lead_max}_with_p05_{model_name}_w_FORECAST.pdf'.format(region=region_choose,\n",
    "                                                                                                                 day_change=no_day_change,\n",
    "                                                                                                                 seas=mon_sel_str,\n",
    "                                                                                                                 leadmin=lead_min,\n",
    "                                                                                                                 lead_max=lead_day_sel[-1],   \n",
    "                                                                                                                 model_name=model_name)\n",
    "fig1.savefig(fname_save_1,format='pdf',bbox_inches='tight')"
   ]
  },
  {
   "cell_type": "code",
   "execution_count": 15,
   "metadata": {},
   "outputs": [
    {
     "name": "stdout",
     "output_type": "stream",
     "text": [
      "model  -0.11\n",
      "obs trim  -0.17316395674743681\n",
      "obs all  -0.16993590996093771\n"
     ]
    }
   ],
   "source": [
    "print('model ',SIE_model_sel['d_SIE (V - I)'].quantile(0.05).round(2))\n",
    "print('obs trim ',SIE_obs_trim_sel['d_SIC (V - I)'].quantile(0.05))\n",
    "print('obs all ',SIE_obs_all_sel['d_SIC (V - I)'].quantile(0.05))"
   ]
  },
  {
   "cell_type": "code",
   "execution_count": 257,
   "metadata": {},
   "outputs": [],
   "source": [
    "SIE_model_match_obs = SIE_model_sel.loc[SIE_model_sel['d_SIE (V - I)'] < SIE_obs_trim_sel['d_SIC (V - I)'].quantile(0.05)]"
   ]
  },
  {
   "cell_type": "code",
   "execution_count": null,
   "metadata": {},
   "outputs": [],
   "source": []
  },
  {
   "cell_type": "code",
   "execution_count": null,
   "metadata": {},
   "outputs": [],
   "source": []
  }
 ],
 "metadata": {
  "kernelspec": {
   "display_name": "Python 3",
   "language": "python",
   "name": "python3"
  },
  "language_info": {
   "codemirror_mode": {
    "name": "ipython",
    "version": 3
   },
   "file_extension": ".py",
   "mimetype": "text/x-python",
   "name": "python",
   "nbconvert_exporter": "python",
   "pygments_lexer": "ipython3",
   "version": "3.7.3"
  }
 },
 "nbformat": 4,
 "nbformat_minor": 2
}
