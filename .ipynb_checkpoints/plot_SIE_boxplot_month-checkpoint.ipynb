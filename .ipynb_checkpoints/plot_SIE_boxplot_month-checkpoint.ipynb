{
 "cells": [
  {
   "cell_type": "code",
   "execution_count": 72,
   "metadata": {},
   "outputs": [],
   "source": [
    "import xarray as xr\n",
    "import numpy as np\n",
    "import matplotlib.pyplot as plt\n",
    "import scipy.stats as stats\n",
    "import scipy.signal as signal\n",
    "import pandas as pd\n",
    "import seaborn as sns"
   ]
  },
  {
   "cell_type": "markdown",
   "metadata": {},
   "source": [
    "Import our SIE data set, which we saved as a .csv file.  Use the head command to show all of our data. "
   ]
  },
  {
   "cell_type": "code",
   "execution_count": 2,
   "metadata": {},
   "outputs": [
    {
     "data": {
      "text/html": [
       "<div>\n",
       "<style scoped>\n",
       "    .dataframe tbody tr th:only-of-type {\n",
       "        vertical-align: middle;\n",
       "    }\n",
       "\n",
       "    .dataframe tbody tr th {\n",
       "        vertical-align: top;\n",
       "    }\n",
       "\n",
       "    .dataframe thead th {\n",
       "        text-align: right;\n",
       "    }\n",
       "</style>\n",
       "<table border=\"1\" class=\"dataframe\">\n",
       "  <thead>\n",
       "    <tr style=\"text-align: right;\">\n",
       "      <th></th>\n",
       "      <th>Unnamed: 0</th>\n",
       "      <th>I (init date)</th>\n",
       "      <th>V (valid date)</th>\n",
       "      <th>SIE</th>\n",
       "      <th>lead time (days)</th>\n",
       "      <th>d_SIE (V - I)</th>\n",
       "      <th>ensemble</th>\n",
       "      <th>region</th>\n",
       "    </tr>\n",
       "  </thead>\n",
       "  <tbody>\n",
       "    <tr>\n",
       "      <th>0</th>\n",
       "      <td>0</td>\n",
       "      <td>1993-01-01</td>\n",
       "      <td>1993-01-03</td>\n",
       "      <td>13.261036</td>\n",
       "      <td>2.0</td>\n",
       "      <td>0.046306</td>\n",
       "      <td>1.0</td>\n",
       "      <td>panArctic</td>\n",
       "    </tr>\n",
       "    <tr>\n",
       "      <th>1</th>\n",
       "      <td>1</td>\n",
       "      <td>1993-01-01</td>\n",
       "      <td>1993-01-04</td>\n",
       "      <td>13.268475</td>\n",
       "      <td>3.0</td>\n",
       "      <td>-0.003511</td>\n",
       "      <td>1.0</td>\n",
       "      <td>panArctic</td>\n",
       "    </tr>\n",
       "    <tr>\n",
       "      <th>2</th>\n",
       "      <td>2</td>\n",
       "      <td>1993-01-01</td>\n",
       "      <td>1993-01-05</td>\n",
       "      <td>13.230590</td>\n",
       "      <td>4.0</td>\n",
       "      <td>-0.003011</td>\n",
       "      <td>1.0</td>\n",
       "      <td>panArctic</td>\n",
       "    </tr>\n",
       "    <tr>\n",
       "      <th>3</th>\n",
       "      <td>3</td>\n",
       "      <td>1993-01-01</td>\n",
       "      <td>1993-01-06</td>\n",
       "      <td>13.224993</td>\n",
       "      <td>5.0</td>\n",
       "      <td>0.020101</td>\n",
       "      <td>1.0</td>\n",
       "      <td>panArctic</td>\n",
       "    </tr>\n",
       "    <tr>\n",
       "      <th>4</th>\n",
       "      <td>4</td>\n",
       "      <td>1993-01-01</td>\n",
       "      <td>1993-01-07</td>\n",
       "      <td>13.258025</td>\n",
       "      <td>6.0</td>\n",
       "      <td>0.077908</td>\n",
       "      <td>1.0</td>\n",
       "      <td>panArctic</td>\n",
       "    </tr>\n",
       "  </tbody>\n",
       "</table>\n",
       "</div>"
      ],
      "text/plain": [
       "   Unnamed: 0 I (init date) V (valid date)        SIE  lead time (days)  \\\n",
       "0           0    1993-01-01     1993-01-03  13.261036               2.0   \n",
       "1           1    1993-01-01     1993-01-04  13.268475               3.0   \n",
       "2           2    1993-01-01     1993-01-05  13.230590               4.0   \n",
       "3           3    1993-01-01     1993-01-06  13.224993               5.0   \n",
       "4           4    1993-01-01     1993-01-07  13.258025               6.0   \n",
       "\n",
       "   d_SIE (V - I)  ensemble     region  \n",
       "0       0.046306       1.0  panArctic  \n",
       "1      -0.003511       1.0  panArctic  \n",
       "2      -0.003011       1.0  panArctic  \n",
       "3       0.020101       1.0  panArctic  \n",
       "4       0.077908       1.0  panArctic  "
      ]
     },
     "execution_count": 2,
     "metadata": {},
     "output_type": "execute_result"
    }
   ],
   "source": [
    "model_name = 'ecmwfsipn'\n",
    "model_type = 'reforecast'\n",
    "no_day_change = 5\n",
    "filepath = '/home/disk/sipn/mcmcgraw/data/VRILE/'\n",
    "filename = filepath+'{model_name}_{model_type}_SIE_d_SIE_{d_days}day_change_lead_time_ALL_REGIONS_ALL_ENS.csv'.format(model_name=model_name,\n",
    "                       model_type=model_type,d_days=no_day_change)\n",
    "SIE_data = pd.read_csv(filename)\n",
    "SIE_data = SIE_data.dropna()\n",
    "SIE_data.head()"
   ]
  },
  {
   "cell_type": "markdown",
   "metadata": {},
   "source": [
    "Make histograms grouped by region, lead day, and valid date. Start with regions.  Use groupby to group dataframe by regions, and unique() to get the list of regions"
   ]
  },
  {
   "cell_type": "code",
   "execution_count": 3,
   "metadata": {},
   "outputs": [],
   "source": [
    "region_names = SIE_data['region'].dropna().unique().tolist()\n",
    "region_ind_test = 15\n",
    "region_name_test = region_names[region_ind_test]\n",
    "SIE_region_groupby = SIE_data.groupby(['region'])\n",
    "SIE_by_region = SIE_region_groupby.get_group(region_name_test)"
   ]
  },
  {
   "cell_type": "markdown",
   "metadata": {},
   "source": [
    "Now select for month of valid date (JJAS for now)"
   ]
  },
  {
   "cell_type": "code",
   "execution_count": 4,
   "metadata": {
    "scrolled": true
   },
   "outputs": [],
   "source": [
    "valid_dates = pd.to_datetime(SIE_by_region['V (valid date)'])\n",
    "valid_days_months = pd.to_datetime(SIE_by_region['V (valid date)']).dt.month\n",
    "#SIE_valid_groupby = SIE_by_region.groupby(['V (valid date)'])\n",
    "month_sel = [6,7,8,9]\n",
    "month_sel_str = 'JJAS'\n",
    "#choose_by_month = SIE_data['V (valid date)'].isin((valid_days_months,month_sel))\n",
    "#print(valid_days_months)\n",
    "f_month = np.isin(valid_days_months.values,month_sel)\n",
    "SIE_month_trim = SIE_by_region.loc[f_month]"
   ]
  },
  {
   "cell_type": "markdown",
   "metadata": {},
   "source": [
    "Now, filter by lead date.  We'll start with lead times of 1-4 weeks.  Then we remove seasonality. We'll just do it by month--remove mean of all June days from each June day, etc. Add a new column to the existing dataframe with seasonal anomalies of SIE, and one with seasonal anomalies of the change in SIE"
   ]
  },
  {
   "cell_type": "code",
   "execution_count": 110,
   "metadata": {},
   "outputs": [
    {
     "name": "stderr",
     "output_type": "stream",
     "text": [
      "/home/disk/sipn/mcmcgraw/anaconda3/envs/VRILE_environment/lib/python3.7/site-packages/ipykernel_launcher.py:3: SettingWithCopyWarning: \n",
      "A value is trying to be set on a copy of a slice from a DataFrame.\n",
      "Try using .loc[row_indexer,col_indexer] = value instead\n",
      "\n",
      "See the caveats in the documentation: http://pandas.pydata.org/pandas-docs/stable/user_guide/indexing.html#returning-a-view-versus-a-copy\n",
      "  This is separate from the ipykernel package so we can avoid doing imports until\n",
      "/home/disk/sipn/mcmcgraw/anaconda3/envs/VRILE_environment/lib/python3.7/site-packages/ipykernel_launcher.py:4: SettingWithCopyWarning: \n",
      "A value is trying to be set on a copy of a slice from a DataFrame.\n",
      "Try using .loc[row_indexer,col_indexer] = value instead\n",
      "\n",
      "See the caveats in the documentation: http://pandas.pydata.org/pandas-docs/stable/user_guide/indexing.html#returning-a-view-versus-a-copy\n",
      "  after removing the cwd from sys.path.\n",
      "/home/disk/sipn/mcmcgraw/anaconda3/envs/VRILE_environment/lib/python3.7/site-packages/ipykernel_launcher.py:27: SettingWithCopyWarning: \n",
      "A value is trying to be set on a copy of a slice from a DataFrame.\n",
      "Try using .loc[row_indexer,col_indexer] = value instead\n",
      "\n",
      "See the caveats in the documentation: http://pandas.pydata.org/pandas-docs/stable/user_guide/indexing.html#returning-a-view-versus-a-copy\n",
      "/home/disk/sipn/mcmcgraw/anaconda3/envs/VRILE_environment/lib/python3.7/site-packages/ipykernel_launcher.py:28: SettingWithCopyWarning: \n",
      "A value is trying to be set on a copy of a slice from a DataFrame.\n",
      "Try using .loc[row_indexer,col_indexer] = value instead\n",
      "\n",
      "See the caveats in the documentation: http://pandas.pydata.org/pandas-docs/stable/user_guide/indexing.html#returning-a-view-versus-a-copy\n",
      "/home/disk/sipn/mcmcgraw/anaconda3/envs/VRILE_environment/lib/python3.7/site-packages/pandas/core/indexing.py:205: SettingWithCopyWarning: \n",
      "A value is trying to be set on a copy of a slice from a DataFrame\n",
      "\n",
      "See the caveats in the documentation: http://pandas.pydata.org/pandas-docs/stable/user_guide/indexing.html#returning-a-view-versus-a-copy\n",
      "  self._setitem_with_indexer(indexer, value)\n",
      "/home/disk/sipn/mcmcgraw/anaconda3/envs/VRILE_environment/lib/python3.7/site-packages/ipykernel_launcher.py:30: SettingWithCopyWarning: \n",
      "A value is trying to be set on a copy of a slice from a DataFrame\n",
      "\n",
      "See the caveats in the documentation: http://pandas.pydata.org/pandas-docs/stable/user_guide/indexing.html#returning-a-view-versus-a-copy\n",
      "/home/disk/sipn/mcmcgraw/anaconda3/envs/VRILE_environment/lib/python3.7/site-packages/ipykernel_launcher.py:31: SettingWithCopyWarning: \n",
      "A value is trying to be set on a copy of a slice from a DataFrame\n",
      "\n",
      "See the caveats in the documentation: http://pandas.pydata.org/pandas-docs/stable/user_guide/indexing.html#returning-a-view-versus-a-copy\n"
     ]
    }
   ],
   "source": [
    "#f_lead = SIE_month_trim.where(SIE_month_trim['lead time (days)'] == 7)\n",
    "SIE_lead_groups = SIE_month_trim.groupby(['lead time (days)'])\n",
    "SIE_month_trim['SIE (seas rem)'] = \"\"\n",
    "SIE_month_trim['d_SIE (seas rem)'] = \"\"\n",
    "lead_days_select = [7,14,21,28,35,42,49,56]\n",
    "for ilead in np.arange(0,len(lead_days_select)):\n",
    "    SIE_lead_sel = SIE_lead_groups.get_group(lead_days_select[ilead])\n",
    "    is_detrend = False\n",
    "    if is_detrend == True:\n",
    "        SIE_dt = signal.detrend(SIE_lead_sel['SIE'])\n",
    "        SIE_lead_sel['SIE'] = SIE_dt\n",
    "    SIE_seas_rem = np.array([])\n",
    "    d_SIE_seas_rem = np.array([])\n",
    "    valid_months_lead_sel = pd.to_datetime(SIE_lead_sel['V (valid date)']).dt.month\n",
    "    valid_dates_lead_sel = pd.to_datetime(SIE_lead_sel['V (valid date)'])\n",
    "    for i_SIE in np.arange(0,len(SIE_lead_sel)):\n",
    "    #i_SIE = 100\n",
    "    #print(valid_months_lead_sel.iloc[0])\n",
    "        mon_i = valid_months_lead_sel.iloc[i_SIE]\n",
    "        all_mon_i = np.where(valid_months_lead_sel == mon_i)\n",
    "        i_ice = SIE_lead_sel['SIE'].iloc[i_SIE] - SIE_lead_sel['SIE'].iloc[all_mon_i].mean()\n",
    "        i_d_ice = SIE_lead_sel['d_SIE (V - I)'].iloc[i_SIE] - SIE_lead_sel['d_SIE (V - I)'].iloc[all_mon_i].mean()\n",
    "        SIE_seas_rem = np.append(SIE_seas_rem,i_ice)\n",
    "        d_SIE_seas_rem = np.append(d_SIE_seas_rem,i_d_ice)\n",
    "    #print(SIE_seas_rem)\n",
    "    #print(d_SIE_seas_rem)\n",
    "    SIE_lead_sel['SIE (seas rem)'] = SIE_seas_rem\n",
    "    SIE_lead_sel['d_SIE (seas rem)'] = d_SIE_seas_rem\n",
    "    f_lead = SIE_month_trim.index[SIE_month_trim['lead time (days)'] == lead_days_select[ilead]]\n",
    "    SIE_month_trim['SIE (seas rem)'].loc[f_lead] = SIE_seas_rem\n",
    "    SIE_month_trim['d_SIE (seas rem)'].loc[f_lead] = d_SIE_seas_rem\n",
    "    \n",
    "    #SIE_lead_sel.head()\n",
    "#plt.plot(SIE_lead_sel['SIE'])\n",
    "#plt.plot(SIE_lead_sel['SIE'],color='r')"
   ]
  },
  {
   "cell_type": "markdown",
   "metadata": {},
   "source": [
    "Make box plots as a function of lead time "
   ]
  },
  {
   "cell_type": "code",
   "execution_count": 120,
   "metadata": {
    "scrolled": false
   },
   "outputs": [
    {
     "data": {
      "text/plain": [
       "Text(0.5, 1.0, 'Sea ice extent, JJAS, Kara-Laptev')"
      ]
     },
     "execution_count": 120,
     "metadata": {},
     "output_type": "execute_result"
    },
    {
     "data": {
      "image/png": "[encoded data removed]",
      "text/plain": [
       "<Figure size 432x288 with 1 Axes>"
      ]
     },
     "metadata": {
      "needs_background": "light"
     },
     "output_type": "display_data"
    }
   ],
   "source": [
    "f_lead_trim = SIE_month_trim['lead time (days)'].isin(lead_days_select)\n",
    "SIE_lead_trim = SIE_month_trim.loc[f_lead_trim]\n",
    "SIE_lead_trim_groups = SIE_lead_trim.groupby(['lead time (days)'])\n",
    "#Box plot properties\n",
    "medianprops = {'color': 'blue', 'linewidth': 2}\n",
    "boxprops = {'linestyle':'-', 'linewidth': 3}\n",
    "whiskerprops = {'color': 'black', 'linestyle': '-', 'linewidth': 3}\n",
    "capprops = {'color': 'black', 'linestyle': '-', 'linewidth': 3}\n",
    "flierprops = {'color': 'black', 'marker': 'o', 'markersize': 1, 'markeredgewidth': 2}\n",
    "#    \n",
    "fig1 = plt.figure(1)\n",
    "for iplt in np.arange(0,len(lead_days_select)):\n",
    "    ax1 = sns.boxplot(x=SIE_lead_trim['lead time (days)'],y=SIE_lead_trim['SIE (seas rem)'].astype(float),\n",
    "                 medianprops=medianprops,boxprops=boxprops,whiskerprops=whiskerprops,\n",
    "                      capprops=capprops,flierprops=flierprops)\n",
    "ax1.set_ylabel('Sea ice extent (10^6 km^2)')\n",
    "ax1.set_title('Sea ice extent, {seas}, {region}'.format(seas=month_sel_str,\n",
    "                                                                               region=region_name_test))"
   ]
  },
  {
   "cell_type": "code",
   "execution_count": 121,
   "metadata": {},
   "outputs": [
    {
     "data": {
      "text/plain": [
       "Text(0.5, 1.0, '5-day change in sea ice extent, JJAS, Kara-Laptev')"
      ]
     },
     "execution_count": 121,
     "metadata": {},
     "output_type": "execute_result"
    },
    {
     "data": {
      "image/png": "[encoded data removed]",
      "text/plain": [
       "<Figure size 432x288 with 1 Axes>"
      ]
     },
     "metadata": {
      "needs_background": "light"
     },
     "output_type": "display_data"
    }
   ],
   "source": [
    "fig2 = plt.figure(2)\n",
    "for iplt in np.arange(0,len(lead_days_select)):\n",
    "    ax2 = sns.boxplot(x=SIE_lead_trim['lead time (days)'],y=SIE_lead_trim['d_SIE (seas rem)'].astype(float),\n",
    "                 medianprops=medianprops,boxprops=boxprops,whiskerprops=whiskerprops,\n",
    "                      capprops=capprops,flierprops=flierprops)\n",
    "ax2.set_ylabel('Sea ice extent (10^6 km^2)')\n",
    "ax2.set_title('{day}-day change in sea ice extent, {seas}, {region}'.format(day=no_day_change,seas=month_sel_str,\n",
    "                                                                               region=region_name_test))"
   ]
  },
  {
   "cell_type": "code",
   "execution_count": null,
   "metadata": {},
   "outputs": [],
   "source": []
  }
 ],
 "metadata": {
  "kernelspec": {
   "display_name": "VRILE_environment",
   "language": "python",
   "name": "vrile_environment"
  },
  "language_info": {
   "codemirror_mode": {
    "name": "ipython",
    "version": 3
   },
   "file_extension": ".py",
   "mimetype": "text/x-python",
   "name": "python",
   "nbconvert_exporter": "python",
   "pygments_lexer": "ipython3",
   "version": "3.7.3"
  }
 },
 "nbformat": 4,
 "nbformat_minor": 2
}
