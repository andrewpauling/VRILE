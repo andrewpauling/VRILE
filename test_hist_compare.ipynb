{
 "cells": [
  {
   "cell_type": "code",
   "execution_count": 1,
   "metadata": {},
   "outputs": [
    {
     "name": "stderr",
     "output_type": "stream",
     "text": [
      "/home/disk/sipn/mcmcgraw/anaconda3/lib/python3.7/site-packages/dask/config.py:168: YAMLLoadWarning: calling yaml.load() without Loader=... is deprecated, as the default Loader is unsafe. Please read https://msg.pyyaml.org/load for full details.\n",
      "  data = yaml.load(f.read()) or {}\n",
      "/home/disk/sipn/mcmcgraw/anaconda3/lib/python3.7/site-packages/distributed/config.py:20: YAMLLoadWarning: calling yaml.load() without Loader=... is deprecated, as the default Loader is unsafe. Please read https://msg.pyyaml.org/load for full details.\n",
      "  defaults = yaml.load(f)\n"
     ]
    },
    {
     "name": "stdout",
     "output_type": "stream",
     "text": [
      "['/home/disk/sipn/mcmcgraw/python/data_VRILEs/text_files/MODELS/ecmwfsipn/reforecast/RAW_SIC_delta_5day_change_ecmwfsipn_ALL_ENS_panArctic_JJAS.csv', '/home/disk/sipn/mcmcgraw/python/data_VRILEs/text_files/MODELS/ecmwfsipn/reforecast/RAW_SIC_delta_5day_change_56dayLEAD_ecmwfsipn_ALL_ENS_panArctic_JJAS.csv', '/home/disk/sipn/mcmcgraw/python/data_VRILEs/text_files/MODELS/ecmwfsipn/reforecast/RAW_SIC_delta_5day_change_7dayLEAD_ecmwfsipn_ALL_ENS_panArctic_JJAS.csv', '/home/disk/sipn/mcmcgraw/python/data_VRILEs/text_files/MODELS/ecmwfsipn/reforecast/RAW_SIC_delta_5day_change_14dayLEAD_ecmwfsipn_ALL_ENS_panArctic_JJAS.csv']\n"
     ]
    }
   ],
   "source": [
    "import numpy as np\n",
    "import matplotlib.pyplot as plt\n",
    "import scipy.stats as stats\n",
    "import csv\n",
    "import xarray as xr\n",
    "import os\n",
    "import pandas as pd\n",
    "import glob\n",
    "\n",
    "model_name = 'ecmwfsipn'\n",
    "model_type = 'reforecast'\n",
    "filepath = '/home/disk/sipn/mcmcgraw/python/data_VRILEs/text_files/MODELS/{model_name}/{model_type}/'.format(model_name=model_name,model_type=model_type)\n",
    "filenames = glob.glob(filepath+'RAW*_pan*.csv')\n",
    "print(filenames)"
   ]
  },
  {
   "cell_type": "code",
   "execution_count": 18,
   "metadata": {},
   "outputs": [],
   "source": [
    "X_model = pd.read_csv(filenames[0])\n",
    "X_model = X_model.iloc[:,26:]"
   ]
  },
  {
   "cell_type": "code",
   "execution_count": 19,
   "metadata": {},
   "outputs": [
    {
     "name": "stdout",
     "output_type": "stream",
     "text": [
      "['/home/disk/sipn/mcmcgraw/python/data_VRILEs/text_files/OBS/NSIDC_SIE_delta_5day_change_panArctic_JJAS_NO_dt.txt']\n"
     ]
    }
   ],
   "source": [
    "fpath_obs = '/home/disk/sipn/mcmcgraw/python/data_VRILEs/text_files/OBS'\n",
    "fname_obs = glob.glob(fpath_obs+'/NSIDC_SIE_delta*pan*JJAS_NO_dt.txt')\n",
    "print(fname_obs)\n",
    "X_obs = pd.read_csv(fname_obs[0])\n"
   ]
  },
  {
   "cell_type": "code",
   "execution_count": 49,
   "metadata": {},
   "outputs": [
    {
     "name": "stdout",
     "output_type": "stream",
     "text": [
      "(3659, 1)\n",
      "(25, 50)\n"
     ]
    }
   ],
   "source": [
    "bins = np.linspace(-0.6,0.6,50)\n",
    "#Remove nans from X_obs\n",
    "X_obs = pd.DataFrame(X_obs.replace([np.inf,-np.inf],np.nan))\n",
    "X_obs.fillna(method='ffill')\n",
    "X_obs.fillna(method='bfill')\n",
    "print(X_obs.shape)\n",
    "H_obs = stats.gaussian_kde(X_obs.iloc[1:,0])\n",
    "H_obs_plot = H_obs.evaluate(bins)\n",
    "\n",
    "#Model\n",
    "no_ens = 25\n",
    "for iens in np.arange(0,no_ens):\n",
    "    X_idat = X_model.iloc[iens,:]\n",
    "    H_mod = stats.gaussian_kde(X_idat)\n",
    "    H_mod_plot = H_mod.evaluate(bins)\n",
    "    if iens == 0:\n",
    "        H_mod_ALL = H_mod\n",
    "        H_mod_plot_ALL = H_mod_plot\n",
    "    else:\n",
    "        H_mod_ALL = np.vstack((H_mod_ALL,H_mod))\n",
    "        H_mod_plot_ALL = np.vstack((H_mod_plot_ALL,H_mod_plot))\n",
    "        \n",
    "print(H_mod_plot_ALL.shape)  "
   ]
  },
  {
   "cell_type": "code",
   "execution_count": 53,
   "metadata": {},
   "outputs": [
    {
     "name": "stdout",
     "output_type": "stream",
     "text": [
      "[3.20881517e-03 6.62322354e-04 9.23798801e-04 4.04755175e-03\n",
      " 7.91087247e-03 1.48286429e-02 2.07459557e-02 2.10950246e-02\n",
      " 3.50953073e-02 6.80074299e-02 1.10156998e-01 1.36082796e-01\n",
      " 1.52199862e-01 2.15492272e-01 3.01268190e-01 3.96621217e-01\n",
      " 5.50606389e-01 7.79617646e-01 1.07072706e+00 1.45259970e+00\n",
      " 1.91107804e+00 2.36304797e+00 2.87254916e+00 3.39404846e+00\n",
      " 3.69742554e+00 3.77340774e+00 3.66325021e+00 3.38235526e+00\n",
      " 2.88180028e+00 2.29322454e+00 1.75049602e+00 1.28846951e+00\n",
      " 8.81681164e-01 5.33243582e-01 3.24014299e-01 1.93700407e-01\n",
      " 1.05375521e-01 6.04322418e-02 3.99760036e-02 2.58080081e-02\n",
      " 1.32807968e-02 7.84382365e-03 9.85031149e-03 1.11903213e-02\n",
      " 5.61426543e-03 9.08351638e-04 4.39052617e-05 6.23962175e-07\n",
      " 2.59271618e-09 3.13780854e-12]\n"
     ]
    },
    {
     "data": {
      "text/plain": [
       "[<matplotlib.lines.Line2D at 0x7f2e20e329b0>]"
      ]
     },
     "execution_count": 53,
     "metadata": {},
     "output_type": "execute_result"
    },
    {
     "data": {
      "image/png": "[encoded data removed]",
      "text/plain": [
       "<Figure size 432x288 with 1 Axes>"
      ]
     },
     "metadata": {
      "needs_background": "light"
     },
     "output_type": "display_data"
    }
   ],
   "source": [
    "print(H_obs_plot)\n",
    "fig = plt.figure()\n",
    "ax1 = fig.add_axes([0.1,0.1,0.8,0.8])\n",
    "ax1.plot(bins,H_obs_plot,'b',linewidth=2)\n",
    "ax1.plot(bins,np.nanmean(H_mod_plot_ALL,axis=0),'k')\n",
    "ax1.plot(bins,np.amax(H_mod_plot_ALL,axis=0),'xkcd:salmon')\n",
    "ax1.plot(bins,np.amin(H_mod_plot_ALL,axis=0),'xkcd:salmon')"
   ]
  },
  {
   "cell_type": "code",
   "execution_count": null,
   "metadata": {},
   "outputs": [],
   "source": []
  }
 ],
 "metadata": {
  "kernelspec": {
   "display_name": "Python 3",
   "language": "python",
   "name": "python3"
  },
  "language_info": {
   "codemirror_mode": {
    "name": "ipython",
    "version": 3
   },
   "file_extension": ".py",
   "mimetype": "text/x-python",
   "name": "python",
   "nbconvert_exporter": "python",
   "pygments_lexer": "ipython3",
   "version": "3.7.3"
  }
 },
 "nbformat": 4,
 "nbformat_minor": 2
}
