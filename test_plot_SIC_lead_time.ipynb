{
 "cells": [
  {
   "cell_type": "code",
   "execution_count": 149,
   "metadata": {},
   "outputs": [
    {
     "name": "stdout",
     "output_type": "stream",
     "text": [
      "East-Siberian-Beaufort-Chukchi\n"
     ]
    }
   ],
   "source": [
    "import xarray as xr\n",
    "import numpy as np\n",
    "import matplotlib.pyplot as plt\n",
    "import os\n",
    "import pandas as pd\n",
    "import datetime \n",
    "from datetime import datetime\n",
    "from datetime import date\n",
    "import seaborn as sns\n",
    "import scipy.stats as stats\n",
    "\n",
    "filepath = '/home/disk/sipn/mcmcgraw/data/VRILE/intermediate_data/'\n",
    "model_name = 'ecmwfsipn'\n",
    "model_type = 'reforecast'\n",
    "day_change = 5\n",
    "max_lead = 30\n",
    "\n",
    "filename = '{model_name}_{model_type}_d_SIC_{day_change}day_change_lead_time_{max_lead}days_ALL_REGIONS_ALL_ENS.csv'.format(model_name=model_name,\n",
    "                                                                                                                                 model_type=model_type,\n",
    "                                                                                                                                 day_change=day_change,\n",
    "                                                                                                                                 max_lead=max_lead)\n",
    "#filename2 = '/home/disk/sipn/mcmcgraw/data/VRILE/intermediate_data/ecmwfsipn_reforecast_d_SIC_5day_change_lead_time_30days_ALL_REGIONS_ALL_ENS.csv'\n",
    "ds_SIC_all = pd.read_csv(filepath+filename)\n",
    "#print(filepath+filename)\n",
    "#print(filename2)\n",
    "#print(ds_SIC_all)\n",
    "regions = ds_SIC_all['region']\n",
    "print(regions.iloc[220000])\n",
    "region_sel = regions.index.where(regions=='panArctic')\n",
    "ds_SIC = ds_SIC_all\n",
    "ds_SIC = ds_SIC.iloc[~np.isnan(region_sel),:]"
   ]
  },
  {
   "cell_type": "code",
   "execution_count": 129,
   "metadata": {
    "scrolled": false
   },
   "outputs": [
    {
     "name": "stderr",
     "output_type": "stream",
     "text": [
      "/home/disk/sipn/mcmcgraw/anaconda3/lib/python3.7/site-packages/ipykernel_launcher.py:5: SettingWithCopyWarning: \n",
      "A value is trying to be set on a copy of a slice from a DataFrame.\n",
      "Try using .loc[row_indexer,col_indexer] = value instead\n",
      "\n",
      "See the caveats in the documentation: http://pandas.pydata.org/pandas-docs/stable/indexing.html#indexing-view-versus-copy\n",
      "  \"\"\"\n",
      "/home/disk/sipn/mcmcgraw/anaconda3/lib/python3.7/site-packages/ipykernel_launcher.py:7: SettingWithCopyWarning: \n",
      "A value is trying to be set on a copy of a slice from a DataFrame.\n",
      "Try using .loc[row_indexer,col_indexer] = value instead\n",
      "\n",
      "See the caveats in the documentation: http://pandas.pydata.org/pandas-docs/stable/indexing.html#indexing-view-versus-copy\n",
      "  import sys\n"
     ]
    }
   ],
   "source": [
    "#Convert initialization and valid dates to datetime objects\n",
    "init_date = ds_SIC['I (init date)']\n",
    "ds_init = init_date.to_frame()\n",
    "#datetime_init = pd.to_datetime(ds_init)\n",
    "ds_SIC['I (init date)'] = pd.to_datetime(ds_SIC['I (init date)'])\n",
    "init_date2 = ds_SIC['I (init date)']\n",
    "ds_SIC['V (valid date)'] = pd.to_datetime(ds_SIC['V (valid date)'])\n",
    "#\n",
    "#ds_init = pd.to_datetime(ds_init)"
   ]
  },
  {
   "cell_type": "code",
   "execution_count": 130,
   "metadata": {
    "scrolled": true
   },
   "outputs": [
    {
     "data": {
      "image/png": "[encoded data removed]",
      "text/plain": [
       "<Figure size 432x288 with 1 Axes>"
      ]
     },
     "metadata": {
      "needs_background": "light"
     },
     "output_type": "display_data"
    }
   ],
   "source": [
    "valid_date = ds_SIC['V (valid date)']\n",
    "#valid_date_adj = valid_date.index.where(valid_date.dt.year > 1999)\n",
    "#valid_date = valid_date.where(~np.isnan(valid_date_adj))\n",
    "#print(d_SIC)\n",
    "#ds_SIC = ds_SIC.where(~pd.isna(valid_date_adj))\n",
    "dSI = ds_SIC['d_SIC (V - I)']\n",
    "#dSI = dSI.where(~np.isnan(valid_date_adj))\n",
    "#print(mon_sel_ind)\n",
    "mon_ind = np.arange(1,13)\n",
    "mon_names = ['Jan','Feb','Mar','Apr','May','Jun','Jul','Aug','Sep','Oct','Nov','Dec']\n",
    "d_SIC_mon = pd.DataFrame(columns=mon_names)\n",
    "#print(d_SIC_mon.shape)\n",
    "for imon in mon_ind:\n",
    " #   print(imon)\n",
    "    mon_sel_ind = valid_date.index.where(valid_date.dt.month == imon)# & valid_date.dt.year > 1999)\n",
    "    #select only d_SIC values where valid date is in that month\n",
    "    d_SIC_mon_sel = dSI.where(~np.isnan(mon_sel_ind))\n",
    "    #print(d_SIC_mon_sel)\n",
    "    save_ind = imon-1\n",
    "    mon_str = mon_names[imon-1]\n",
    "    #save_ind = str(save_ind)\n",
    "    d_SIC_mon[mon_str] = d_SIC_mon_sel\n",
    "#    if imon == 1:\n",
    "#        d_SIC_mon = d_SIC_mon_sel\n",
    "#    else:\n",
    " #       d_SIC_mon = np.vstack((d_SIC_mon,d_SIC_mon_sel))\n",
    "#print(d_SIC_mon)    \n",
    "medianprops = {'color': 'blue', 'linewidth': 2}\n",
    "boxprops = {'color': 'black','linestyle':'-', 'linewidth': 3}\n",
    "whiskerprops = {'color': 'black', 'linestyle': '-', 'linewidth': 3}\n",
    "capprops = {'color': 'black', 'linestyle': '-', 'linewidth': 3}\n",
    "flierprops = {'color': 'black', 'marker': 'o', 'markersize': 1, 'markeredgewidth': 2}\n",
    "#\n",
    "#d_SIC_mon_sel.boxplot()\n",
    "#fig1 = plt.figure()\n",
    "#ax1 = fig1.add_axes([0.1,0.1,0.8,0.8])\n",
    "#ax1.boxplot(np.transpose(d_SIC_mon[~np.isnan(d_SIC_mon)]),medianprops=medianprops,boxprops=boxprops,\n",
    "#                        whiskerprops=whiskerprops,capprops=capprops,\n",
    "#                        flierprops=flierprops)\n",
    "ax = sns.boxplot(data=d_SIC_mon,flierprops=flierprops)"
   ]
  },
  {
   "cell_type": "code",
   "execution_count": 67,
   "metadata": {},
   "outputs": [
    {
     "data": {
      "text/plain": [
       "array([ 1,  2,  3,  4,  5,  6,  7,  8,  9, 10, 11, 12])"
      ]
     },
     "execution_count": 67,
     "metadata": {},
     "output_type": "execute_result"
    }
   ],
   "source": [
    "np.arange(1,13)"
   ]
  },
  {
   "cell_type": "code",
   "execution_count": 92,
   "metadata": {
    "scrolled": false
   },
   "outputs": [
    {
     "data": {
      "text/plain": [
       "[<matplotlib.lines.Line2D at 0x7ff642d7c6d8>]"
      ]
     },
     "execution_count": 92,
     "metadata": {},
     "output_type": "execute_result"
    },
    {
     "data": {
      "image/png": "[encoded data removed]",
      "text/plain": [
       "<Figure size 432x288 with 1 Axes>"
      ]
     },
     "metadata": {
      "needs_background": "light"
     },
     "output_type": "display_data"
    }
   ],
   "source": [
    "fig2 = plt.figure()\n",
    "ax2 = fig2.add_axes([0.1,0.1,0.8,0.8])\n",
    "bins = np.linspace(-0.8,0.8,1000)\n",
    "d_SIC_test = d_SIC_mon.iloc[1:,9]\n",
    "H_lead = stats.gaussian_kde(d_SIC_test[~np.isnan(d_SIC_test)])\n",
    "H_lead_plot = H_lead.evaluate(bins)\n",
    "ax2.plot(bins,H_lead_plot)"
   ]
  },
  {
   "cell_type": "code",
   "execution_count": 93,
   "metadata": {},
   "outputs": [
    {
     "data": {
      "text/plain": [
       "[<matplotlib.lines.Line2D at 0x7ff64269ecc0>]"
      ]
     },
     "execution_count": 93,
     "metadata": {},
     "output_type": "execute_result"
    },
    {
     "data": {
      "image/png": "[encoded data removed]",
      "text/plain": [
       "<Figure size 432x288 with 1 Axes>"
      ]
     },
     "metadata": {
      "needs_background": "light"
     },
     "output_type": "display_data"
    }
   ],
   "source": [
    "fig3 = plt.figure()\n",
    "ax3 = fig3.add_axes([0.1,0.1,0.8,0.8])\n",
    "plt.plot(d_SIC_test)"
   ]
  },
  {
   "cell_type": "code",
   "execution_count": null,
   "metadata": {},
   "outputs": [],
   "source": []
  }
 ],
 "metadata": {
  "kernelspec": {
   "display_name": "Python 3",
   "language": "python",
   "name": "python3"
  },
  "language_info": {
   "codemirror_mode": {
    "name": "ipython",
    "version": 3
   },
   "file_extension": ".py",
   "mimetype": "text/x-python",
   "name": "python",
   "nbconvert_exporter": "python",
   "pygments_lexer": "ipython3",
   "version": "3.7.3"
  }
 },
 "nbformat": 4,
 "nbformat_minor": 2
}
