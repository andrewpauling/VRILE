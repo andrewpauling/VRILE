{
 "cells": [
  {
   "cell_type": "code",
   "execution_count": 19,
   "metadata": {},
   "outputs": [],
   "source": [
    "import xarray as xr\n",
    "import numpy as np\n",
    "import pandas as pd\n",
    "import matplotlib.pyplot as plt\n",
    "import cartopy\n",
    "import cartopy.crs as ccrs"
   ]
  },
  {
   "cell_type": "code",
   "execution_count": 39,
   "metadata": {
    "scrolled": true
   },
   "outputs": [
    {
     "name": "stdout",
     "output_type": "stream",
     "text": [
      "[[31.10267 31.25011 31.39756 ... 34.34589 34.1987  34.05146]\n",
      " [31.19941 31.34728 31.49517 ... 34.45253 34.30486 34.15716]\n",
      " [31.2958  31.4441  31.59241 ... 34.55881 34.41067 34.26249]\n",
      " ...\n",
      " [31.67774 31.82774 31.97777 ... 34.98027 34.83024 34.68019]\n",
      " [31.5828  31.73238 31.88198 ... 34.87546 34.72591 34.57632]\n",
      " [31.4875  31.63665 31.78583 ... 34.77028 34.6212  34.47208]]\n"
     ]
    }
   ],
   "source": [
    "filepath = '/home/disk/sipn/nicway/data/obs/NSIDC_0081/sipn_nc/'\n",
    "full_files = filepath+'nt_201909*.nc'\n",
    "sic_load = xr.open_mfdataset(full_files,concat_dim='time')\n",
    "sic = sic_load['sic']\n",
    "extent = sic_load['extent']\n",
    "area = sic_load['area']\n",
    "print(sic_load['lat'].values)"
   ]
  },
  {
   "cell_type": "code",
   "execution_count": 34,
   "metadata": {},
   "outputs": [
    {
     "data": {
      "text/plain": [
       "<matplotlib.contour.QuadContourSet at 0x7ff9b052fa58>"
      ]
     },
     "execution_count": 34,
     "metadata": {},
     "output_type": "execute_result"
    },
    {
     "data": {
      "image/png": "[encoded data removed]",
      "text/plain": [
       "<Figure size 432x288 with 2 Axes>"
      ]
     },
     "metadata": {
      "needs_background": "light"
     },
     "output_type": "display_data"
    }
   ],
   "source": [
    "sic_plt = sic.mean(axis=0)\n",
    "ax1 = plt.axes(projection=ccrs.Mercator())\n",
    "#sic_plt.plot.contourf(ax=ax1,transform=ccrs.PlateCarree())\n",
    "sic_plt.plot.contourf()"
   ]
  },
  {
   "cell_type": "code",
   "execution_count": null,
   "metadata": {},
   "outputs": [],
   "source": []
  }
 ],
 "metadata": {
  "kernelspec": {
   "display_name": "Python 3",
   "language": "python",
   "name": "python3"
  },
  "language_info": {
   "codemirror_mode": {
    "name": "ipython",
    "version": 3
   },
   "file_extension": ".py",
   "mimetype": "text/x-python",
   "name": "python",
   "nbconvert_exporter": "python",
   "pygments_lexer": "ipython3",
   "version": "3.7.3"
  }
 },
 "nbformat": 4,
 "nbformat_minor": 2
}
